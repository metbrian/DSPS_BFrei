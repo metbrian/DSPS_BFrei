{
  "nbformat": 4,
  "nbformat_minor": 0,
  "metadata": {
    "colab": {
      "name": "MBoltzmannDistribution.ipynb",
      "provenance": [],
      "collapsed_sections": [],
      "include_colab_link": true
    },
    "kernelspec": {
      "display_name": "Python 3",
      "language": "python",
      "name": "python3"
    },
    "language_info": {
      "codemirror_mode": {
        "name": "ipython",
        "version": 3
      },
      "file_extension": ".py",
      "mimetype": "text/x-python",
      "name": "python",
      "nbconvert_exporter": "python",
      "pygments_lexer": "ipython3",
      "version": "3.7.3"
    },
    "latex_envs": {
      "LaTeX_envs_menu_present": true,
      "autoclose": false,
      "autocomplete": true,
      "bibliofile": "biblio.bib",
      "cite_by": "apalike",
      "current_citInitial": 1,
      "eqLabelWithNumbers": true,
      "eqNumInitial": 1,
      "hotkeys": {
        "equation": "Ctrl-E",
        "itemize": "Ctrl-I"
      },
      "labels_anchors": false,
      "latex_user_defs": false,
      "report_style_numbering": false,
      "user_envs_cfg": false
    },
    "nbTranslate": {
      "displayLangs": [
        "*"
      ],
      "hotkey": "alt-t",
      "langInMainMenu": true,
      "sourceLang": "en",
      "targetLang": "fr",
      "useGoogleTranslate": true
    },
    "toc": {
      "base_numbering": 1,
      "nav_menu": {},
      "number_sections": true,
      "sideBar": true,
      "skip_h1_title": false,
      "title_cell": "Table of Contents",
      "title_sidebar": "Contents",
      "toc_cell": false,
      "toc_position": {},
      "toc_section_display": true,
      "toc_window_display": false
    }
  },
  "cells": [
    {
      "cell_type": "markdown",
      "metadata": {
        "id": "view-in-github",
        "colab_type": "text"
      },
      "source": [
        "<a href=\"https://colab.research.google.com/github/metbrian/DSPS_BFrei/blob/main/HW2/MBoltzmannDistribution.ipynb\" target=\"_parent\"><img src=\"https://colab.research.google.com/assets/colab-badge.svg\" alt=\"Open In Colab\"/></a>"
      ]
    },
    {
      "cell_type": "markdown",
      "metadata": {
        "ExecuteTime": {
          "end_time": "2019-09-04T04:50:01.872913Z",
          "start_time": "2019-09-04T04:50:01.869703Z"
        },
        "id": "dk3tkh__KvAc"
      },
      "source": [
        " Written by Federica B. Bianco @fedhere\n",
        "UDel DSPS"
      ]
    },
    {
      "cell_type": "code",
      "metadata": {
        "ExecuteTime": {
          "end_time": "2019-09-07T17:36:53.625807Z",
          "start_time": "2019-09-07T17:36:53.393906Z"
        },
        "colab": {
          "base_uri": "https://localhost:8080/"
        },
        "id": "iQaonMUBqtX2",
        "outputId": "d30c59fb-5ef4-4be7-d2f4-aaceb664aef4"
      },
      "source": [
        "from __future__ import print_function, division\n",
        "import numpy as np\n",
        "import scipy as sp\n",
        "from scipy import stats\n",
        "import pylab as pl\n",
        "%pylab inline\n",
        "pl.style.use(\"https://raw.githubusercontent.com/fedhere/DSPS/master/fbb.mplstyle\")\n"
      ],
      "execution_count": 1,
      "outputs": [
        {
          "output_type": "stream",
          "name": "stdout",
          "text": [
            "Populating the interactive namespace from numpy and matplotlib\n"
          ]
        }
      ]
    },
    {
      "cell_type": "markdown",
      "metadata": {
        "id": "zu5QKDi5b7vW"
      },
      "source": [
        "# Homework 1: Maxwell Boltzmann distribution"
      ]
    },
    {
      "cell_type": "markdown",
      "metadata": {
        "id": "ueaB0mHCO_iM"
      },
      "source": [
        "In Physics, statistics can help us describe the macroscopic behavior of a system if we know its microscopic properties in a statistical sense. We cannot know the motion of each molecule in a gas, but we can know the distribution of their velocities and positions.   In the mid to late 1800s, James Clerk Maxwell and Ludwig Boltzmann modeled the *distribution of speed of molecules in a gas*. As you probably know, and can intuitive realize, the speed of the molecules depends on the temperature of the gas, which is a macroscopic property, the velocity of the molecules is different for different gas temperatures. **This distribution of velocities is called the Maxwell-Boltzmann distribution.**\n"
      ]
    },
    {
      "cell_type": "markdown",
      "metadata": {
        "id": "7LpR51uQSvN9"
      },
      "source": [
        "It turns out that the Maxwel-Boltzmann distribution is a special case of the [*Chi distribution*](https://en.wikipedia.org/wiki/Chi_distribution) with 3 degrees of freedom, and with a scale parameter corresponding to the temperature in some way. \n"
      ]
    },
    {
      "cell_type": "markdown",
      "metadata": {
        "id": "Pc25lN9SUxQL"
      },
      "source": [
        "Below I have created 3 distributions. Based on the description above\n",
        "\n",
        "\n",
        "# 1) label the axes in the plot"
      ]
    },
    {
      "cell_type": "code",
      "metadata": {
        "ExecuteTime": {
          "end_time": "2019-09-07T17:36:56.493299Z",
          "start_time": "2019-09-07T17:36:56.021862Z"
        },
        "colab": {
          "base_uri": "https://localhost:8080/",
          "height": 336
        },
        "id": "LZm2afzhUwuG",
        "outputId": "61b6609e-c84f-467e-89fd-340bbea783f2"
      },
      "source": [
        "np.random.randn(123)\n",
        "fig, ax = pl.subplots()\n",
        "for a in [0.2, 0.6, 1.0]:\n",
        "    ax.hist(sp.stats.chi.rvs(df=3, scale=a, size=1000), # could as well be sp.stats.maxwell.rvs(scale=a, size=1000)\n",
        "          bins=np.arange(0,5,0.1), alpha=0.7,\n",
        "       label=\"a = %.1f\"%a);\n",
        "\n",
        "pl.legend();\n",
        "\n",
        "# your code to add labels here\n",
        "pl.xlabel('Velocity')\n",
        "pl.ylabel('Number of Molecules')\n",
        "pl.xticks(np.arange(0,4,step=0.5), fontsize=12)\n",
        "pl.yticks(fontsize=12)"
      ],
      "execution_count": 2,
      "outputs": [
        {
          "output_type": "execute_result",
          "data": {
            "text/plain": [
              "(array([  0.,  50., 100., 150., 200., 250., 300., 350.]),\n",
              " <a list of 8 Text major ticklabel objects>)"
            ]
          },
          "metadata": {},
          "execution_count": 2
        },
        {
          "output_type": "stream",
          "name": "stderr",
          "text": [
            "findfont: Font family ['[\"sans-serif\"]'] not found. Falling back to DejaVu Sans.\n",
            "findfont: Font family ['[\"sans-serif\"]'] not found. Falling back to DejaVu Sans.\n"
          ]
        },
        {
          "output_type": "display_data",
          "data": {
            "image/png": "[encoded data removed]",
            "text/plain": [
              "<Figure size 432x288 with 1 Axes>"
            ]
          },
          "metadata": {
            "needs_background": "light"
          }
        }
      ]
    },
    {
      "cell_type": "markdown",
      "metadata": {
        "id": "MGdILsLAaopl"
      },
      "source": [
        "# 2) knowing that the *scale* parameter $a$  is a function of the temperature  *T*, and that the dependency is to a power 1/2, which is correct:\n",
        "   **$a \\propto \\sqrt{T}$**  or **$a \\propto \\sqrt{1/T}$**? \n",
        "\n",
        "   (in other words, is the dependency on the root of the temperature or on the inverse root of the temperature ?)\n",
        " "
      ]
    },
    {
      "cell_type": "markdown",
      "metadata": {
        "id": "vMGhorbvcrFM"
      },
      "source": [
        "A is proportional to sqrt(T), so the root of temperature, not the inverse of the root. As temperature increases, a increases as well (although at a slower rate due to the square root)."
      ]
    },
    {
      "cell_type": "markdown",
      "metadata": {
        "id": "hGeeXYttXLO1"
      },
      "source": [
        "\n",
        "# 3) What is the mean of all three distributions. How does it compare to the most probable molecular speed? \n",
        "From the wikipedia page of the Chi distribution find the formula of the mean of the Chi distribution. The distribution we are using has a scale parameter *a* in addition to the number of degrees of freedom. The mean scales linearly with this parameter:\n",
        "\n",
        "$\\mu_{\\mathrm{MB}, k, a} = a \\cdot \\mu_{\\mathrm{chi}, k}$\n",
        "\n",
        "Using the scipy function ```sp.special.gamma()```  calculate the gamma $\\Gamma$ function,\n",
        "\n",
        "**calculate the mean of all three distributions. Compare it with the mean of the empirical distributions I generated in step 1. How does this mean compare to the most probable molecular speed.**"
      ]
    },
    {
      "cell_type": "code",
      "metadata": {
        "ExecuteTime": {
          "end_time": "2019-09-07T17:36:59.245480Z",
          "start_time": "2019-09-07T17:36:59.243338Z"
        },
        "id": "-8htAA4mRAVa",
        "colab": {
          "base_uri": "https://localhost:8080/"
        },
        "outputId": "0f87efbd-06e8-4577-c049-f25435735b37"
      },
      "source": [
        "# your code here\n",
        "#define k:\n",
        "k = 3.0\n",
        "#define scale parameter a:\n",
        "a1 = 0.2\n",
        "a2 = 0.6\n",
        "a3 = 1.0\n",
        "#calculate means\n",
        "u1 = a1*np.sqrt(2)*(sp.special.gamma((k+1)/2)/sp.special.gamma(k/2))\n",
        "u2 = a2*np.sqrt(2)*(sp.special.gamma((k+1)/2)/sp.special.gamma(k/2))\n",
        "u3 = a3*np.sqrt(2)*(sp.special.gamma((k+1)/2)/sp.special.gamma(k/2))\n",
        "print('calculated means: ',u1,u2,u3)\n",
        "\n",
        "#calculated actual means to make comparison easier\n",
        "dist_means = np.zeros(3)\n",
        "dist_means[0] = np.mean(sp.stats.chi.rvs(df=3, scale=0.2, size=1000))\n",
        "dist_means[1] = np.mean(sp.stats.chi.rvs(df=3, scale=0.6, size=1000))\n",
        "dist_means[2] = np.mean(sp.stats.chi.rvs(df=3, scale=1.0, size=1000))\n",
        "print('means from distribution: ',dist_means)"
      ],
      "execution_count": null,
      "outputs": [
        {
          "output_type": "stream",
          "name": "stdout",
          "text": [
            "calculated means:  0.3191538243211462 0.9574614729634384 1.5957691216057308\n",
            "means from distribution:  [0.32259    0.97026835 1.57101563]\n"
          ]
        }
      ]
    },
    {
      "cell_type": "markdown",
      "metadata": {
        "id": "GbDkMtCzR7kL"
      },
      "source": [
        "The calculated means from step 3 are very close to the means of the empirical distributions from step 1 (seen from dist_means calculations and from visual comparison). The most probable molecular speed (the mode)  is lower than the mean for each of the three distributions. This means that the distribution decreases more gradually to the right of the mean. It is also important to note that for velocities (a continuous field), it is arbitrary how you break them down into bins, so this representation could be skewed by that factor as well. "
      ]
    },
    {
      "cell_type": "markdown",
      "metadata": {
        "id": "r7oes80EQER-"
      },
      "source": [
        "This really only holds for perfect gasses, which means under 4 assumptions: \n",
        "- the diameter of the molecules is much smaller than the distance between them\n",
        "- the collisions between molecules conserve energy\n",
        "- the molecules do not interact between collisions and are not subject to any other forces (move at constant speed in a straight line)\n",
        "- the initial position and velocity are random."
      ]
    },
    {
      "cell_type": "markdown",
      "metadata": {
        "id": "3PJ9hjLzQjyA"
      },
      "source": [
        "# Extra Credit:\n",
        "\n",
        "can you create a python (2D) simulation where the molecules behave as describe and calculate their speed evolution from an initial speed that is gaussian distributed? (rather hard!!)\n"
      ]
    },
    {
      "cell_type": "code",
      "metadata": {
        "ExecuteTime": {
          "end_time": "2019-09-07T17:37:01.623460Z",
          "start_time": "2019-09-07T17:37:01.621218Z"
        },
        "id": "6LJU9GPVRO7B"
      },
      "source": [
        "# your code here"
      ],
      "execution_count": null,
      "outputs": []
    },
    {
      "cell_type": "code",
      "metadata": {
        "id": "WN8ljqmZPCBT"
      },
      "source": [
        ""
      ],
      "execution_count": null,
      "outputs": []
    }
  ]
}