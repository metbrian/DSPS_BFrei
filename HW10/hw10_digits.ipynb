{
  "nbformat": 4,
  "nbformat_minor": 0,
  "metadata": {
    "colab": {
      "name": "hw10_digits.ipynb",
      "provenance": [],
      "authorship_tag": "ABX9TyNtaL70f6nFJ3j8poHgErqA",
      "include_colab_link": true
    },
    "kernelspec": {
      "name": "python3",
      "display_name": "Python 3"
    },
    "language_info": {
      "name": "python"
    }
  },
  "cells": [
    {
      "cell_type": "markdown",
      "metadata": {
        "id": "view-in-github",
        "colab_type": "text"
      },
      "source": [
        "<a href=\"https://colab.research.google.com/github/metbrian/DSPS_BFrei/blob/main/HW10/hw10_digits.ipynb\" target=\"_parent\"><img src=\"https://colab.research.google.com/assets/colab-badge.svg\" alt=\"Open In Colab\"/></a>"
      ]
    },
    {
      "cell_type": "code",
      "execution_count": 1,
      "metadata": {
        "colab": {
          "base_uri": "https://localhost:8080/"
        },
        "id": "Xy8PiEAaYSAS",
        "outputId": "5fbb795e-3af3-4f8d-b2b7-987c6db80e22"
      },
      "outputs": [
        {
          "output_type": "stream",
          "name": "stdout",
          "text": [
            "Populating the interactive namespace from numpy and matplotlib\n"
          ]
        }
      ],
      "source": [
        "import keras\n",
        "from keras.datasets import mnist\n",
        "from keras.models import Sequential\n",
        "from keras import optimizers\n",
        "from keras.layers import Dense#, Dropout, Flatten\n",
        "#from keras.layers import Conv2D, MaxPooling2D\n",
        "#from keras import backend as K\n",
        "#import glob\n",
        "import pylab as pl\n",
        "from PIL import Image\n",
        "%pylab inline"
      ]
    },
    {
      "cell_type": "code",
      "source": [
        "from keras.callbacks import EarlyStopping\n",
        "callback = EarlyStopping(monitor='val_loss', patience=5, min_delta=0.0001)"
      ],
      "metadata": {
        "id": "vG9XGSx8Z9Fk"
      },
      "execution_count": 2,
      "outputs": []
    },
    {
      "cell_type": "code",
      "source": [
        "from tensorflow import keras\n",
        "from keras import optimizers"
      ],
      "metadata": {
        "id": "XB-E18NCaH-x"
      },
      "execution_count": 3,
      "outputs": []
    },
    {
      "cell_type": "code",
      "source": [
        "from keras.datasets import mnist\n",
        "#Load in y (actualy digit) data also for prediction\n",
        "(x_train, y_train), (x_test, y_test) = mnist.load_data()\n",
        "\n",
        "ndim = x_train.shape[1]**2\n",
        "\n",
        "x_train = (x_train.astype(float) / 255).reshape(len(x_train), ndim)\n",
        "x_test = (x_test.astype(float) / 255).reshape(len(x_test), ndim)"
      ],
      "metadata": {
        "colab": {
          "base_uri": "https://localhost:8080/"
        },
        "id": "DOnrxLKfYbMU",
        "outputId": "6833d3e5-7078-4c89-f79a-c96ef95a4cbf"
      },
      "execution_count": 4,
      "outputs": [
        {
          "output_type": "stream",
          "name": "stdout",
          "text": [
            "Downloading data from https://storage.googleapis.com/tensorflow/tf-keras-datasets/mnist.npz\n",
            "11493376/11490434 [==============================] - 0s 0us/step\n",
            "11501568/11490434 [==============================] - 0s 0us/step\n"
          ]
        }
      ]
    },
    {
      "cell_type": "code",
      "source": [
        "from tensorflow.keras.utils import to_categorical\n",
        "num_classes = 10\n",
        "#convert y data into categorical variable for classification in neural network\n",
        "y_train = to_categorical(y_train, num_classes)\n",
        "y_test = to_categorical(y_test, num_classes)\n"
      ],
      "metadata": {
        "id": "Y5Le4RQ5vBwb"
      },
      "execution_count": 5,
      "outputs": []
    },
    {
      "cell_type": "code",
      "source": [
        "x_train.shape, y_train.shape"
      ],
      "metadata": {
        "colab": {
          "base_uri": "https://localhost:8080/"
        },
        "id": "RezyP4r8vE2q",
        "outputId": "2e13f517-bfd0-4c84-ed0b-7843494aeec0"
      },
      "execution_count": 6,
      "outputs": [
        {
          "output_type": "execute_result",
          "data": {
            "text/plain": [
              "((60000, 784), (60000, 10))"
            ]
          },
          "metadata": {},
          "execution_count": 6
        }
      ]
    },
    {
      "cell_type": "code",
      "source": [
        "x_test.shape, y_test.shape"
      ],
      "metadata": {
        "colab": {
          "base_uri": "https://localhost:8080/"
        },
        "id": "rQdXUUMWyQJ2",
        "outputId": "69a8e41a-bb1f-4d80-a1c0-7147a0978ed2"
      },
      "execution_count": 7,
      "outputs": [
        {
          "output_type": "execute_result",
          "data": {
            "text/plain": [
              "((10000, 784), (10000, 10))"
            ]
          },
          "metadata": {},
          "execution_count": 7
        }
      ]
    },
    {
      "cell_type": "code",
      "source": [
        "x_train.dtype, x_train.max(), x_train.min()"
      ],
      "metadata": {
        "colab": {
          "base_uri": "https://localhost:8080/"
        },
        "id": "xnVthpZ-Yfjr",
        "outputId": "65c42dff-5a1b-4479-927d-1aa2317e93c3"
      },
      "execution_count": 8,
      "outputs": [
        {
          "output_type": "execute_result",
          "data": {
            "text/plain": [
              "(dtype('float64'), 1.0, 0.0)"
            ]
          },
          "metadata": {},
          "execution_count": 8
        }
      ]
    },
    {
      "cell_type": "code",
      "source": [
        "xshape = x_train.shape[1]"
      ],
      "metadata": {
        "id": "wAJzYYG4YrGR"
      },
      "execution_count": 9,
      "outputs": []
    },
    {
      "cell_type": "code",
      "source": [
        "model = Sequential()\n",
        "## encoder\n",
        "# input layer\n",
        "model.add(Dense(256, activation='relu', input_dim=ndim))\n",
        "model.add(Dense(128, activation='relu'))\n",
        "model.add(Dense(64, activation='relu'))\n",
        "model.add(Dense(32, activation='relu'))\n",
        "#Don't need decoder here, as we did for reproducing the images in the exercise\n",
        "\n",
        "# output layer for only classification - 10 neurons\n",
        "model.add(Dense(num_classes, activation='sigmoid'))\n",
        "\n",
        "#Found most success with a very small learning rate, and a categorical\n",
        "#loss function. \n",
        "opt = keras.optimizers.Adam(learning_rate=0.0001)\n",
        "model.compile(loss=\"categorical_crossentropy\", optimizer=opt)\n",
        "#Use x_train and y_train here to train it using actual digits\n",
        "history = model.fit(x_train, y_train, \n",
        "                               validation_data=(x_train, y_train),\n",
        "                               epochs=20, batch_size=80, verbose=1,\n",
        "                               callbacks=[callback])\n",
        "\n"
      ],
      "metadata": {
        "colab": {
          "base_uri": "https://localhost:8080/"
        },
        "id": "2htWLehlaUoX",
        "outputId": "9d559dcd-0abd-4392-fcf6-3c71002a65c1"
      },
      "execution_count": 18,
      "outputs": [
        {
          "output_type": "stream",
          "name": "stdout",
          "text": [
            "Epoch 1/20\n",
            "750/750 [==============================] - 6s 8ms/step - loss: 0.6742 - val_loss: 0.2697\n",
            "Epoch 2/20\n",
            "750/750 [==============================] - 7s 9ms/step - loss: 0.2288 - val_loss: 0.1922\n",
            "Epoch 3/20\n",
            "750/750 [==============================] - 7s 9ms/step - loss: 0.1743 - val_loss: 0.1496\n",
            "Epoch 4/20\n",
            "750/750 [==============================] - 6s 8ms/step - loss: 0.1437 - val_loss: 0.1256\n",
            "Epoch 5/20\n",
            "750/750 [==============================] - 7s 9ms/step - loss: 0.1218 - val_loss: 0.1076\n",
            "Epoch 6/20\n",
            "750/750 [==============================] - 7s 9ms/step - loss: 0.1045 - val_loss: 0.0904\n",
            "Epoch 7/20\n",
            "750/750 [==============================] - 6s 9ms/step - loss: 0.0910 - val_loss: 0.0794\n",
            "Epoch 8/20\n",
            "750/750 [==============================] - 6s 7ms/step - loss: 0.0811 - val_loss: 0.0687\n",
            "Epoch 9/20\n",
            "750/750 [==============================] - 6s 7ms/step - loss: 0.0711 - val_loss: 0.0627\n",
            "Epoch 10/20\n",
            "750/750 [==============================] - 7s 9ms/step - loss: 0.0630 - val_loss: 0.0569\n",
            "Epoch 11/20\n",
            "750/750 [==============================] - 5s 7ms/step - loss: 0.0562 - val_loss: 0.0502\n",
            "Epoch 12/20\n",
            "750/750 [==============================] - 6s 9ms/step - loss: 0.0500 - val_loss: 0.0430\n",
            "Epoch 13/20\n",
            "750/750 [==============================] - 6s 9ms/step - loss: 0.0444 - val_loss: 0.0367\n",
            "Epoch 14/20\n",
            "750/750 [==============================] - 7s 9ms/step - loss: 0.0395 - val_loss: 0.0343\n",
            "Epoch 15/20\n",
            "750/750 [==============================] - 6s 7ms/step - loss: 0.0352 - val_loss: 0.0303\n",
            "Epoch 16/20\n",
            "750/750 [==============================] - 6s 8ms/step - loss: 0.0312 - val_loss: 0.0256\n",
            "Epoch 17/20\n",
            "750/750 [==============================] - 6s 7ms/step - loss: 0.0284 - val_loss: 0.0256\n",
            "Epoch 18/20\n",
            "750/750 [==============================] - 7s 9ms/step - loss: 0.0247 - val_loss: 0.0211\n",
            "Epoch 19/20\n",
            "750/750 [==============================] - 6s 8ms/step - loss: 0.0215 - val_loss: 0.0163\n",
            "Epoch 20/20\n",
            "750/750 [==============================] - 5s 7ms/step - loss: 0.0197 - val_loss: 0.0165\n"
          ]
        }
      ]
    },
    {
      "cell_type": "code",
      "source": [
        "pl.plot(np.array(history.history['loss']), label=\"training\")\n",
        "pl.plot(np.array(history.history['val_loss']), label=\"validation\")\n",
        "pl.ylabel('loss')\n",
        "pl.xlabel('iteration')\n",
        "pl.title(\"Loss Function for FF Neural Network\")\n",
        "pl.legend()"
      ],
      "metadata": {
        "colab": {
          "base_uri": "https://localhost:8080/",
          "height": 312
        },
        "id": "Qe0KIkhrcDul",
        "outputId": "5d71d627-1344-467b-acde-0006a6a760ab"
      },
      "execution_count": 19,
      "outputs": [
        {
          "output_type": "execute_result",
          "data": {
            "text/plain": [
              "<matplotlib.legend.Legend at 0x7fa7ba759110>"
            ]
          },
          "metadata": {},
          "execution_count": 19
        },
        {
          "output_type": "display_data",
          "data": {
            "image/png": "[encoded data removed]",
            "text/plain": [
              "<Figure size 432x288 with 1 Axes>"
            ]
          },
          "metadata": {
            "needs_background": "light"
          }
        }
      ]
    },
    {
      "cell_type": "code",
      "source": [
        "output = model.predict(x_test)"
      ],
      "metadata": {
        "id": "7Mb50PGUSamM"
      },
      "execution_count": 20,
      "outputs": []
    },
    {
      "cell_type": "code",
      "source": [
        "output.shape"
      ],
      "metadata": {
        "colab": {
          "base_uri": "https://localhost:8080/"
        },
        "id": "ZApU9w6Ybqq4",
        "outputId": "0c6b00ad-3414-430c-f084-332f8333951e"
      },
      "execution_count": 21,
      "outputs": [
        {
          "output_type": "execute_result",
          "data": {
            "text/plain": [
              "(10000, 10)"
            ]
          },
          "metadata": {},
          "execution_count": 21
        }
      ]
    },
    {
      "cell_type": "code",
      "source": [
        "model.summary()"
      ],
      "metadata": {
        "colab": {
          "base_uri": "https://localhost:8080/"
        },
        "id": "zt9npZ2LXD0x",
        "outputId": "b36aa14a-a6ac-4410-8407-a28c680912b6"
      },
      "execution_count": 22,
      "outputs": [
        {
          "output_type": "stream",
          "name": "stdout",
          "text": [
            "Model: \"sequential_2\"\n",
            "_________________________________________________________________\n",
            " Layer (type)                Output Shape              Param #   \n",
            "=================================================================\n",
            " dense_10 (Dense)            (None, 256)               200960    \n",
            "                                                                 \n",
            " dense_11 (Dense)            (None, 128)               32896     \n",
            "                                                                 \n",
            " dense_12 (Dense)            (None, 64)                8256      \n",
            "                                                                 \n",
            " dense_13 (Dense)            (None, 32)                2080      \n",
            "                                                                 \n",
            " dense_14 (Dense)            (None, 10)                330       \n",
            "                                                                 \n",
            "=================================================================\n",
            "Total params: 244,522\n",
            "Trainable params: 244,522\n",
            "Non-trainable params: 0\n",
            "_________________________________________________________________\n"
          ]
        }
      ]
    },
    {
      "cell_type": "code",
      "source": [
        "#take the output of the 10 neurons containing weights, and use\n",
        "#argmax to find the actual output digits that are a result of the NN\n",
        "output1=np.argmax(output,axis=1)"
      ],
      "metadata": {
        "id": "sWvarzpTb2G2"
      },
      "execution_count": 24,
      "outputs": []
    },
    {
      "cell_type": "code",
      "source": [
        "output1.shape"
      ],
      "metadata": {
        "colab": {
          "base_uri": "https://localhost:8080/"
        },
        "id": "i7OZQr2iTdbP",
        "outputId": "ccce2fc1-28ae-4e1a-ea4d-956e5dc159b3"
      },
      "execution_count": 29,
      "outputs": [
        {
          "output_type": "execute_result",
          "data": {
            "text/plain": [
              "(10000,)"
            ]
          },
          "metadata": {},
          "execution_count": 29
        }
      ]
    },
    {
      "cell_type": "code",
      "source": [
        "#Classification output:\n",
        "output1"
      ],
      "metadata": {
        "colab": {
          "base_uri": "https://localhost:8080/"
        },
        "id": "imDb-Ff0VrCB",
        "outputId": "93fe9d34-bb63-4a61-e4b6-0240b8da8d34"
      },
      "execution_count": 25,
      "outputs": [
        {
          "output_type": "execute_result",
          "data": {
            "text/plain": [
              "array([7, 2, 1, ..., 4, 5, 6])"
            ]
          },
          "metadata": {},
          "execution_count": 25
        }
      ]
    },
    {
      "cell_type": "code",
      "source": [
        "y_test1 = np.argmax(y_test,axis=1)"
      ],
      "metadata": {
        "id": "uBrMQY7sTlVG"
      },
      "execution_count": 32,
      "outputs": []
    },
    {
      "cell_type": "code",
      "source": [
        "y_test1"
      ],
      "metadata": {
        "colab": {
          "base_uri": "https://localhost:8080/"
        },
        "id": "n95gyXBXTt2s",
        "outputId": "68555d69-dad9-4656-f201-dcce9713a095"
      },
      "execution_count": 33,
      "outputs": [
        {
          "output_type": "execute_result",
          "data": {
            "text/plain": [
              "array([7, 2, 1, ..., 4, 5, 6])"
            ]
          },
          "metadata": {},
          "execution_count": 33
        }
      ]
    },
    {
      "cell_type": "code",
      "source": [
        "count = 0\n",
        "for i in range(y_test1.size):\n",
        "  if y_test1[i] != output1[i]:\n",
        "    count = count+1\n"
      ],
      "metadata": {
        "id": "Jznd2NFHWHU5"
      },
      "execution_count": 46,
      "outputs": []
    },
    {
      "cell_type": "code",
      "source": [
        "accuracy = (y_test1.size - count) / y_test1.size"
      ],
      "metadata": {
        "id": "E5HdWKZQWuJa"
      },
      "execution_count": 50,
      "outputs": []
    },
    {
      "cell_type": "code",
      "source": [
        "print(\"Neural Netowork Accuracy:\", accuracy)"
      ],
      "metadata": {
        "colab": {
          "base_uri": "https://localhost:8080/"
        },
        "id": "7rrJLMvDW_wH",
        "outputId": "aba9a99a-4450-46b3-93c7-5f1fe3ee3ce0"
      },
      "execution_count": 51,
      "outputs": [
        {
          "output_type": "stream",
          "name": "stdout",
          "text": [
            "Neural Netowork Accuracy: 0.9772\n"
          ]
        }
      ]
    }
  ]
}