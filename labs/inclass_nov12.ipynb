{
  "nbformat": 4,
  "nbformat_minor": 0,
  "metadata": {
    "colab": {
      "name": "inclass_nov12.ipynb",
      "provenance": [],
      "mount_file_id": "1gEGWkiiWpKZamWn0ezKK0t4kWFoTXgzp",
      "authorship_tag": "ABX9TyMQhxrYFQbUlDAeesjfCHuM",
      "include_colab_link": true
    },
    "kernelspec": {
      "name": "python3",
      "display_name": "Python 3"
    },
    "language_info": {
      "name": "python"
    }
  },
  "cells": [
    {
      "cell_type": "markdown",
      "metadata": {
        "id": "view-in-github",
        "colab_type": "text"
      },
      "source": [
        "<a href=\"https://colab.research.google.com/github/metbrian/DSPS_BFrei/blob/main/labs/inclass_nov12.ipynb\" target=\"_parent\"><img src=\"https://colab.research.google.com/assets/colab-badge.svg\" alt=\"Open In Colab\"/></a>"
      ]
    },
    {
      "cell_type": "code",
      "metadata": {
        "colab": {
          "base_uri": "https://localhost:8080/"
        },
        "id": "EMT6wFONoqGa",
        "outputId": "5b954678-b94e-4004-e0fe-de4c04ac040d"
      },
      "source": [
        "cd /content/drive/MyDrive/"
      ],
      "execution_count": 1,
      "outputs": [
        {
          "output_type": "stream",
          "name": "stdout",
          "text": [
            "/content/drive/MyDrive\n"
          ]
        }
      ]
    },
    {
      "cell_type": "code",
      "metadata": {
        "colab": {
          "base_uri": "https://localhost:8080/"
        },
        "id": "PDfwv-JYpRyv",
        "outputId": "3e6b0b5e-75f6-4d51-cf21-9f026ab397a1"
      },
      "source": [
        "ls\n"
      ],
      "execution_count": 2,
      "outputs": [
        {
          "output_type": "stream",
          "name": "stdout",
          "text": [
            "\u001b[0m\u001b[01;34m'1-km downscaled urban data'\u001b[0m/\n",
            " Allen_Final_Thesis_Presentation_Oct16.pptx\n",
            "'AMS Abstract.gdoc'\n",
            "'Associate Availability Form F10.gsheet'\n",
            "'Brian-faculty-ta-contract - ENSC101 - F2020.docx'\n",
            "'Brian-faculty-ta-contract - ENSC101 - F2020.gdoc'\n",
            "'Brian Frei EmPOWER_contract.docx'\n",
            "'Brian Frei EmPOWER Mentor Questionnaire.docx'\n",
            " c02.gsheet\n",
            "'C02 Lab Data.gsheet'\n",
            "'CEOE EmPOWER Mentee Questionnaire (1) (1).gdoc'\n",
            "'CEOE EmPOWER Mentee Questionnaire (1).docx'\n",
            "'CEOE EmPOWER Mentee Questionnaire (1).gdoc'\n",
            "\u001b[01;34m'Colab Notebooks'\u001b[0m/\n",
            " compressed_ancillary_and_baseyear.zip\n",
            " compressed_netcdf.zip\n",
            "'Copy of Associate Availability Form F10 [Availability Form].gform'\n",
            "'Copy of CO2 Data 1976-2020.gsheet'\n",
            "'Copy of GEOG 152 ENSO Lab: Cold Tongue Index and Indonesia Precipitation (1).gsheet'\n",
            "'Copy of GEOG 152 ENSO Lab: Cold Tongue Index and Indonesia Precipitation.gsheet'\n",
            "'Copy of Lab 5 - The Surface Radiation Balance.gsheet'\n",
            "'Copy of Schedule Template.gsheet'\n",
            " dsps_slide_deck9.gdoc\n",
            " geo_em.d01.nc\n",
            " geo_em.d02.nc\n",
            "'GEOG152 Lab 1.pptx'\n",
            "'GEOG152_Lab 2 Slides.pptx'\n",
            " GEOGRID.TBL\n",
            "'Getting started.pdf'\n",
            "'GFD Course Project.gdoc'\n",
            "'GFD Email.gdoc'\n",
            "'GFD Project Outline.gdoc'\n",
            " kaggle.json\n",
            "'lab1 (1).pptx'\n",
            " lab1.pptx\n",
            "'Lab3 C02.gsheet'\n",
            "'Lab 7 Worksheet.gsheet'\n",
            " labsyllabus.docx\n",
            " lecture1\n",
            "'Lecture 6, 7 & 8.gdoc'\n",
            "'Lecture 9-12.gdoc'\n",
            "'Lectures 4 and 5.gdoc'\n",
            " met_em.d01.2100-06-14_18%3A00%3A00.nc\n",
            " met_em.d02.2100-06-14_18%3A00%3A00.nc\n",
            "'Midlatitude Cyclones in the Pacific Northwest.gslides'\n",
            " namelist.input\n",
            " namelist.output\n",
            " namelist.wps\n",
            "'NewGFD Cush-Rois.gdoc'\n",
            "'NewGFD Cush-Rois.pdf'\n",
            " \u001b[01;34mNSF_GRFP\u001b[0m/\n",
            "'Official Resume.pdf'\n",
            " Organizer.gsheet\n",
            "'OSW Project Final Draft.gdoc'\n",
            " \u001b[01;34mphys_661\u001b[0m/\n",
            "'physics_urban_comp (1).pptx'\n",
            " physics_urban_comp.pptx\n",
            "'Slide Deck 8.gdoc'\n",
            " SOILPARM.TBL\n",
            "'ssp5_2100_compressed (1).nc'\n",
            "'ssp5_2100_compressed (2).nc'\n",
            " ssp5_2100_compressed.nc\n",
            " ssp5_2100.nc.zip\n",
            " subset_nesting.pptx\n",
            "'Untitled document.gdoc'\n",
            " URBPARM.TBL\n",
            " URBPARM_UZE.TBL\n",
            " VEGPARM.TBL\n",
            "\u001b[01;34m'Wind Ramp Research'\u001b[0m/\n",
            " wrfout_d01_2100-06-14_18%3A00%3A00\n",
            " wrfout_d02_2100-06-14_18%3A00%3A00\n"
          ]
        }
      ]
    },
    {
      "cell_type": "code",
      "metadata": {
        "id": "GHtpn4ZPqxLw"
      },
      "source": [
        "!mkdir .kaggle/"
      ],
      "execution_count": 3,
      "outputs": []
    },
    {
      "cell_type": "code",
      "metadata": {
        "id": "fBoezFq3vw1E"
      },
      "source": [
        "!mv kaggle.json .kaggle/"
      ],
      "execution_count": 4,
      "outputs": []
    },
    {
      "cell_type": "code",
      "metadata": {
        "colab": {
          "base_uri": "https://localhost:8080/"
        },
        "id": "zaSeJPGiv4_6",
        "outputId": "48066edf-2c24-4643-e90d-3b2b474547de"
      },
      "source": [
        "ls .kaggle"
      ],
      "execution_count": 5,
      "outputs": [
        {
          "output_type": "stream",
          "name": "stdout",
          "text": [
            "kaggle.json\n"
          ]
        }
      ]
    },
    {
      "cell_type": "code",
      "metadata": {
        "id": "--dkOmAev8Gk"
      },
      "source": [
        "!chmod 600 .kaggle/kaggle.json"
      ],
      "execution_count": 6,
      "outputs": []
    },
    {
      "cell_type": "code",
      "metadata": {
        "id": "Q8nWCphcwSSM"
      },
      "source": [
        "import json\n",
        "envs = json.load(open(\".kaggle/kaggle.json\", \"r\"))"
      ],
      "execution_count": 10,
      "outputs": []
    },
    {
      "cell_type": "code",
      "metadata": {
        "id": "RRCf_G_bwuW6"
      },
      "source": [
        "import os\n",
        "os.environ[\"KAGGLE_USERNAME\"] = envs[\"username\"]\n",
        "os.environ[\"KAGGLE_KEY\"] = envs[\"key\"]"
      ],
      "execution_count": 12,
      "outputs": []
    },
    {
      "cell_type": "code",
      "metadata": {
        "colab": {
          "base_uri": "https://localhost:8080/"
        },
        "id": "_JHCf5XaxLZC",
        "outputId": "b87cf87d-aff2-45f9-f763-227c6fa00e83"
      },
      "source": [
        "!pip install kaggle"
      ],
      "execution_count": 13,
      "outputs": [
        {
          "output_type": "stream",
          "name": "stdout",
          "text": [
            "Requirement already satisfied: kaggle in /usr/local/lib/python3.7/dist-packages (1.5.12)\n",
            "Requirement already satisfied: requests in /usr/local/lib/python3.7/dist-packages (from kaggle) (2.23.0)\n",
            "Requirement already satisfied: six>=1.10 in /usr/local/lib/python3.7/dist-packages (from kaggle) (1.15.0)\n",
            "Requirement already satisfied: python-slugify in /usr/local/lib/python3.7/dist-packages (from kaggle) (5.0.2)\n",
            "Requirement already satisfied: tqdm in /usr/local/lib/python3.7/dist-packages (from kaggle) (4.62.3)\n",
            "Requirement already satisfied: urllib3 in /usr/local/lib/python3.7/dist-packages (from kaggle) (1.24.3)\n",
            "Requirement already satisfied: python-dateutil in /usr/local/lib/python3.7/dist-packages (from kaggle) (2.8.2)\n",
            "Requirement already satisfied: certifi in /usr/local/lib/python3.7/dist-packages (from kaggle) (2021.10.8)\n",
            "Requirement already satisfied: text-unidecode>=1.3 in /usr/local/lib/python3.7/dist-packages (from python-slugify->kaggle) (1.3)\n",
            "Requirement already satisfied: chardet<4,>=3.0.2 in /usr/local/lib/python3.7/dist-packages (from requests->kaggle) (3.0.4)\n",
            "Requirement already satisfied: idna<3,>=2.5 in /usr/local/lib/python3.7/dist-packages (from requests->kaggle) (2.10)\n"
          ]
        }
      ]
    },
    {
      "cell_type": "code",
      "metadata": {
        "colab": {
          "base_uri": "https://localhost:8080/"
        },
        "id": "oMYUKS5uxOmi",
        "outputId": "a3f17895-fe08-4f99-e5b1-841677dfb996"
      },
      "source": [
        "!kaggle datasets list"
      ],
      "execution_count": 14,
      "outputs": [
        {
          "output_type": "stream",
          "name": "stdout",
          "text": [
            "Warning: Looks like you're using an outdated API Version, please consider updating (server 1.5.12 / client 1.5.4)\n",
            "ref                                                         title                                              size  lastUpdated          downloadCount  \n",
            "----------------------------------------------------------  ------------------------------------------------  -----  -------------------  -------------  \n",
            "gpreda/reddit-vaccine-myths                                 Reddit Vaccine Myths                              237KB  2021-11-10 18:11:20          15438  \n",
            "crowww/a-large-scale-fish-dataset                           A Large Scale Fish Dataset                          3GB  2021-04-28 17:03:01           9383  \n",
            "imsparsh/musicnet-dataset                                   MusicNet Dataset                                   22GB  2021-02-18 14:12:19           4197  \n",
            "dhruvildave/wikibooks-dataset                               Wikibooks Dataset                                   2GB  2021-10-22 10:48:21           3428  \n",
            "promptcloud/careerbuilder-job-listing-2020                  Careerbuilder Job Listing 2020                     42MB  2021-03-05 06:59:52           2587  \n",
            "nickuzmenkov/nih-chest-xrays-tfrecords                      NIH Chest X-rays TFRecords                         11GB  2021-03-09 04:49:23           1550  \n",
            "fatiimaezzahra/famous-iconic-women                          Famous Iconic Women                               838MB  2021-02-28 14:56:00           1814  \n",
            "alsgroup/end-als                                            End ALS Kaggle Challenge                           12GB  2021-04-08 12:16:37           1072  \n",
            "mathurinache/twitter-edge-nodes                             Twitter Edge Nodes                                342MB  2021-03-08 06:43:04           1262  \n",
            "simiotic/github-code-snippets                               GitHub Code Snippets                                7GB  2021-03-03 11:34:39            474  \n",
            "mathurinache/the-lj-speech-dataset                          The LJ Speech Dataset                               3GB  2021-02-15 09:19:54            456  \n",
            "coloradokb/dandelionimages                                  DandelionImages                                     4GB  2021-02-19 20:03:47           1001  \n",
            "stuartjames/lights                                          LightS: Light Specularity Dataset                  18GB  2021-02-18 14:32:26            198  \n",
            "imsparsh/accentdb-core-extended                             AccentDB - Core & Extended                          6GB  2021-02-17 14:22:54            175  \n",
            "nickuzmenkov/ranzcr-clip-kfold-tfrecords                    RANZCR CLiP KFold TFRecords                         2GB  2021-02-21 13:29:51            156  \n",
            "landrykezebou/lvzhdr-tone-mapping-benchmark-dataset-tmonet  LVZ-HDR Tone Mapping Benchmark Dataset (TMO-Net)   24GB  2021-03-01 05:03:40            225  \n",
            "datasnaek/youtube-new                                       Trending YouTube Video Statistics                 201MB  2019-06-03 00:56:47         157337  \n",
            "zynicide/wine-reviews                                       Wine Reviews                                       51MB  2017-11-27 17:08:04         148041  \n",
            "residentmario/ramen-ratings                                 Ramen Ratings                                      40KB  2018-01-11 16:04:39          29494  \n",
            "datasnaek/chess                                             Chess Game Dataset (Lichess)                        3MB  2017-09-04 03:09:09          24612  \n"
          ]
        }
      ]
    },
    {
      "cell_type": "code",
      "metadata": {
        "colab": {
          "base_uri": "https://localhost:8080/"
        },
        "id": "CG09Taj3xkLa",
        "outputId": "31887ca6-c367-4bd7-c629-c17d877f8381"
      },
      "source": [
        "!kaggle competitions download -c titanic"
      ],
      "execution_count": 15,
      "outputs": [
        {
          "output_type": "stream",
          "name": "stdout",
          "text": [
            "Warning: Looks like you're using an outdated API Version, please consider updating (server 1.5.12 / client 1.5.4)\n",
            "Downloading test.csv to /content/drive/My Drive\n",
            "  0% 0.00/28.0k [00:00<?, ?B/s]\n",
            "100% 28.0k/28.0k [00:00<00:00, 4.04MB/s]\n",
            "Downloading train.csv to /content/drive/My Drive\n",
            "  0% 0.00/59.8k [00:00<?, ?B/s]\n",
            "100% 59.8k/59.8k [00:00<00:00, 15.9MB/s]\n",
            "Downloading gender_submission.csv to /content/drive/My Drive\n",
            "  0% 0.00/3.18k [00:00<?, ?B/s]\n",
            "100% 3.18k/3.18k [00:00<00:00, 440kB/s]\n"
          ]
        }
      ]
    },
    {
      "cell_type": "code",
      "metadata": {
        "id": "o-Dp-9DEzJBx"
      },
      "source": [
        "!mkdir Titanic"
      ],
      "execution_count": 16,
      "outputs": []
    },
    {
      "cell_type": "code",
      "metadata": {
        "colab": {
          "base_uri": "https://localhost:8080/"
        },
        "id": "iRyfGJq7zOBN",
        "outputId": "d3bf2b44-81b6-4c18-844a-d43e6c5a17e5"
      },
      "source": [
        "cd Titanic/"
      ],
      "execution_count": 17,
      "outputs": [
        {
          "output_type": "stream",
          "name": "stdout",
          "text": [
            "/content/drive/My Drive/Titanic\n"
          ]
        }
      ]
    },
    {
      "cell_type": "code",
      "metadata": {
        "colab": {
          "base_uri": "https://localhost:8080/"
        },
        "id": "Tp5PNWqOzQVr",
        "outputId": "99b9da1d-2eb3-4536-b9b4-8d80565c74b5"
      },
      "source": [
        "!kaggle competitions download -c titanic"
      ],
      "execution_count": 18,
      "outputs": [
        {
          "output_type": "stream",
          "name": "stdout",
          "text": [
            "Warning: Looks like you're using an outdated API Version, please consider updating (server 1.5.12 / client 1.5.4)\n",
            "Downloading train.csv to /content/drive/My Drive/Titanic\n",
            "  0% 0.00/59.8k [00:00<?, ?B/s]\n",
            "100% 59.8k/59.8k [00:00<00:00, 8.26MB/s]\n",
            "Downloading test.csv to /content/drive/My Drive/Titanic\n",
            "  0% 0.00/28.0k [00:00<?, ?B/s]\n",
            "100% 28.0k/28.0k [00:00<00:00, 3.48MB/s]\n",
            "Downloading gender_submission.csv to /content/drive/My Drive/Titanic\n",
            "  0% 0.00/3.18k [00:00<?, ?B/s]\n",
            "100% 3.18k/3.18k [00:00<00:00, 433kB/s]\n"
          ]
        }
      ]
    },
    {
      "cell_type": "code",
      "metadata": {
        "colab": {
          "base_uri": "https://localhost:8080/"
        },
        "id": "whXIcQSUzUBJ",
        "outputId": "3216fb96-4161-4b72-8d0d-379e99ff0468"
      },
      "source": [
        "ls -ltr"
      ],
      "execution_count": 19,
      "outputs": [
        {
          "output_type": "stream",
          "name": "stdout",
          "text": [
            "total 92\n",
            "-rw------- 1 root root 61194 Nov 12 20:18 train.csv\n",
            "-rw------- 1 root root 28629 Nov 12 20:18 test.csv\n",
            "-rw------- 1 root root  3258 Nov 12 20:18 gender_submission.csv\n"
          ]
        }
      ]
    },
    {
      "cell_type": "code",
      "metadata": {
        "id": "ET_uNsikzhcK"
      },
      "source": [
        "import pandas as pd"
      ],
      "execution_count": 20,
      "outputs": []
    },
    {
      "cell_type": "code",
      "metadata": {
        "id": "SnnLJVAkzWv2"
      },
      "source": [
        "titanic = pd.read_csv(\"train.csv\")"
      ],
      "execution_count": 30,
      "outputs": []
    },
    {
      "cell_type": "code",
      "metadata": {
        "colab": {
          "base_uri": "https://localhost:8080/"
        },
        "id": "j60x_BNyzp6S",
        "outputId": "3bafe2f8-a6d9-4e23-ffcd-309c9b92be35"
      },
      "source": [
        "titanic.shape"
      ],
      "execution_count": 31,
      "outputs": [
        {
          "output_type": "execute_result",
          "data": {
            "text/plain": [
              "(891, 12)"
            ]
          },
          "metadata": {},
          "execution_count": 31
        }
      ]
    },
    {
      "cell_type": "code",
      "metadata": {
        "colab": {
          "base_uri": "https://localhost:8080/",
          "height": 300
        },
        "id": "igvZ5r4gztwS",
        "outputId": "47c2b9a6-ad29-49b1-cfcb-3b5e6fdd2381"
      },
      "source": [
        "titanic.describe()"
      ],
      "execution_count": 32,
      "outputs": [
        {
          "output_type": "execute_result",
          "data": {
            "text/html": [
              "<div>\n",
              "<style scoped>\n",
              "    .dataframe tbody tr th:only-of-type {\n",
              "        vertical-align: middle;\n",
              "    }\n",
              "\n",
              "    .dataframe tbody tr th {\n",
              "        vertical-align: top;\n",
              "    }\n",
              "\n",
              "    .dataframe thead th {\n",
              "        text-align: right;\n",
              "    }\n",
              "</style>\n",
              "<table border=\"1\" class=\"dataframe\">\n",
              "  <thead>\n",
              "    <tr style=\"text-align: right;\">\n",
              "      <th></th>\n",
              "      <th>PassengerId</th>\n",
              "      <th>Survived</th>\n",
              "      <th>Pclass</th>\n",
              "      <th>Age</th>\n",
              "      <th>SibSp</th>\n",
              "      <th>Parch</th>\n",
              "      <th>Fare</th>\n",
              "    </tr>\n",
              "  </thead>\n",
              "  <tbody>\n",
              "    <tr>\n",
              "      <th>count</th>\n",
              "      <td>891.000000</td>\n",
              "      <td>891.000000</td>\n",
              "      <td>891.000000</td>\n",
              "      <td>714.000000</td>\n",
              "      <td>891.000000</td>\n",
              "      <td>891.000000</td>\n",
              "      <td>891.000000</td>\n",
              "    </tr>\n",
              "    <tr>\n",
              "      <th>mean</th>\n",
              "      <td>446.000000</td>\n",
              "      <td>0.383838</td>\n",
              "      <td>2.308642</td>\n",
              "      <td>29.699118</td>\n",
              "      <td>0.523008</td>\n",
              "      <td>0.381594</td>\n",
              "      <td>32.204208</td>\n",
              "    </tr>\n",
              "    <tr>\n",
              "      <th>std</th>\n",
              "      <td>257.353842</td>\n",
              "      <td>0.486592</td>\n",
              "      <td>0.836071</td>\n",
              "      <td>14.526497</td>\n",
              "      <td>1.102743</td>\n",
              "      <td>0.806057</td>\n",
              "      <td>49.693429</td>\n",
              "    </tr>\n",
              "    <tr>\n",
              "      <th>min</th>\n",
              "      <td>1.000000</td>\n",
              "      <td>0.000000</td>\n",
              "      <td>1.000000</td>\n",
              "      <td>0.420000</td>\n",
              "      <td>0.000000</td>\n",
              "      <td>0.000000</td>\n",
              "      <td>0.000000</td>\n",
              "    </tr>\n",
              "    <tr>\n",
              "      <th>25%</th>\n",
              "      <td>223.500000</td>\n",
              "      <td>0.000000</td>\n",
              "      <td>2.000000</td>\n",
              "      <td>20.125000</td>\n",
              "      <td>0.000000</td>\n",
              "      <td>0.000000</td>\n",
              "      <td>7.910400</td>\n",
              "    </tr>\n",
              "    <tr>\n",
              "      <th>50%</th>\n",
              "      <td>446.000000</td>\n",
              "      <td>0.000000</td>\n",
              "      <td>3.000000</td>\n",
              "      <td>28.000000</td>\n",
              "      <td>0.000000</td>\n",
              "      <td>0.000000</td>\n",
              "      <td>14.454200</td>\n",
              "    </tr>\n",
              "    <tr>\n",
              "      <th>75%</th>\n",
              "      <td>668.500000</td>\n",
              "      <td>1.000000</td>\n",
              "      <td>3.000000</td>\n",
              "      <td>38.000000</td>\n",
              "      <td>1.000000</td>\n",
              "      <td>0.000000</td>\n",
              "      <td>31.000000</td>\n",
              "    </tr>\n",
              "    <tr>\n",
              "      <th>max</th>\n",
              "      <td>891.000000</td>\n",
              "      <td>1.000000</td>\n",
              "      <td>3.000000</td>\n",
              "      <td>80.000000</td>\n",
              "      <td>8.000000</td>\n",
              "      <td>6.000000</td>\n",
              "      <td>512.329200</td>\n",
              "    </tr>\n",
              "  </tbody>\n",
              "</table>\n",
              "</div>"
            ],
            "text/plain": [
              "       PassengerId    Survived      Pclass  ...       SibSp       Parch        Fare\n",
              "count   891.000000  891.000000  891.000000  ...  891.000000  891.000000  891.000000\n",
              "mean    446.000000    0.383838    2.308642  ...    0.523008    0.381594   32.204208\n",
              "std     257.353842    0.486592    0.836071  ...    1.102743    0.806057   49.693429\n",
              "min       1.000000    0.000000    1.000000  ...    0.000000    0.000000    0.000000\n",
              "25%     223.500000    0.000000    2.000000  ...    0.000000    0.000000    7.910400\n",
              "50%     446.000000    0.000000    3.000000  ...    0.000000    0.000000   14.454200\n",
              "75%     668.500000    1.000000    3.000000  ...    1.000000    0.000000   31.000000\n",
              "max     891.000000    1.000000    3.000000  ...    8.000000    6.000000  512.329200\n",
              "\n",
              "[8 rows x 7 columns]"
            ]
          },
          "metadata": {},
          "execution_count": 32
        }
      ]
    },
    {
      "cell_type": "code",
      "metadata": {
        "colab": {
          "base_uri": "https://localhost:8080/"
        },
        "id": "kZLUqV4H0mNJ",
        "outputId": "71a62491-f362-40f1-d4cb-30aac3dc9972"
      },
      "source": [
        "titanic.columns"
      ],
      "execution_count": 24,
      "outputs": [
        {
          "output_type": "execute_result",
          "data": {
            "text/plain": [
              "Index(['PassengerId', 'Survived', 'Pclass', 'Name', 'Sex', 'Age', 'SibSp',\n",
              "       'Parch', 'Ticket', 'Fare', 'Cabin', 'Embarked'],\n",
              "      dtype='object')"
            ]
          },
          "metadata": {},
          "execution_count": 24
        }
      ]
    },
    {
      "cell_type": "code",
      "metadata": {
        "id": "LRLSxR_m0dXY"
      },
      "source": [
        "mytitanic = titanic[[\"Age\", \"Sex\", \"Pclass\", \"Survived\"]]"
      ],
      "execution_count": 33,
      "outputs": []
    },
    {
      "cell_type": "code",
      "metadata": {
        "colab": {
          "base_uri": "https://localhost:8080/"
        },
        "id": "IMVF4T8J0_Xv",
        "outputId": "739b3513-749f-4a64-9e8d-ba7d916fda63"
      },
      "source": [
        "mytitanic.dropna(inplace=True)"
      ],
      "execution_count": 34,
      "outputs": [
        {
          "output_type": "stream",
          "name": "stderr",
          "text": [
            "/usr/local/lib/python3.7/dist-packages/ipykernel_launcher.py:1: SettingWithCopyWarning: \n",
            "A value is trying to be set on a copy of a slice from a DataFrame\n",
            "\n",
            "See the caveats in the documentation: https://pandas.pydata.org/pandas-docs/stable/user_guide/indexing.html#returning-a-view-versus-a-copy\n",
            "  \"\"\"Entry point for launching an IPython kernel.\n"
          ]
        }
      ]
    },
    {
      "cell_type": "code",
      "metadata": {
        "colab": {
          "base_uri": "https://localhost:8080/",
          "height": 206
        },
        "id": "5muoEn4C1brB",
        "outputId": "c8f47def-83f5-4e9f-9cb5-ee6df7394314"
      },
      "source": [
        "mytitanic.head()"
      ],
      "execution_count": 29,
      "outputs": [
        {
          "output_type": "execute_result",
          "data": {
            "text/html": [
              "<div>\n",
              "<style scoped>\n",
              "    .dataframe tbody tr th:only-of-type {\n",
              "        vertical-align: middle;\n",
              "    }\n",
              "\n",
              "    .dataframe tbody tr th {\n",
              "        vertical-align: top;\n",
              "    }\n",
              "\n",
              "    .dataframe thead th {\n",
              "        text-align: right;\n",
              "    }\n",
              "</style>\n",
              "<table border=\"1\" class=\"dataframe\">\n",
              "  <thead>\n",
              "    <tr style=\"text-align: right;\">\n",
              "      <th></th>\n",
              "      <th>Age</th>\n",
              "      <th>Sex</th>\n",
              "      <th>Pclass</th>\n",
              "    </tr>\n",
              "  </thead>\n",
              "  <tbody>\n",
              "    <tr>\n",
              "      <th>0</th>\n",
              "      <td>22.0</td>\n",
              "      <td>male</td>\n",
              "      <td>3</td>\n",
              "    </tr>\n",
              "    <tr>\n",
              "      <th>1</th>\n",
              "      <td>38.0</td>\n",
              "      <td>female</td>\n",
              "      <td>1</td>\n",
              "    </tr>\n",
              "    <tr>\n",
              "      <th>2</th>\n",
              "      <td>26.0</td>\n",
              "      <td>female</td>\n",
              "      <td>3</td>\n",
              "    </tr>\n",
              "    <tr>\n",
              "      <th>3</th>\n",
              "      <td>35.0</td>\n",
              "      <td>female</td>\n",
              "      <td>1</td>\n",
              "    </tr>\n",
              "    <tr>\n",
              "      <th>4</th>\n",
              "      <td>35.0</td>\n",
              "      <td>male</td>\n",
              "      <td>3</td>\n",
              "    </tr>\n",
              "  </tbody>\n",
              "</table>\n",
              "</div>"
            ],
            "text/plain": [
              "    Age     Sex  Pclass\n",
              "0  22.0    male       3\n",
              "1  38.0  female       1\n",
              "2  26.0  female       3\n",
              "3  35.0  female       1\n",
              "4  35.0    male       3"
            ]
          },
          "metadata": {},
          "execution_count": 29
        }
      ]
    },
    {
      "cell_type": "code",
      "metadata": {
        "colab": {
          "base_uri": "https://localhost:8080/"
        },
        "id": "SyWAFEl41fTc",
        "outputId": "b7beb548-2940-41c8-c855-30d407f65aa9"
      },
      "source": [
        "mytitanic[\"gender\"] = titanic.Sex.map({'male':0, 'female':1})"
      ],
      "execution_count": 35,
      "outputs": [
        {
          "output_type": "stream",
          "name": "stderr",
          "text": [
            "/usr/local/lib/python3.7/dist-packages/ipykernel_launcher.py:1: SettingWithCopyWarning: \n",
            "A value is trying to be set on a copy of a slice from a DataFrame.\n",
            "Try using .loc[row_indexer,col_indexer] = value instead\n",
            "\n",
            "See the caveats in the documentation: https://pandas.pydata.org/pandas-docs/stable/user_guide/indexing.html#returning-a-view-versus-a-copy\n",
            "  \"\"\"Entry point for launching an IPython kernel.\n"
          ]
        }
      ]
    },
    {
      "cell_type": "code",
      "metadata": {
        "id": "jxjCgvE02RUA"
      },
      "source": [
        "from sklearn import tree"
      ],
      "execution_count": 36,
      "outputs": []
    },
    {
      "cell_type": "code",
      "metadata": {
        "id": "SIHGUwCc2XeH"
      },
      "source": [
        "t1 = tree.DecisionTreeClassifier(max_depth=3).fit(mytitanic[[\"Age\", \"gender\", \"Pclass\"]], mytitanic.Survived)  #first part creates the object, second part fits it to the data"
      ],
      "execution_count": 38,
      "outputs": []
    },
    {
      "cell_type": "code",
      "metadata": {
        "colab": {
          "base_uri": "https://localhost:8080/"
        },
        "id": "pEImFDA935du",
        "outputId": "406fa223-794e-4937-b9b4-a60570fcc08b"
      },
      "source": [
        "t1.score(mytitanic[[\"Age\", \"gender\", \"Pclass\"]], mytitanic.Survived)"
      ],
      "execution_count": 39,
      "outputs": [
        {
          "output_type": "execute_result",
          "data": {
            "text/plain": [
              "0.8081232492997199"
            ]
          },
          "metadata": {},
          "execution_count": 39
        }
      ]
    },
    {
      "cell_type": "code",
      "metadata": {
        "id": "2kpCidmN4Gm2"
      },
      "source": [
        "from sklearn.model_selection import train_test_split"
      ],
      "execution_count": 40,
      "outputs": []
    },
    {
      "cell_type": "code",
      "metadata": {
        "id": "2sBoMhye4Vf2"
      },
      "source": [
        "X_train, X_test, y_Train, y_test = train_test_split(mytitanic[[\"Age\", \"gender\", \"Pclass\"]], mytitanic.Survived, test_size=0.2)"
      ],
      "execution_count": 43,
      "outputs": []
    },
    {
      "cell_type": "code",
      "metadata": {
        "id": "RSFYF7044_z3"
      },
      "source": [
        "t1 = tree.DecisionTreeClassifier(max_depth=3, random_state=555).fit(X_train, y_Train)"
      ],
      "execution_count": 46,
      "outputs": []
    },
    {
      "cell_type": "code",
      "metadata": {
        "colab": {
          "base_uri": "https://localhost:8080/"
        },
        "id": "g3PhRsJm5Iav",
        "outputId": "2e560a67-b8ee-4e5b-a140-d75caec5d279"
      },
      "source": [
        "t1.score(X_train, y_Train), t1.score(X_test, y_test)"
      ],
      "execution_count": 47,
      "outputs": [
        {
          "output_type": "execute_result",
          "data": {
            "text/plain": [
              "(0.8038528896672504, 0.8251748251748252)"
            ]
          },
          "metadata": {},
          "execution_count": 47
        }
      ]
    },
    {
      "cell_type": "markdown",
      "metadata": {
        "id": "iLDP43w45k0i"
      },
      "source": [
        "If test set underperforms compared to traiing set?? model is too complex"
      ]
    }
  ]
}