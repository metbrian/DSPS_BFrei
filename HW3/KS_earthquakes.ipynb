{
 "cells": [
  {
   "cell_type": "markdown",
   "metadata": {
    "colab_type": "text",
    "id": "view-in-github"
   },
   "source": [
    "<a href=\"https://colab.research.google.com/github/metbrian/DSPS_BFrei/blob/main/HW3/KS_earthquakes.ipynb\" target=\"_parent\"><img src=\"https://colab.research.google.com/assets/colab-badge.svg\" alt=\"Open In Colab\"/></a>"
   ]
  },
  {
   "cell_type": "markdown",
   "metadata": {
    "id": "Uk3iBT7phXry"
   },
   "source": [
    "Created by FedericaBBianco @fedhere for DSPS/MLNPS\n",
    "# Kolmogorov Smirnoff test, application to earthquake data"
   ]
  },
  {
   "cell_type": "code",
   "execution_count": 106,
   "metadata": {
    "ExecuteTime": {
     "end_time": "2019-09-09T01:40:01.895798Z",
     "start_time": "2019-09-09T01:40:01.890474Z"
    },
    "colab": {
<<<<<<< HEAD
     "base_uri": "https://localhost:8080/"
    },
    "id": "LS78mdVthXrz",
    "outputId": "4d8e9ccc-42a2-4578-8fc2-21f791e5db87",
    "scrolled": true
   },
   "outputs": [
    {
     "name": "stdout",
     "output_type": "stream",
     "text": [
      "Populating the interactive namespace from numpy and matplotlib\n"
     ]
=======
      "name": "KS_earthquakes.ipynb",
      "provenance": [],
      "collapsed_sections": [
        "8bQwtZi4Z0pi"
      ],
      "include_colab_link": true
>>>>>>> a9ee45e270bd48e2ad0c87ce5edcea609c658168
    }
   ],
   "source": [
    "#all the imports I needed\n",
    "from __future__ import print_function, division\n",
    "import pandas as pd\n",
    "import pylab as pl\n",
    "import scipy as sp\n",
    "from scipy import stats\n",
    "%pylab inline\n",
    "pl.style.use(\"https://raw.githubusercontent.com/fedhere/DSPS/master/fbb.mplstyle\")"
   ]
  },
<<<<<<< HEAD
  {
   "cell_type": "markdown",
   "metadata": {
    "id": "SvIJHRyuhXr2"
   },
   "source": [
    "This homework asks you to reproduce the work in [Corral 2018](https://arxiv.org/pdf/0910.0055.pdf) which is well described, but not \"reproducible\". \n",
    "Corral 2018 uses a K-S test to show that at different magnitude scales the time gaps between earthquakes follows the same distribution. If true, this indicates that there is a consistent scaling law. \n",
    "\n",
    "The argument is a little convoluted, but it is a somewhat innovative use of the test. Corall compares the time gap between earthquakes  greater than a certain magnitude threshold with the time gaps between earthquakes above a different threshold, and finds no differences.\n",
    "\n",
    "Remind yourself exactly what the K-S test is about :\n",
    "\n",
    "    1 What is the test's Null Hypothsis that the K-S test tests?\n"
   ]
  },
  {
   "cell_type": "markdown",
   "metadata": {
    "id": "y8DJjYrthXr3"
   },
   "source": [
    "The Null hypothesis for this study is that the timing bewteen earthquakes is related to the magnitude of the earthquakes through a scaling law.\n",
    "\n",
    "\n",
    "\n"
   ]
  },
  {
   "cell_type": "markdown",
   "metadata": {
    "id": "V8T9XH7nhXr3"
   },
   "source": [
    "    2 What is the \"statistic\" or \"pivotal quantity\" that the test uses?\n",
    "    \n"
   ]
  },
  {
   "cell_type": "markdown",
   "metadata": {
    "ExecuteTime": {
     "end_time": "2019-09-08T21:14:09.757045Z",
     "start_time": "2019-09-08T21:14:09.753882Z"
    },
    "id": "jSSktfhAhXr4"
   },
   "source": [
    "The pivotal quantity is the maximum vertical distance between cumulative distributions of interval times between earthquakes of different magnitude-thresholds.\n",
    "\n",
    "\n"
   ]
  },
  {
   "cell_type": "markdown",
   "metadata": {
    "ExecuteTime": {
     "end_time": "2019-09-08T21:14:43.709157Z",
     "start_time": "2019-09-08T21:14:43.704734Z"
    },
    "id": "IYoQgG1BhXr4"
   },
   "source": [
    "    3 What does the probability distribution of this statistic depend on? \n",
    "    \n",
    "   \n"
   ]
  },
  {
   "cell_type": "markdown",
   "metadata": {
    "id": "ak74uTIrhXr5"
   },
   "source": [
    "The probability distribution depends on a few factors including: earthquake magnitude threshold, and minimum threshold timing between events. \n",
    "\n",
    "    "
   ]
  },
  {
   "cell_type": "markdown",
   "metadata": {
    "id": "M-h5uhgfhXr6"
   },
   "source": [
    "# Data Retrival"
   ]
  },
  {
   "cell_type": "markdown",
   "metadata": {
    "id": "7TW_8XaNhXr6"
   },
   "source": [
    "The first reason why the paper is not techincally _reproducible_ is that, while a link is provided to retrieve the data, the link is dead. This happens often. Services like [Zenodo](https://zenodo.org/) or journals that serve data provide some insurance against this but unfortunately the standards are not strict. "
   ]
  },
  {
   "cell_type": "markdown",
   "metadata": {
    "id": "Bt6gDmQJhXr7"
   },
   "source": [
    "You can retrieve the data yourself from [this website](http://service.scedc.caltech.edu/eq-catalogs/poly.php). Think about what setting up data like this means for reproducibility. Did the author comply to reproducibility standards?__ Make sure the number of entries in your final dataset is similar to that of the authors. I got 70798, instead of 77000. 10% off, which I deem close enough. You should get something similar. Use the map in the paper to determine the region of interest. Call the file earthquakes_\\<firstinitialLastname\\>.csv and upload it to your github repository. Read it your file, instead of mine as instructed below. If you are getting weird results compare to what I got, go back and check how the files differ."
   ]
  },
  {
   "cell_type": "markdown",
   "metadata": {
    "id": "eCiLW1AuhXr7"
   },
   "source": [
    "# Data Ingestion"
   ]
  },
  {
   "cell_type": "markdown",
   "metadata": {
    "id": "FH0X7d9_hXr8"
   },
   "source": [
    "## read in data"
   ]
  },
  {
   "cell_type": "markdown",
   "metadata": {
    "id": "XbMPVaK-hXr9"
   },
   "source": [
    "I saved the data in a file called \"earthquakes.csv\", where ```csv``` stands for \"comma separated file\". [This file format](https://www.howtogeek.com/348960/what-is-a-csv-file-and-how-do-i-open-it/) requires different entries in a row to be separated by commas alone (no space) and for commas to be used in quote if they are not intended to separate entries. \n",
    "\n",
    "```\n",
    "a,b,c\n",
    "d,e,f\n",
    "g,\"h,2\",i\n",
    "```\n",
    "The data is uploaded on the  github homework repository but to read it in you will need to get the link to the *raw file*: the link to the file earthquakes.csv which is in my GitHub repository https://github.com/fedhere/MLPNS2021/tree/main/HW2_NHRT takes you to an ```html``` page that includes the content of the file, but you want to isolate the content of the file itself: the _raw file_. Pay attention to this: from the next time I will not give you the exact link, I will just point you to the file and you will have to find the link to the raw data from there. (remember to use the \"raw\" link)\n",
    "\n",
    "The data can be read effectively using the _pandas_ python package as ```pandas.read_csv(<file name or URL>)```. \n",
    "\n",
    "However, I did not format the data correctly, according to the csv extension requirement. This happens all the time. Look at the file and use the pandas documentation to figure out how to read it with ```pd.read_csv()```"
   ]
  },
  {
   "cell_type": "code",
   "execution_count": 107,
   "metadata": {
    "ExecuteTime": {
     "end_time": "2019-09-09T01:40:02.638703Z",
     "start_time": "2019-09-09T01:40:02.454643Z"
    },
    "id": "hOEZafxahXr9"
   },
   "outputs": [],
   "source": [
    "#your code here...\n",
    "eqdata = pd.read_csv(\"https://raw.githubusercontent.com/fedhere/DSPS_FBianco/master/HW3/earthquakes.csv\",sep=\" \")"
   ]
  },
  {
   "cell_type": "markdown",
   "metadata": {
    "id": "r0IW9m4vhXr_"
   },
   "source": [
    "running the following lines of code should give you the same result as mine if you used the file I provided (467 students), and qualitatively  similar if you are using your own data (667 students)"
   ]
  },
  {
   "cell_type": "code",
   "execution_count": 108,
   "metadata": {
    "ExecuteTime": {
     "end_time": "2019-09-09T01:40:02.643428Z",
     "start_time": "2019-09-09T01:40:02.640847Z"
    },
    "colab": {
     "base_uri": "https://localhost:8080/"
=======
  "cells": [
    {
      "cell_type": "markdown",
      "metadata": {
        "id": "view-in-github",
        "colab_type": "text"
      },
      "source": [
        "<a href=\"https://colab.research.google.com/github/metbrian/DSPS_BFrei/blob/main/HW3/KS_earthquakes.ipynb\" target=\"_parent\"><img src=\"https://colab.research.google.com/assets/colab-badge.svg\" alt=\"Open In Colab\"/></a>"
      ]
    },
    {
      "cell_type": "markdown",
      "metadata": {
        "id": "Uk3iBT7phXry"
      },
      "source": [
        "Created by FedericaBBianco @fedhere for DSPS/MLNPS\n",
        "# Kolmogorov Smirnoff test, application to earthquake data"
      ]
    },
    {
      "cell_type": "code",
      "metadata": {
        "ExecuteTime": {
          "end_time": "2019-09-09T01:40:01.895798Z",
          "start_time": "2019-09-09T01:40:01.890474Z"
        },
        "id": "LS78mdVthXrz",
        "colab": {
          "base_uri": "https://localhost:8080/"
        },
        "outputId": "d791826d-0eed-4a73-a1f6-31c29bb5e5ba"
      },
      "source": [
        "#all the imports I needed\n",
        "from __future__ import print_function, division\n",
        "import pandas as pd\n",
        "import pylab as pl\n",
        "import scipy as sp\n",
        "from scipy import stats\n",
        "from IPython.display import display\n",
        "%pylab inline\n",
        "pl.style.use(\"https://raw.githubusercontent.com/fedhere/DSPS/master/fbb.mplstyle\")"
      ],
      "execution_count": 1,
      "outputs": [
        {
          "output_type": "stream",
          "name": "stdout",
          "text": [
            "Populating the interactive namespace from numpy and matplotlib\n"
          ]
        }
      ]
    },
    {
      "cell_type": "markdown",
      "metadata": {
        "id": "SvIJHRyuhXr2"
      },
      "source": [
        "This homework asks you to reproduce the work in [Corral 2018](https://arxiv.org/pdf/0910.0055.pdf) which is well described, but not \"reproducible\". \n",
        "Corral 2018 uses a K-S test to show that at different magnitude scales the time gaps between earthquakes follows the same distribution. If true, this indicates that there is a consistent scaling law. \n",
        "\n",
        "The argument is a little convoluted, but it is a somewhat innovative use of the test. Corall compares the time gap between earthquakes  greater than a certain magnitude threshold with the time gaps between earthquakes above a different threshold, and finds no differences.\n",
        "\n",
        "Remind yourself exactly what the K-S test is about :\n",
        "\n",
        "    1 What is the test's Null Hypothsis that the K-S test tests?\n"
      ]
    },
    {
      "cell_type": "markdown",
      "metadata": {
        "id": "y8DJjYrthXr3"
      },
      "source": [
        "The Null hypothesis for this study is that the timing bewteen earthquakes is related to the magnitude of the earthquakes through a scaling law.\n",
        "\n",
        "\n",
        "\n"
      ]
    },
    {
      "cell_type": "markdown",
      "metadata": {
        "id": "V8T9XH7nhXr3"
      },
      "source": [
        "    2 What is the \"statistic\" or \"pivotal quantity\" that the test uses?\n",
        "    \n"
      ]
    },
    {
      "cell_type": "markdown",
      "metadata": {
        "ExecuteTime": {
          "end_time": "2019-09-08T21:14:09.757045Z",
          "start_time": "2019-09-08T21:14:09.753882Z"
        },
        "id": "jSSktfhAhXr4"
      },
      "source": [
        "The pivotal quantity is the maximum vertical distance between cumulative distributions of interval times between earthquakes of different magnitude-thresholds.\n",
        "\n",
        "\n"
      ]
    },
    {
      "cell_type": "markdown",
      "metadata": {
        "ExecuteTime": {
          "end_time": "2019-09-08T21:14:43.709157Z",
          "start_time": "2019-09-08T21:14:43.704734Z"
        },
        "id": "IYoQgG1BhXr4"
      },
      "source": [
        "    3 What does the probability distribution of this statistic depend on? \n",
        "    \n",
        "   \n"
      ]
    },
    {
      "cell_type": "markdown",
      "metadata": {
        "id": "ak74uTIrhXr5"
      },
      "source": [
        "The probability distribution depends on a few factors including: earthquake magnitude threshold, and minimum threshold timing between events. \n",
        "\n",
        "    "
      ]
    },
    {
      "cell_type": "markdown",
      "metadata": {
        "id": "M-h5uhgfhXr6"
      },
      "source": [
        "# Data Retrival"
      ]
    },
    {
      "cell_type": "markdown",
      "metadata": {
        "id": "7TW_8XaNhXr6"
      },
      "source": [
        "The first reason why the paper is not techincally _reproducible_ is that, while a link is provided to retrieve the data, the link is dead. This happens often. Services like [Zenodo](https://zenodo.org/) or journals that serve data provide some insurance against this but unfortunately the standards are not strict. "
      ]
    },
    {
      "cell_type": "markdown",
      "metadata": {
        "id": "Bt6gDmQJhXr7"
      },
      "source": [
        "You can retrieve the data yourself from [this website](http://service.scedc.caltech.edu/eq-catalogs/poly.php). Think about what setting up data like this means for reproducibility. Did the author comply to reproducibility standards?__ Make sure the number of entries in your final dataset is similar to that of the authors. I got 70798, instead of 77000. 10% off, which I deem close enough. You should get something similar. Use the map in the paper to determine the region of interest. Call the file earthquakes_\\<firstinitialLastname\\>.csv and upload it to your github repository. Read it your file, instead of mine as instructed below. If you are getting weird results compare to what I got, go back and check how the files differ."
      ]
    },
    {
      "cell_type": "markdown",
      "metadata": {
        "id": "eCiLW1AuhXr7"
      },
      "source": [
        "# Data Ingestion"
      ]
    },
    {
      "cell_type": "markdown",
      "metadata": {
        "id": "FH0X7d9_hXr8"
      },
      "source": [
        "## read in data"
      ]
    },
    {
      "cell_type": "markdown",
      "metadata": {
        "id": "XbMPVaK-hXr9"
      },
      "source": [
        "I saved the data in a file called \"earthquakes.csv\", where ```csv``` stands for \"comma separated file\". [This file format](https://www.howtogeek.com/348960/what-is-a-csv-file-and-how-do-i-open-it/) requires different entries in a row to be separated by commas alone (no space) and for commas to be used in quote if they are not intended to separate entries. \n",
        "\n",
        "```\n",
        "a,b,c\n",
        "d,e,f\n",
        "g,\"h,2\",i\n",
        "```\n",
        "The data is uploaded on the  github homework repository but to read it in you will need to get the link to the *raw file*: the link to the file earthquakes.csv which is in my GitHub repository https://github.com/fedhere/MLPNS2021/tree/main/HW2_NHRT takes you to an ```html``` page that includes the content of the file, but you want to isolate the content of the file itself: the _raw file_. Pay attention to this: from the next time I will not give you the exact link, I will just point you to the file and you will have to find the link to the raw data from there. (remember to use the \"raw\" link)\n",
        "\n",
        "The data can be read effectively using the _pandas_ python package as ```pandas.read_csv(<file name or URL>)```. \n",
        "\n",
        "However, I did not format the data correctly, according to the csv extension requirement. This happens all the time. Look at the file and use the pandas documentation to figure out how to read it with ```pd.read_csv()```"
      ]
    },
    {
      "cell_type": "code",
      "metadata": {
        "ExecuteTime": {
          "end_time": "2019-09-09T01:40:02.638703Z",
          "start_time": "2019-09-09T01:40:02.454643Z"
        },
        "id": "hOEZafxahXr9"
      },
      "source": [
        "#your code here...\n",
        "eqdata = pd.read_csv(\"https://raw.githubusercontent.com/fedhere/DSPS_FBianco/master/HW3/earthquakes.csv\",sep=\" \")"
      ],
      "execution_count": 2,
      "outputs": []
    },
    {
      "cell_type": "markdown",
      "metadata": {
        "id": "r0IW9m4vhXr_"
      },
      "source": [
        "running the following lines of code should give you the same result as mine if you used the file I provided (467 students), and qualitatively  similar if you are using your own data (667 students)"
      ]
    },
    {
      "cell_type": "code",
      "metadata": {
        "ExecuteTime": {
          "end_time": "2019-09-09T01:40:02.643428Z",
          "start_time": "2019-09-09T01:40:02.640847Z"
        },
        "id": "uphAqv5ZhXsA",
        "colab": {
          "base_uri": "https://localhost:8080/"
        },
        "outputId": "70fac540-9cdf-4f3b-9cb4-55e3077ff1c4"
      },
      "source": [
        "eqdata.shape"
      ],
      "execution_count": 3,
      "outputs": [
        {
          "output_type": "execute_result",
          "data": {
            "text/plain": [
              "(70798, 34)"
            ]
          },
          "metadata": {},
          "execution_count": 3
        }
      ]
    },
    {
      "cell_type": "code",
      "metadata": {
        "colab": {
          "base_uri": "https://localhost:8080/",
          "height": 243
        },
        "id": "s8ZZSPG6ipUu",
        "outputId": "b4fdfbae-6139-402b-b3f1-3bcfd8ca9867"
      },
      "source": [
        "eqdata.head()"
      ],
      "execution_count": 4,
      "outputs": [
        {
          "output_type": "execute_result",
          "data": {
            "text/html": [
              "<div>\n",
              "<style scoped>\n",
              "    .dataframe tbody tr th:only-of-type {\n",
              "        vertical-align: middle;\n",
              "    }\n",
              "\n",
              "    .dataframe tbody tr th {\n",
              "        vertical-align: top;\n",
              "    }\n",
              "\n",
              "    .dataframe thead th {\n",
              "        text-align: right;\n",
              "    }\n",
              "</style>\n",
              "<table border=\"1\" class=\"dataframe\">\n",
              "  <thead>\n",
              "    <tr style=\"text-align: right;\">\n",
              "      <th></th>\n",
              "      <th>#YYY/MM/DD</th>\n",
              "      <th>HH:mm:SS.ss</th>\n",
              "      <th>ET</th>\n",
              "      <th>GT</th>\n",
              "      <th>MAG</th>\n",
              "      <th>Unnamed: 5</th>\n",
              "      <th>M</th>\n",
              "      <th>Unnamed: 7</th>\n",
              "      <th>Unnamed: 8</th>\n",
              "      <th>Unnamed: 9</th>\n",
              "      <th>LAT</th>\n",
              "      <th>Unnamed: 11</th>\n",
              "      <th>Unnamed: 12</th>\n",
              "      <th>Unnamed: 13</th>\n",
              "      <th>Unnamed: 14</th>\n",
              "      <th>Unnamed: 15</th>\n",
              "      <th>Unnamed: 16</th>\n",
              "      <th>LON</th>\n",
              "      <th>Unnamed: 18</th>\n",
              "      <th>Unnamed: 19</th>\n",
              "      <th>Unnamed: 20</th>\n",
              "      <th>Unnamed: 21</th>\n",
              "      <th>Unnamed: 22</th>\n",
              "      <th>DEPTH</th>\n",
              "      <th>Q</th>\n",
              "      <th>Unnamed: 25</th>\n",
              "      <th>EVID</th>\n",
              "      <th>Unnamed: 27</th>\n",
              "      <th>Unnamed: 28</th>\n",
              "      <th>Unnamed: 29</th>\n",
              "      <th>Unnamed: 30</th>\n",
              "      <th>Unnamed: 31</th>\n",
              "      <th>NPH</th>\n",
              "      <th>NGRM</th>\n",
              "    </tr>\n",
              "  </thead>\n",
              "  <tbody>\n",
              "    <tr>\n",
              "      <th>0</th>\n",
              "      <td>1984/01/01</td>\n",
              "      <td>01:30:57.52</td>\n",
              "      <td>eq</td>\n",
              "      <td>NaN</td>\n",
              "      <td>l</td>\n",
              "      <td>2.02</td>\n",
              "      <td>c</td>\n",
              "      <td>NaN</td>\n",
              "      <td>NaN</td>\n",
              "      <td>33.246</td>\n",
              "      <td>-116.433</td>\n",
              "      <td>NaN</td>\n",
              "      <td>NaN</td>\n",
              "      <td>1.6</td>\n",
              "      <td>C</td>\n",
              "      <td>NaN</td>\n",
              "      <td>NaN</td>\n",
              "      <td>NaN</td>\n",
              "      <td>28255.0</td>\n",
              "      <td>NaN</td>\n",
              "      <td>NaN</td>\n",
              "      <td>13.0</td>\n",
              "      <td>NaN</td>\n",
              "      <td>NaN</td>\n",
              "      <td>17.0</td>\n",
              "      <td>NaN</td>\n",
              "      <td>NaN</td>\n",
              "      <td>NaN</td>\n",
              "      <td>NaN</td>\n",
              "      <td>NaN</td>\n",
              "      <td>NaN</td>\n",
              "      <td>NaN</td>\n",
              "      <td>NaN</td>\n",
              "      <td>NaN</td>\n",
              "    </tr>\n",
              "    <tr>\n",
              "      <th>1</th>\n",
              "      <td>1984/01/01</td>\n",
              "      <td>05:31:34.16</td>\n",
              "      <td>eq</td>\n",
              "      <td>NaN</td>\n",
              "      <td>l</td>\n",
              "      <td>2.12</td>\n",
              "      <td>c</td>\n",
              "      <td>NaN</td>\n",
              "      <td>NaN</td>\n",
              "      <td>32.945</td>\n",
              "      <td>-116.295</td>\n",
              "      <td>NaN</td>\n",
              "      <td>NaN</td>\n",
              "      <td>5.4</td>\n",
              "      <td>C</td>\n",
              "      <td>NaN</td>\n",
              "      <td>NaN</td>\n",
              "      <td>NaN</td>\n",
              "      <td>28259.0</td>\n",
              "      <td>NaN</td>\n",
              "      <td>NaN</td>\n",
              "      <td>18.0</td>\n",
              "      <td>NaN</td>\n",
              "      <td>NaN</td>\n",
              "      <td>42.0</td>\n",
              "      <td>NaN</td>\n",
              "      <td>NaN</td>\n",
              "      <td>NaN</td>\n",
              "      <td>NaN</td>\n",
              "      <td>NaN</td>\n",
              "      <td>NaN</td>\n",
              "      <td>NaN</td>\n",
              "      <td>NaN</td>\n",
              "      <td>NaN</td>\n",
              "    </tr>\n",
              "    <tr>\n",
              "      <th>2</th>\n",
              "      <td>1984/01/01</td>\n",
              "      <td>06:59:05.14</td>\n",
              "      <td>eq</td>\n",
              "      <td>NaN</td>\n",
              "      <td>l</td>\n",
              "      <td>2.43</td>\n",
              "      <td>c</td>\n",
              "      <td>NaN</td>\n",
              "      <td>NaN</td>\n",
              "      <td>33.343</td>\n",
              "      <td>-117.628</td>\n",
              "      <td>NaN</td>\n",
              "      <td>NaN</td>\n",
              "      <td>5.6</td>\n",
              "      <td>C</td>\n",
              "      <td>NaN</td>\n",
              "      <td>NaN</td>\n",
              "      <td>NaN</td>\n",
              "      <td>28260.0</td>\n",
              "      <td>NaN</td>\n",
              "      <td>NaN</td>\n",
              "      <td>13.0</td>\n",
              "      <td>NaN</td>\n",
              "      <td>NaN</td>\n",
              "      <td>30.0</td>\n",
              "      <td>NaN</td>\n",
              "      <td>NaN</td>\n",
              "      <td>NaN</td>\n",
              "      <td>NaN</td>\n",
              "      <td>NaN</td>\n",
              "      <td>NaN</td>\n",
              "      <td>NaN</td>\n",
              "      <td>NaN</td>\n",
              "      <td>NaN</td>\n",
              "    </tr>\n",
              "    <tr>\n",
              "      <th>3</th>\n",
              "      <td>1984/01/01</td>\n",
              "      <td>11:10:25.29</td>\n",
              "      <td>eq</td>\n",
              "      <td>NaN</td>\n",
              "      <td>l</td>\n",
              "      <td>2.07</td>\n",
              "      <td>c</td>\n",
              "      <td>NaN</td>\n",
              "      <td>NaN</td>\n",
              "      <td>33.668</td>\n",
              "      <td>-116.780</td>\n",
              "      <td>NaN</td>\n",
              "      <td>13.8</td>\n",
              "      <td>C</td>\n",
              "      <td>NaN</td>\n",
              "      <td>NaN</td>\n",
              "      <td>NaN</td>\n",
              "      <td>28270.0</td>\n",
              "      <td>NaN</td>\n",
              "      <td>NaN</td>\n",
              "      <td>19.0</td>\n",
              "      <td>NaN</td>\n",
              "      <td>NaN</td>\n",
              "      <td>40.0</td>\n",
              "      <td>NaN</td>\n",
              "      <td>NaN</td>\n",
              "      <td>NaN</td>\n",
              "      <td>NaN</td>\n",
              "      <td>NaN</td>\n",
              "      <td>NaN</td>\n",
              "      <td>NaN</td>\n",
              "      <td>NaN</td>\n",
              "      <td>NaN</td>\n",
              "      <td>NaN</td>\n",
              "    </tr>\n",
              "    <tr>\n",
              "      <th>4</th>\n",
              "      <td>1984/01/01</td>\n",
              "      <td>19:38:19.79</td>\n",
              "      <td>eq</td>\n",
              "      <td>NaN</td>\n",
              "      <td>l</td>\n",
              "      <td>2.13</td>\n",
              "      <td>c</td>\n",
              "      <td>NaN</td>\n",
              "      <td>NaN</td>\n",
              "      <td>33.963</td>\n",
              "      <td>-116.290</td>\n",
              "      <td>NaN</td>\n",
              "      <td>NaN</td>\n",
              "      <td>2.7</td>\n",
              "      <td>C</td>\n",
              "      <td>NaN</td>\n",
              "      <td>NaN</td>\n",
              "      <td>NaN</td>\n",
              "      <td>28553.0</td>\n",
              "      <td>NaN</td>\n",
              "      <td>NaN</td>\n",
              "      <td>40.0</td>\n",
              "      <td>NaN</td>\n",
              "      <td>NaN</td>\n",
              "      <td>49.0</td>\n",
              "      <td>NaN</td>\n",
              "      <td>NaN</td>\n",
              "      <td>NaN</td>\n",
              "      <td>NaN</td>\n",
              "      <td>NaN</td>\n",
              "      <td>NaN</td>\n",
              "      <td>NaN</td>\n",
              "      <td>NaN</td>\n",
              "      <td>NaN</td>\n",
              "    </tr>\n",
              "  </tbody>\n",
              "</table>\n",
              "</div>"
            ],
            "text/plain": [
              "   #YYY/MM/DD  HH:mm:SS.ss  ET  GT  ... Unnamed: 30  Unnamed: 31 NPH  NGRM\n",
              "0  1984/01/01  01:30:57.52  eq NaN  ...         NaN          NaN NaN   NaN\n",
              "1  1984/01/01  05:31:34.16  eq NaN  ...         NaN          NaN NaN   NaN\n",
              "2  1984/01/01  06:59:05.14  eq NaN  ...         NaN          NaN NaN   NaN\n",
              "3  1984/01/01  11:10:25.29  eq NaN  ...         NaN          NaN NaN   NaN\n",
              "4  1984/01/01  19:38:19.79  eq NaN  ...         NaN          NaN NaN   NaN\n",
              "\n",
              "[5 rows x 34 columns]"
            ]
          },
          "metadata": {},
          "execution_count": 4
        }
      ]
    },
    {
      "cell_type": "code",
      "metadata": {
        "ExecuteTime": {
          "end_time": "2019-09-09T01:40:02.759957Z",
          "start_time": "2019-09-09T01:40:02.662327Z"
        },
        "id": "405C-Y8_hXsD",
        "colab": {
          "base_uri": "https://localhost:8080/",
          "height": 337
        },
        "outputId": "9b4ca118-909e-44f2-f093-3ef9cb7e0d79"
      },
      "source": [
        "eqdata.describe()"
      ],
      "execution_count": 5,
      "outputs": [
        {
          "output_type": "execute_result",
          "data": {
            "text/html": [
              "<div>\n",
              "<style scoped>\n",
              "    .dataframe tbody tr th:only-of-type {\n",
              "        vertical-align: middle;\n",
              "    }\n",
              "\n",
              "    .dataframe tbody tr th {\n",
              "        vertical-align: top;\n",
              "    }\n",
              "\n",
              "    .dataframe thead th {\n",
              "        text-align: right;\n",
              "    }\n",
              "</style>\n",
              "<table border=\"1\" class=\"dataframe\">\n",
              "  <thead>\n",
              "    <tr style=\"text-align: right;\">\n",
              "      <th></th>\n",
              "      <th>GT</th>\n",
              "      <th>Unnamed: 5</th>\n",
              "      <th>Unnamed: 7</th>\n",
              "      <th>Unnamed: 8</th>\n",
              "      <th>Unnamed: 9</th>\n",
              "      <th>LAT</th>\n",
              "      <th>Unnamed: 11</th>\n",
              "      <th>Unnamed: 12</th>\n",
              "      <th>Unnamed: 15</th>\n",
              "      <th>Unnamed: 16</th>\n",
              "      <th>LON</th>\n",
              "      <th>Unnamed: 18</th>\n",
              "      <th>Unnamed: 19</th>\n",
              "      <th>Unnamed: 20</th>\n",
              "      <th>Unnamed: 21</th>\n",
              "      <th>Unnamed: 22</th>\n",
              "      <th>DEPTH</th>\n",
              "      <th>Q</th>\n",
              "      <th>Unnamed: 25</th>\n",
              "      <th>EVID</th>\n",
              "      <th>Unnamed: 27</th>\n",
              "      <th>Unnamed: 28</th>\n",
              "      <th>Unnamed: 29</th>\n",
              "      <th>Unnamed: 30</th>\n",
              "      <th>Unnamed: 31</th>\n",
              "      <th>NPH</th>\n",
              "      <th>NGRM</th>\n",
              "    </tr>\n",
              "  </thead>\n",
              "  <tbody>\n",
              "    <tr>\n",
              "      <th>count</th>\n",
              "      <td>0.0</td>\n",
              "      <td>70798.000000</td>\n",
              "      <td>0.0</td>\n",
              "      <td>0.0</td>\n",
              "      <td>70798.000000</td>\n",
              "      <td>70798.00000</td>\n",
              "      <td>0.0</td>\n",
              "      <td>9648.000000</td>\n",
              "      <td>7.359000e+03</td>\n",
              "      <td>4.628900e+04</td>\n",
              "      <td>14096.000000</td>\n",
              "      <td>10889.000000</td>\n",
              "      <td>43932.000000</td>\n",
              "      <td>21302.000000</td>\n",
              "      <td>33735.000000</td>\n",
              "      <td>18080.000000</td>\n",
              "      <td>12705.000000</td>\n",
              "      <td>3387.000000</td>\n",
              "      <td>469.000000</td>\n",
              "      <td>2.000000</td>\n",
              "      <td>0.0</td>\n",
              "      <td>0.0</td>\n",
              "      <td>0.0</td>\n",
              "      <td>0.0</td>\n",
              "      <td>0.0</td>\n",
              "      <td>0.0</td>\n",
              "      <td>0.0</td>\n",
              "    </tr>\n",
              "    <tr>\n",
              "      <th>mean</th>\n",
              "      <td>NaN</td>\n",
              "      <td>2.417826</td>\n",
              "      <td>NaN</td>\n",
              "      <td>NaN</td>\n",
              "      <td>33.977749</td>\n",
              "      <td>-116.88145</td>\n",
              "      <td>NaN</td>\n",
              "      <td>13.354343</td>\n",
              "      <td>6.097558e+06</td>\n",
              "      <td>4.482677e+06</td>\n",
              "      <td>524649.772205</td>\n",
              "      <td>16307.082193</td>\n",
              "      <td>43.634321</td>\n",
              "      <td>141.903530</td>\n",
              "      <td>203.562443</td>\n",
              "      <td>78.426383</td>\n",
              "      <td>55.085714</td>\n",
              "      <td>43.415412</td>\n",
              "      <td>14.746269</td>\n",
              "      <td>7.000000</td>\n",
              "      <td>NaN</td>\n",
              "      <td>NaN</td>\n",
              "      <td>NaN</td>\n",
              "      <td>NaN</td>\n",
              "      <td>NaN</td>\n",
              "      <td>NaN</td>\n",
              "      <td>NaN</td>\n",
              "    </tr>\n",
              "    <tr>\n",
              "      <th>std</th>\n",
              "      <td>NaN</td>\n",
              "      <td>0.407683</td>\n",
              "      <td>NaN</td>\n",
              "      <td>NaN</td>\n",
              "      <td>1.156586</td>\n",
              "      <td>1.07667</td>\n",
              "      <td>NaN</td>\n",
              "      <td>2.724517</td>\n",
              "      <td>4.441852e+06</td>\n",
              "      <td>3.130379e+06</td>\n",
              "      <td>281055.136911</td>\n",
              "      <td>25237.230734</td>\n",
              "      <td>121.795817</td>\n",
              "      <td>311.415589</td>\n",
              "      <td>155.337382</td>\n",
              "      <td>56.105321</td>\n",
              "      <td>30.519535</td>\n",
              "      <td>24.266088</td>\n",
              "      <td>17.013243</td>\n",
              "      <td>2.828427</td>\n",
              "      <td>NaN</td>\n",
              "      <td>NaN</td>\n",
              "      <td>NaN</td>\n",
              "      <td>NaN</td>\n",
              "      <td>NaN</td>\n",
              "      <td>NaN</td>\n",
              "      <td>NaN</td>\n",
              "    </tr>\n",
              "    <tr>\n",
              "      <th>min</th>\n",
              "      <td>NaN</td>\n",
              "      <td>2.000000</td>\n",
              "      <td>NaN</td>\n",
              "      <td>NaN</td>\n",
              "      <td>30.094830</td>\n",
              "      <td>-121.76000</td>\n",
              "      <td>NaN</td>\n",
              "      <td>10.000000</td>\n",
              "      <td>1.000432e+06</td>\n",
              "      <td>1.070000e+02</td>\n",
              "      <td>10.000000</td>\n",
              "      <td>0.000000</td>\n",
              "      <td>0.000000</td>\n",
              "      <td>0.000000</td>\n",
              "      <td>0.000000</td>\n",
              "      <td>0.000000</td>\n",
              "      <td>0.000000</td>\n",
              "      <td>0.000000</td>\n",
              "      <td>0.000000</td>\n",
              "      <td>5.000000</td>\n",
              "      <td>NaN</td>\n",
              "      <td>NaN</td>\n",
              "      <td>NaN</td>\n",
              "      <td>NaN</td>\n",
              "      <td>NaN</td>\n",
              "      <td>NaN</td>\n",
              "      <td>NaN</td>\n",
              "    </tr>\n",
              "    <tr>\n",
              "      <th>25%</th>\n",
              "      <td>NaN</td>\n",
              "      <td>2.120000</td>\n",
              "      <td>NaN</td>\n",
              "      <td>NaN</td>\n",
              "      <td>33.061000</td>\n",
              "      <td>-117.69200</td>\n",
              "      <td>NaN</td>\n",
              "      <td>11.200000</td>\n",
              "      <td>3.041641e+06</td>\n",
              "      <td>3.031237e+06</td>\n",
              "      <td>136998.250000</td>\n",
              "      <td>27.000000</td>\n",
              "      <td>18.000000</td>\n",
              "      <td>14.000000</td>\n",
              "      <td>113.000000</td>\n",
              "      <td>48.000000</td>\n",
              "      <td>33.000000</td>\n",
              "      <td>24.000000</td>\n",
              "      <td>0.000000</td>\n",
              "      <td>6.000000</td>\n",
              "      <td>NaN</td>\n",
              "      <td>NaN</td>\n",
              "      <td>NaN</td>\n",
              "      <td>NaN</td>\n",
              "      <td>NaN</td>\n",
              "      <td>NaN</td>\n",
              "      <td>NaN</td>\n",
              "    </tr>\n",
              "    <tr>\n",
              "      <th>50%</th>\n",
              "      <td>NaN</td>\n",
              "      <td>2.300000</td>\n",
              "      <td>NaN</td>\n",
              "      <td>NaN</td>\n",
              "      <td>34.056750</td>\n",
              "      <td>-116.59000</td>\n",
              "      <td>NaN</td>\n",
              "      <td>12.800000</td>\n",
              "      <td>3.229114e+06</td>\n",
              "      <td>3.110080e+06</td>\n",
              "      <td>703081.500000</td>\n",
              "      <td>57.000000</td>\n",
              "      <td>28.000000</td>\n",
              "      <td>23.000000</td>\n",
              "      <td>168.000000</td>\n",
              "      <td>70.000000</td>\n",
              "      <td>50.000000</td>\n",
              "      <td>38.000000</td>\n",
              "      <td>13.000000</td>\n",
              "      <td>7.000000</td>\n",
              "      <td>NaN</td>\n",
              "      <td>NaN</td>\n",
              "      <td>NaN</td>\n",
              "      <td>NaN</td>\n",
              "      <td>NaN</td>\n",
              "      <td>NaN</td>\n",
              "      <td>NaN</td>\n",
              "    </tr>\n",
              "    <tr>\n",
              "      <th>75%</th>\n",
              "      <td>NaN</td>\n",
              "      <td>2.590000</td>\n",
              "      <td>NaN</td>\n",
              "      <td>NaN</td>\n",
              "      <td>34.591000</td>\n",
              "      <td>-116.25100</td>\n",
              "      <td>NaN</td>\n",
              "      <td>14.900000</td>\n",
              "      <td>9.669999e+06</td>\n",
              "      <td>9.027968e+06</td>\n",
              "      <td>725926.500000</td>\n",
              "      <td>37764.000000</td>\n",
              "      <td>42.000000</td>\n",
              "      <td>137.000000</td>\n",
              "      <td>294.000000</td>\n",
              "      <td>92.000000</td>\n",
              "      <td>71.000000</td>\n",
              "      <td>61.000000</td>\n",
              "      <td>24.000000</td>\n",
              "      <td>8.000000</td>\n",
              "      <td>NaN</td>\n",
              "      <td>NaN</td>\n",
              "      <td>NaN</td>\n",
              "      <td>NaN</td>\n",
              "      <td>NaN</td>\n",
              "      <td>NaN</td>\n",
              "      <td>NaN</td>\n",
              "    </tr>\n",
              "    <tr>\n",
              "      <th>max</th>\n",
              "      <td>NaN</td>\n",
              "      <td>7.100000</td>\n",
              "      <td>NaN</td>\n",
              "      <td>NaN</td>\n",
              "      <td>37.985500</td>\n",
              "      <td>-113.71900</td>\n",
              "      <td>NaN</td>\n",
              "      <td>29.300000</td>\n",
              "      <td>3.736673e+07</td>\n",
              "      <td>9.875061e+06</td>\n",
              "      <td>754723.000000</td>\n",
              "      <td>71774.000000</td>\n",
              "      <td>3384.000000</td>\n",
              "      <td>3815.000000</td>\n",
              "      <td>1574.000000</td>\n",
              "      <td>996.000000</td>\n",
              "      <td>227.000000</td>\n",
              "      <td>145.000000</td>\n",
              "      <td>88.000000</td>\n",
              "      <td>9.000000</td>\n",
              "      <td>NaN</td>\n",
              "      <td>NaN</td>\n",
              "      <td>NaN</td>\n",
              "      <td>NaN</td>\n",
              "      <td>NaN</td>\n",
              "      <td>NaN</td>\n",
              "      <td>NaN</td>\n",
              "    </tr>\n",
              "  </tbody>\n",
              "</table>\n",
              "</div>"
            ],
            "text/plain": [
              "        GT    Unnamed: 5  Unnamed: 7  ...  Unnamed: 31  NPH  NGRM\n",
              "count  0.0  70798.000000         0.0  ...          0.0  0.0   0.0\n",
              "mean   NaN      2.417826         NaN  ...          NaN  NaN   NaN\n",
              "std    NaN      0.407683         NaN  ...          NaN  NaN   NaN\n",
              "min    NaN      2.000000         NaN  ...          NaN  NaN   NaN\n",
              "25%    NaN      2.120000         NaN  ...          NaN  NaN   NaN\n",
              "50%    NaN      2.300000         NaN  ...          NaN  NaN   NaN\n",
              "75%    NaN      2.590000         NaN  ...          NaN  NaN   NaN\n",
              "max    NaN      7.100000         NaN  ...          NaN  NaN   NaN\n",
              "\n",
              "[8 rows x 27 columns]"
            ]
          },
          "metadata": {},
          "execution_count": 5
        }
      ]
    },
    {
      "cell_type": "markdown",
      "metadata": {
        "ExecuteTime": {
          "end_time": "2019-09-08T21:24:56.161634Z",
          "start_time": "2019-09-08T21:24:56.157793Z"
        },
        "id": "08Ty-hUOhXsG"
      },
      "source": [
        "now that you have a dataframe object you can use methods of the object to modify it. Use the method ```eqdata.rename``` to change the names of the 3 columns that are the only three relevant to us: _date, time, magnitude_"
      ]
    },
    {
      "cell_type": "markdown",
      "metadata": {
        "id": "dYP53BzDhXsG"
      },
      "source": [
        "## prepare date-time column"
      ]
    },
    {
      "cell_type": "code",
      "metadata": {
        "ExecuteTime": {
          "end_time": "2019-09-09T01:40:02.791776Z",
          "start_time": "2019-09-09T01:40:02.761489Z"
        },
        "id": "WFIPxVG_hXsH"
      },
      "source": [
        "# your code here...\n",
        "eqdata = eqdata[['#YYY/MM/DD', 'HH:mm:SS.ss', 'Unnamed: 5']].rename({'#YYY/MM/DD':\"date\", 'HH:mm:SS.ss':\"time\", 'Unnamed: 5':\"mag\"}, axis = 1)"
      ],
      "execution_count": 6,
      "outputs": []
    },
    {
      "cell_type": "code",
      "metadata": {
        "ExecuteTime": {
          "end_time": "2019-09-09T01:40:02.800191Z",
          "start_time": "2019-09-09T01:40:02.793424Z"
        },
        "id": "vZ-NJ-C2hXsJ",
        "colab": {
          "base_uri": "https://localhost:8080/",
          "height": 206
        },
        "outputId": "639cb8bc-8a1e-4481-c9b9-d9273ab90dcb"
      },
      "source": [
        "eqdata.head()"
      ],
      "execution_count": 7,
      "outputs": [
        {
          "output_type": "execute_result",
          "data": {
            "text/html": [
              "<div>\n",
              "<style scoped>\n",
              "    .dataframe tbody tr th:only-of-type {\n",
              "        vertical-align: middle;\n",
              "    }\n",
              "\n",
              "    .dataframe tbody tr th {\n",
              "        vertical-align: top;\n",
              "    }\n",
              "\n",
              "    .dataframe thead th {\n",
              "        text-align: right;\n",
              "    }\n",
              "</style>\n",
              "<table border=\"1\" class=\"dataframe\">\n",
              "  <thead>\n",
              "    <tr style=\"text-align: right;\">\n",
              "      <th></th>\n",
              "      <th>date</th>\n",
              "      <th>time</th>\n",
              "      <th>mag</th>\n",
              "    </tr>\n",
              "  </thead>\n",
              "  <tbody>\n",
              "    <tr>\n",
              "      <th>0</th>\n",
              "      <td>1984/01/01</td>\n",
              "      <td>01:30:57.52</td>\n",
              "      <td>2.02</td>\n",
              "    </tr>\n",
              "    <tr>\n",
              "      <th>1</th>\n",
              "      <td>1984/01/01</td>\n",
              "      <td>05:31:34.16</td>\n",
              "      <td>2.12</td>\n",
              "    </tr>\n",
              "    <tr>\n",
              "      <th>2</th>\n",
              "      <td>1984/01/01</td>\n",
              "      <td>06:59:05.14</td>\n",
              "      <td>2.43</td>\n",
              "    </tr>\n",
              "    <tr>\n",
              "      <th>3</th>\n",
              "      <td>1984/01/01</td>\n",
              "      <td>11:10:25.29</td>\n",
              "      <td>2.07</td>\n",
              "    </tr>\n",
              "    <tr>\n",
              "      <th>4</th>\n",
              "      <td>1984/01/01</td>\n",
              "      <td>19:38:19.79</td>\n",
              "      <td>2.13</td>\n",
              "    </tr>\n",
              "  </tbody>\n",
              "</table>\n",
              "</div>"
            ],
            "text/plain": [
              "         date         time   mag\n",
              "0  1984/01/01  01:30:57.52  2.02\n",
              "1  1984/01/01  05:31:34.16  2.12\n",
              "2  1984/01/01  06:59:05.14  2.43\n",
              "3  1984/01/01  11:10:25.29  2.07\n",
              "4  1984/01/01  19:38:19.79  2.13"
            ]
          },
          "metadata": {},
          "execution_count": 7
        }
      ]
    },
    {
      "cell_type": "code",
      "metadata": {
        "ExecuteTime": {
          "end_time": "2019-09-09T01:40:02.813328Z",
          "start_time": "2019-09-09T01:40:02.801494Z"
        },
        "id": "BQHplE_shXsL",
        "colab": {
          "base_uri": "https://localhost:8080/",
          "height": 300
        },
        "outputId": "98d72202-74c8-413c-f12e-b801dbd4b709"
      },
      "source": [
        "eqdata.describe()"
      ],
      "execution_count": 8,
      "outputs": [
        {
          "output_type": "execute_result",
          "data": {
            "text/html": [
              "<div>\n",
              "<style scoped>\n",
              "    .dataframe tbody tr th:only-of-type {\n",
              "        vertical-align: middle;\n",
              "    }\n",
              "\n",
              "    .dataframe tbody tr th {\n",
              "        vertical-align: top;\n",
              "    }\n",
              "\n",
              "    .dataframe thead th {\n",
              "        text-align: right;\n",
              "    }\n",
              "</style>\n",
              "<table border=\"1\" class=\"dataframe\">\n",
              "  <thead>\n",
              "    <tr style=\"text-align: right;\">\n",
              "      <th></th>\n",
              "      <th>mag</th>\n",
              "    </tr>\n",
              "  </thead>\n",
              "  <tbody>\n",
              "    <tr>\n",
              "      <th>count</th>\n",
              "      <td>70798.000000</td>\n",
              "    </tr>\n",
              "    <tr>\n",
              "      <th>mean</th>\n",
              "      <td>2.417826</td>\n",
              "    </tr>\n",
              "    <tr>\n",
              "      <th>std</th>\n",
              "      <td>0.407683</td>\n",
              "    </tr>\n",
              "    <tr>\n",
              "      <th>min</th>\n",
              "      <td>2.000000</td>\n",
              "    </tr>\n",
              "    <tr>\n",
              "      <th>25%</th>\n",
              "      <td>2.120000</td>\n",
              "    </tr>\n",
              "    <tr>\n",
              "      <th>50%</th>\n",
              "      <td>2.300000</td>\n",
              "    </tr>\n",
              "    <tr>\n",
              "      <th>75%</th>\n",
              "      <td>2.590000</td>\n",
              "    </tr>\n",
              "    <tr>\n",
              "      <th>max</th>\n",
              "      <td>7.100000</td>\n",
              "    </tr>\n",
              "  </tbody>\n",
              "</table>\n",
              "</div>"
            ],
            "text/plain": [
              "                mag\n",
              "count  70798.000000\n",
              "mean       2.417826\n",
              "std        0.407683\n",
              "min        2.000000\n",
              "25%        2.120000\n",
              "50%        2.300000\n",
              "75%        2.590000\n",
              "max        7.100000"
            ]
          },
          "metadata": {},
          "execution_count": 8
        }
      ]
    },
    {
      "cell_type": "markdown",
      "metadata": {
        "id": "EMiRblXihXsN"
      },
      "source": [
        "Now you want to combine the columns containing date and time and convert them to a \"datetime\" kind of data object. \n"
      ]
    },
    {
      "cell_type": "markdown",
      "metadata": {
        "ExecuteTime": {
          "end_time": "2019-09-08T21:26:57.438903Z",
          "start_time": "2019-09-08T21:26:57.435133Z"
        },
        "id": "ZPOv1TJihXsN"
      },
      "source": [
        "What data type are the _time_ and _date_ columns right now? What type you want them to be to conver them to datetime with ```pd.datetime()```? type 'O' means object, typically a string. "
      ]
    },
    {
      "cell_type": "code",
      "metadata": {
        "ExecuteTime": {
          "end_time": "2019-09-09T01:40:02.859962Z",
          "start_time": "2019-09-09T01:40:02.856654Z"
        },
        "id": "sqfVbxyYhXsO",
        "colab": {
          "base_uri": "https://localhost:8080/"
        },
        "outputId": "bf548ee5-727a-404d-b292-27e37a4b9ccf"
      },
      "source": [
        "eqdata.time.dtype, eqdata.date.dtype"
      ],
      "execution_count": 9,
      "outputs": [
        {
          "output_type": "execute_result",
          "data": {
            "text/plain": [
              "(dtype('O'), dtype('O'))"
            ]
          },
          "metadata": {},
          "execution_count": 9
        }
      ]
    },
    {
      "cell_type": "markdown",
      "metadata": {
        "ExecuteTime": {
          "end_time": "2019-09-08T21:28:58.082172Z",
          "start_time": "2019-09-08T21:28:58.078926Z"
        },
        "id": "O9qP9mRShXsP"
      },
      "source": [
        "to do this conversion I \n",
        "\n",
        "   1. joined date and time into a single string for each row with a [\"list comprehension\"](https://www.pythonforbeginners.com/basics/list-comprehensions-in-python) (essentially a for loop but more efficient and compact). You do not have to do it with a list comprehension, you can use just a for loop.\n",
        "\n",
        "   2. used pd.datetime() to convert the resulting new dataframe column into a dataframe column containing _datetime_ objects (see lab)\n",
        "\n",
        "   3. but this did not work because of the formatting of some dates, so I had to go back and fix 5 entries. (you are on your own to figure out this one)"
      ]
    },
    {
      "cell_type": "code",
      "metadata": {
        "ExecuteTime": {
          "end_time": "2019-09-09T01:40:12.489690Z",
          "start_time": "2019-09-09T01:40:02.914845Z"
        },
        "id": "eOUTqBDOhXsQ"
      },
      "source": [
        "# your code here\n",
        "eqdata[\"datetime\"] = [eqdata.iloc[i].date + \" \" + eqdata.iloc[i].time for i in range(eqdata.shape[0])]"
      ],
      "execution_count": 10,
      "outputs": []
    },
    {
      "cell_type": "code",
      "metadata": {
        "id": "uzC65-nHkDdG"
      },
      "source": [
        "eqdata[\"datetime\"] = eqdata[\"datetime\"].str.replace(\"60.00\",\"59.99\")"
      ],
      "execution_count": 11,
      "outputs": []
    },
    {
      "cell_type": "code",
      "metadata": {
        "id": "-lw9CobckHcy"
      },
      "source": [
        "eqdata[\"datetime\"] = pd.to_datetime(eqdata[\"datetime\"])"
      ],
      "execution_count": 12,
      "outputs": []
    },
    {
      "cell_type": "code",
      "metadata": {
        "ExecuteTime": {
          "end_time": "2019-09-09T01:40:29.216627Z",
          "start_time": "2019-09-09T01:40:29.206374Z"
        },
        "id": "o9PeG5J5hXsU",
        "colab": {
          "base_uri": "https://localhost:8080/",
          "height": 206
        },
        "outputId": "ce1379f1-f6d7-414e-e395-0e628a77d8d9"
      },
      "source": [
        "eqdata.head()"
      ],
      "execution_count": 13,
      "outputs": [
        {
          "output_type": "execute_result",
          "data": {
            "text/html": [
              "<div>\n",
              "<style scoped>\n",
              "    .dataframe tbody tr th:only-of-type {\n",
              "        vertical-align: middle;\n",
              "    }\n",
              "\n",
              "    .dataframe tbody tr th {\n",
              "        vertical-align: top;\n",
              "    }\n",
              "\n",
              "    .dataframe thead th {\n",
              "        text-align: right;\n",
              "    }\n",
              "</style>\n",
              "<table border=\"1\" class=\"dataframe\">\n",
              "  <thead>\n",
              "    <tr style=\"text-align: right;\">\n",
              "      <th></th>\n",
              "      <th>date</th>\n",
              "      <th>time</th>\n",
              "      <th>mag</th>\n",
              "      <th>datetime</th>\n",
              "    </tr>\n",
              "  </thead>\n",
              "  <tbody>\n",
              "    <tr>\n",
              "      <th>0</th>\n",
              "      <td>1984/01/01</td>\n",
              "      <td>01:30:57.52</td>\n",
              "      <td>2.02</td>\n",
              "      <td>1984-01-01 01:30:57.520</td>\n",
              "    </tr>\n",
              "    <tr>\n",
              "      <th>1</th>\n",
              "      <td>1984/01/01</td>\n",
              "      <td>05:31:34.16</td>\n",
              "      <td>2.12</td>\n",
              "      <td>1984-01-01 05:31:34.160</td>\n",
              "    </tr>\n",
              "    <tr>\n",
              "      <th>2</th>\n",
              "      <td>1984/01/01</td>\n",
              "      <td>06:59:05.14</td>\n",
              "      <td>2.43</td>\n",
              "      <td>1984-01-01 06:59:05.140</td>\n",
              "    </tr>\n",
              "    <tr>\n",
              "      <th>3</th>\n",
              "      <td>1984/01/01</td>\n",
              "      <td>11:10:25.29</td>\n",
              "      <td>2.07</td>\n",
              "      <td>1984-01-01 11:10:25.290</td>\n",
              "    </tr>\n",
              "    <tr>\n",
              "      <th>4</th>\n",
              "      <td>1984/01/01</td>\n",
              "      <td>19:38:19.79</td>\n",
              "      <td>2.13</td>\n",
              "      <td>1984-01-01 19:38:19.790</td>\n",
              "    </tr>\n",
              "  </tbody>\n",
              "</table>\n",
              "</div>"
            ],
            "text/plain": [
              "         date         time   mag                datetime\n",
              "0  1984/01/01  01:30:57.52  2.02 1984-01-01 01:30:57.520\n",
              "1  1984/01/01  05:31:34.16  2.12 1984-01-01 05:31:34.160\n",
              "2  1984/01/01  06:59:05.14  2.43 1984-01-01 06:59:05.140\n",
              "3  1984/01/01  11:10:25.29  2.07 1984-01-01 11:10:25.290\n",
              "4  1984/01/01  19:38:19.79  2.13 1984-01-01 19:38:19.790"
            ]
          },
          "metadata": {},
          "execution_count": 13
        }
      ]
    },
    {
      "cell_type": "code",
      "metadata": {
        "colab": {
          "base_uri": "https://localhost:8080/"
        },
        "id": "mbONPDp1kWAv",
        "outputId": "e6a5dcce-4f7f-46cf-c1c8-8040c561cd14"
      },
      "source": [
        "eqdata.datetime.dtype"
      ],
      "execution_count": 14,
      "outputs": [
        {
          "output_type": "execute_result",
          "data": {
            "text/plain": [
              "dtype('<M8[ns]')"
            ]
          },
          "metadata": {},
          "execution_count": 14
        }
      ]
    },
    {
      "cell_type": "markdown",
      "metadata": {
        "id": "zAmaMzQIhXsW"
      },
      "source": [
        "## select valuable data"
      ]
    },
    {
      "cell_type": "markdown",
      "metadata": {
        "id": "R3kga7VvhXsZ"
      },
      "source": [
        "Following the description in Section 2  of Corral 2018 I removed all data that did not belong to a \"stationary\" period. Third paragraph section 2 of Corral 2018. You can see the cell of code I used to do this [here](https://github.com/fedhere/DSPS/blob/master/HW3/Corral2018_selectStationary.py) at no points cost, cause it was a bit tricky, but I encourage you to try and do it yourself. If you can do it in fewer lines than I did its automatically +5 points (just turning the loop into a list comprehension does not count. That is an obvious way to decrease the number of lines of code; I did not do it simply to enhance readability.)"
      ]
    },
    {
      "cell_type": "code",
      "metadata": {
        "ExecuteTime": {
          "end_time": "2019-09-09T01:40:29.230993Z",
          "start_time": "2019-09-09T01:40:29.219163Z"
        },
        "id": "tQRj4CAEhXsZ"
      },
      "source": [
        "# your code here\n",
        "# Create a numpy array with the decimal intervals\n",
        "# We saved is a a 1D array, where the intervals are arranged continously\n",
        "# The even positions represent the start year and the next odd position the end year\n",
        "rango = np.array([1984, 1986.5, \n",
        "          1990.3, 1992.1, \n",
        "          1994.6, 1995.6,\n",
        "          1996.1,1996.5, \n",
        "          1997,1997.6, \n",
        "          1997.75,1998.15, \n",
        "          1998.25,1999.35, \n",
        "          2000.55,2000.8,\n",
        "          2000.9 ,2001.25, \n",
        "          2001.6 ,2002, \n",
        "          2002.5 ,2003])"
      ],
      "execution_count": 15,
      "outputs": []
    },
    {
      "cell_type": "code",
      "metadata": {
        "id": "em3_ixuqwdF-"
      },
      "source": [
        "# Convert the decimal date to datetime\n",
        "# We reduced the lines of code by using numpy arrays and pandas function to_timedelta\n",
        "ss = pd.to_datetime(rango.astype(int), format=\"%Y\") + pd.to_timedelta(((rango-rango.astype(int))*365.25), unit = 'd')"
      ],
      "execution_count": 16,
      "outputs": []
    },
    {
      "cell_type": "code",
      "metadata": {
        "colab": {
          "base_uri": "https://localhost:8080/"
        },
        "id": "blvSv25BBO4Y",
        "outputId": "ecb4e261-1ffc-4142-942a-4f1f39ad146c"
      },
      "source": [
        "ss"
      ],
      "execution_count": 17,
      "outputs": [
        {
          "output_type": "execute_result",
          "data": {
            "text/plain": [
              "DatetimeIndex(['1984-01-01 00:00:00', '1986-07-02 15:00:00',\n",
              "               '1990-04-20 13:48:00', '1992-02-06 12:36:00',\n",
              "               '1994-08-08 03:36:00', '1995-08-08 03:36:00',\n",
              "               '1996-02-06 12:36:00', '1996-07-01 15:00:00',\n",
              "               '1997-01-01 00:00:00', '1997-08-08 03:36:00',\n",
              "               '1997-10-01 22:30:00', '1998-02-24 18:54:00',\n",
              "               '1998-04-02 07:30:00', '1999-05-08 20:06:00',\n",
              "               '2000-07-19 21:18:00', '2000-10-19 04:48:00',\n",
              "               '2000-11-24 17:24:00', '2001-04-02 07:30:00',\n",
              "               '2001-08-08 03:36:00', '2002-01-01 00:00:00',\n",
              "               '2002-07-02 15:00:00', '2003-01-01 00:00:00'],\n",
              "              dtype='datetime64[ns]', freq=None)"
            ]
          },
          "metadata": {},
          "execution_count": 17
        }
      ]
>>>>>>> a9ee45e270bd48e2ad0c87ce5edcea609c658168
    },
    "id": "uphAqv5ZhXsA",
    "outputId": "4ca6c7b7-415f-4356-ef3b-ba830bd35968"
   },
   "outputs": [
    {
<<<<<<< HEAD
     "data": {
      "text/plain": [
       "(70798, 34)"
      ]
     },
     "execution_count": 108,
     "metadata": {},
     "output_type": "execute_result"
    }
   ],
   "source": [
    "eqdata.shape"
   ]
  },
  {
   "cell_type": "code",
   "execution_count": 109,
   "metadata": {
    "colab": {
     "base_uri": "https://localhost:8080/",
     "height": 241
    },
    "id": "s8ZZSPG6ipUu",
    "outputId": "a8fb77d7-a1e4-4dee-bae1-ac884485d1cd"
   },
   "outputs": [
    {
     "data": {
      "text/html": [
       "<div>\n",
       "<style scoped>\n",
       "    .dataframe tbody tr th:only-of-type {\n",
       "        vertical-align: middle;\n",
       "    }\n",
       "\n",
       "    .dataframe tbody tr th {\n",
       "        vertical-align: top;\n",
       "    }\n",
       "\n",
       "    .dataframe thead th {\n",
       "        text-align: right;\n",
       "    }\n",
       "</style>\n",
       "<table border=\"1\" class=\"dataframe\">\n",
       "  <thead>\n",
       "    <tr style=\"text-align: right;\">\n",
       "      <th></th>\n",
       "      <th>#YYY/MM/DD</th>\n",
       "      <th>HH:mm:SS.ss</th>\n",
       "      <th>ET</th>\n",
       "      <th>GT</th>\n",
       "      <th>MAG</th>\n",
       "      <th>Unnamed: 5</th>\n",
       "      <th>M</th>\n",
       "      <th>Unnamed: 7</th>\n",
       "      <th>Unnamed: 8</th>\n",
       "      <th>Unnamed: 9</th>\n",
       "      <th>...</th>\n",
       "      <th>Q</th>\n",
       "      <th>Unnamed: 25</th>\n",
       "      <th>EVID</th>\n",
       "      <th>Unnamed: 27</th>\n",
       "      <th>Unnamed: 28</th>\n",
       "      <th>Unnamed: 29</th>\n",
       "      <th>Unnamed: 30</th>\n",
       "      <th>Unnamed: 31</th>\n",
       "      <th>NPH</th>\n",
       "      <th>NGRM</th>\n",
       "    </tr>\n",
       "  </thead>\n",
       "  <tbody>\n",
       "    <tr>\n",
       "      <th>0</th>\n",
       "      <td>1984/01/01</td>\n",
       "      <td>01:30:57.52</td>\n",
       "      <td>eq</td>\n",
       "      <td>NaN</td>\n",
       "      <td>l</td>\n",
       "      <td>2.02</td>\n",
       "      <td>c</td>\n",
       "      <td>NaN</td>\n",
       "      <td>NaN</td>\n",
       "      <td>33.246</td>\n",
       "      <td>...</td>\n",
       "      <td>17.0</td>\n",
       "      <td>NaN</td>\n",
       "      <td>NaN</td>\n",
       "      <td>NaN</td>\n",
       "      <td>NaN</td>\n",
       "      <td>NaN</td>\n",
       "      <td>NaN</td>\n",
       "      <td>NaN</td>\n",
       "      <td>NaN</td>\n",
       "      <td>NaN</td>\n",
       "    </tr>\n",
       "    <tr>\n",
       "      <th>1</th>\n",
       "      <td>1984/01/01</td>\n",
       "      <td>05:31:34.16</td>\n",
       "      <td>eq</td>\n",
       "      <td>NaN</td>\n",
       "      <td>l</td>\n",
       "      <td>2.12</td>\n",
       "      <td>c</td>\n",
       "      <td>NaN</td>\n",
       "      <td>NaN</td>\n",
       "      <td>32.945</td>\n",
       "      <td>...</td>\n",
       "      <td>42.0</td>\n",
       "      <td>NaN</td>\n",
       "      <td>NaN</td>\n",
       "      <td>NaN</td>\n",
       "      <td>NaN</td>\n",
       "      <td>NaN</td>\n",
       "      <td>NaN</td>\n",
       "      <td>NaN</td>\n",
       "      <td>NaN</td>\n",
       "      <td>NaN</td>\n",
       "    </tr>\n",
       "    <tr>\n",
       "      <th>2</th>\n",
       "      <td>1984/01/01</td>\n",
       "      <td>06:59:05.14</td>\n",
       "      <td>eq</td>\n",
       "      <td>NaN</td>\n",
       "      <td>l</td>\n",
       "      <td>2.43</td>\n",
       "      <td>c</td>\n",
       "      <td>NaN</td>\n",
       "      <td>NaN</td>\n",
       "      <td>33.343</td>\n",
       "      <td>...</td>\n",
       "      <td>30.0</td>\n",
       "      <td>NaN</td>\n",
       "      <td>NaN</td>\n",
       "      <td>NaN</td>\n",
       "      <td>NaN</td>\n",
       "      <td>NaN</td>\n",
       "      <td>NaN</td>\n",
       "      <td>NaN</td>\n",
       "      <td>NaN</td>\n",
       "      <td>NaN</td>\n",
       "    </tr>\n",
       "    <tr>\n",
       "      <th>3</th>\n",
       "      <td>1984/01/01</td>\n",
       "      <td>11:10:25.29</td>\n",
       "      <td>eq</td>\n",
       "      <td>NaN</td>\n",
       "      <td>l</td>\n",
       "      <td>2.07</td>\n",
       "      <td>c</td>\n",
       "      <td>NaN</td>\n",
       "      <td>NaN</td>\n",
       "      <td>33.668</td>\n",
       "      <td>...</td>\n",
       "      <td>NaN</td>\n",
       "      <td>NaN</td>\n",
       "      <td>NaN</td>\n",
       "      <td>NaN</td>\n",
       "      <td>NaN</td>\n",
       "      <td>NaN</td>\n",
       "      <td>NaN</td>\n",
       "      <td>NaN</td>\n",
       "      <td>NaN</td>\n",
       "      <td>NaN</td>\n",
       "    </tr>\n",
       "    <tr>\n",
       "      <th>4</th>\n",
       "      <td>1984/01/01</td>\n",
       "      <td>19:38:19.79</td>\n",
       "      <td>eq</td>\n",
       "      <td>NaN</td>\n",
       "      <td>l</td>\n",
       "      <td>2.13</td>\n",
       "      <td>c</td>\n",
       "      <td>NaN</td>\n",
       "      <td>NaN</td>\n",
       "      <td>33.963</td>\n",
       "      <td>...</td>\n",
       "      <td>49.0</td>\n",
       "      <td>NaN</td>\n",
       "      <td>NaN</td>\n",
       "      <td>NaN</td>\n",
       "      <td>NaN</td>\n",
       "      <td>NaN</td>\n",
       "      <td>NaN</td>\n",
       "      <td>NaN</td>\n",
       "      <td>NaN</td>\n",
       "      <td>NaN</td>\n",
       "    </tr>\n",
       "  </tbody>\n",
       "</table>\n",
       "<p>5 rows × 34 columns</p>\n",
       "</div>"
      ],
      "text/plain": [
       "   #YYY/MM/DD  HH:mm:SS.ss  ET  GT MAG  Unnamed: 5  M  Unnamed: 7  Unnamed: 8  \\\n",
       "0  1984/01/01  01:30:57.52  eq NaN   l        2.02  c         NaN         NaN   \n",
       "1  1984/01/01  05:31:34.16  eq NaN   l        2.12  c         NaN         NaN   \n",
       "2  1984/01/01  06:59:05.14  eq NaN   l        2.43  c         NaN         NaN   \n",
       "3  1984/01/01  11:10:25.29  eq NaN   l        2.07  c         NaN         NaN   \n",
       "4  1984/01/01  19:38:19.79  eq NaN   l        2.13  c         NaN         NaN   \n",
       "\n",
       "   Unnamed: 9  ...     Q  Unnamed: 25  EVID Unnamed: 27 Unnamed: 28  \\\n",
       "0      33.246  ...  17.0          NaN   NaN         NaN         NaN   \n",
       "1      32.945  ...  42.0          NaN   NaN         NaN         NaN   \n",
       "2      33.343  ...  30.0          NaN   NaN         NaN         NaN   \n",
       "3      33.668  ...   NaN          NaN   NaN         NaN         NaN   \n",
       "4      33.963  ...  49.0          NaN   NaN         NaN         NaN   \n",
       "\n",
       "   Unnamed: 29  Unnamed: 30  Unnamed: 31  NPH  NGRM  \n",
       "0          NaN          NaN          NaN  NaN   NaN  \n",
       "1          NaN          NaN          NaN  NaN   NaN  \n",
       "2          NaN          NaN          NaN  NaN   NaN  \n",
       "3          NaN          NaN          NaN  NaN   NaN  \n",
       "4          NaN          NaN          NaN  NaN   NaN  \n",
       "\n",
       "[5 rows x 34 columns]"
      ]
     },
     "execution_count": 109,
     "metadata": {},
     "output_type": "execute_result"
    }
   ],
   "source": [
    "eqdata.head()"
   ]
  },
  {
   "cell_type": "code",
   "execution_count": 110,
   "metadata": {
    "ExecuteTime": {
     "end_time": "2019-09-09T01:40:02.759957Z",
     "start_time": "2019-09-09T01:40:02.662327Z"
    },
    "colab": {
     "base_uri": "https://localhost:8080/",
     "height": 334
    },
    "id": "405C-Y8_hXsD",
    "outputId": "7f96c07e-79e9-4d41-c571-5154b346e6f0"
   },
   "outputs": [
    {
     "data": {
      "text/html": [
       "<div>\n",
       "<style scoped>\n",
       "    .dataframe tbody tr th:only-of-type {\n",
       "        vertical-align: middle;\n",
       "    }\n",
       "\n",
       "    .dataframe tbody tr th {\n",
       "        vertical-align: top;\n",
       "    }\n",
       "\n",
       "    .dataframe thead th {\n",
       "        text-align: right;\n",
       "    }\n",
       "</style>\n",
       "<table border=\"1\" class=\"dataframe\">\n",
       "  <thead>\n",
       "    <tr style=\"text-align: right;\">\n",
       "      <th></th>\n",
       "      <th>GT</th>\n",
       "      <th>Unnamed: 5</th>\n",
       "      <th>Unnamed: 7</th>\n",
       "      <th>Unnamed: 8</th>\n",
       "      <th>Unnamed: 9</th>\n",
       "      <th>LAT</th>\n",
       "      <th>Unnamed: 11</th>\n",
       "      <th>Unnamed: 12</th>\n",
       "      <th>Unnamed: 15</th>\n",
       "      <th>Unnamed: 16</th>\n",
       "      <th>...</th>\n",
       "      <th>Q</th>\n",
       "      <th>Unnamed: 25</th>\n",
       "      <th>EVID</th>\n",
       "      <th>Unnamed: 27</th>\n",
       "      <th>Unnamed: 28</th>\n",
       "      <th>Unnamed: 29</th>\n",
       "      <th>Unnamed: 30</th>\n",
       "      <th>Unnamed: 31</th>\n",
       "      <th>NPH</th>\n",
       "      <th>NGRM</th>\n",
       "    </tr>\n",
       "  </thead>\n",
       "  <tbody>\n",
       "    <tr>\n",
       "      <th>count</th>\n",
       "      <td>0.0</td>\n",
       "      <td>70798.000000</td>\n",
       "      <td>0.0</td>\n",
       "      <td>0.0</td>\n",
       "      <td>70798.000000</td>\n",
       "      <td>70798.00000</td>\n",
       "      <td>0.0</td>\n",
       "      <td>9648.000000</td>\n",
       "      <td>7.359000e+03</td>\n",
       "      <td>4.628900e+04</td>\n",
       "      <td>...</td>\n",
       "      <td>3387.000000</td>\n",
       "      <td>469.000000</td>\n",
       "      <td>2.000000</td>\n",
       "      <td>0.0</td>\n",
       "      <td>0.0</td>\n",
       "      <td>0.0</td>\n",
       "      <td>0.0</td>\n",
       "      <td>0.0</td>\n",
       "      <td>0.0</td>\n",
       "      <td>0.0</td>\n",
       "    </tr>\n",
       "    <tr>\n",
       "      <th>mean</th>\n",
       "      <td>NaN</td>\n",
       "      <td>2.417826</td>\n",
       "      <td>NaN</td>\n",
       "      <td>NaN</td>\n",
       "      <td>33.977749</td>\n",
       "      <td>-116.88145</td>\n",
       "      <td>NaN</td>\n",
       "      <td>13.354343</td>\n",
       "      <td>6.097558e+06</td>\n",
       "      <td>4.482677e+06</td>\n",
       "      <td>...</td>\n",
       "      <td>43.415412</td>\n",
       "      <td>14.746269</td>\n",
       "      <td>7.000000</td>\n",
       "      <td>NaN</td>\n",
       "      <td>NaN</td>\n",
       "      <td>NaN</td>\n",
       "      <td>NaN</td>\n",
       "      <td>NaN</td>\n",
       "      <td>NaN</td>\n",
       "      <td>NaN</td>\n",
       "    </tr>\n",
       "    <tr>\n",
       "      <th>std</th>\n",
       "      <td>NaN</td>\n",
       "      <td>0.407683</td>\n",
       "      <td>NaN</td>\n",
       "      <td>NaN</td>\n",
       "      <td>1.156586</td>\n",
       "      <td>1.07667</td>\n",
       "      <td>NaN</td>\n",
       "      <td>2.724517</td>\n",
       "      <td>4.441852e+06</td>\n",
       "      <td>3.130379e+06</td>\n",
       "      <td>...</td>\n",
       "      <td>24.266088</td>\n",
       "      <td>17.013243</td>\n",
       "      <td>2.828427</td>\n",
       "      <td>NaN</td>\n",
       "      <td>NaN</td>\n",
       "      <td>NaN</td>\n",
       "      <td>NaN</td>\n",
       "      <td>NaN</td>\n",
       "      <td>NaN</td>\n",
       "      <td>NaN</td>\n",
       "    </tr>\n",
       "    <tr>\n",
       "      <th>min</th>\n",
       "      <td>NaN</td>\n",
       "      <td>2.000000</td>\n",
       "      <td>NaN</td>\n",
       "      <td>NaN</td>\n",
       "      <td>30.094830</td>\n",
       "      <td>-121.76000</td>\n",
       "      <td>NaN</td>\n",
       "      <td>10.000000</td>\n",
       "      <td>1.000432e+06</td>\n",
       "      <td>1.070000e+02</td>\n",
       "      <td>...</td>\n",
       "      <td>0.000000</td>\n",
       "      <td>0.000000</td>\n",
       "      <td>5.000000</td>\n",
       "      <td>NaN</td>\n",
       "      <td>NaN</td>\n",
       "      <td>NaN</td>\n",
       "      <td>NaN</td>\n",
       "      <td>NaN</td>\n",
       "      <td>NaN</td>\n",
       "      <td>NaN</td>\n",
       "    </tr>\n",
       "    <tr>\n",
       "      <th>25%</th>\n",
       "      <td>NaN</td>\n",
       "      <td>2.120000</td>\n",
       "      <td>NaN</td>\n",
       "      <td>NaN</td>\n",
       "      <td>33.061000</td>\n",
       "      <td>-117.69200</td>\n",
       "      <td>NaN</td>\n",
       "      <td>11.200000</td>\n",
       "      <td>3.041641e+06</td>\n",
       "      <td>3.031237e+06</td>\n",
       "      <td>...</td>\n",
       "      <td>24.000000</td>\n",
       "      <td>0.000000</td>\n",
       "      <td>6.000000</td>\n",
       "      <td>NaN</td>\n",
       "      <td>NaN</td>\n",
       "      <td>NaN</td>\n",
       "      <td>NaN</td>\n",
       "      <td>NaN</td>\n",
       "      <td>NaN</td>\n",
       "      <td>NaN</td>\n",
       "    </tr>\n",
       "    <tr>\n",
       "      <th>50%</th>\n",
       "      <td>NaN</td>\n",
       "      <td>2.300000</td>\n",
       "      <td>NaN</td>\n",
       "      <td>NaN</td>\n",
       "      <td>34.056750</td>\n",
       "      <td>-116.59000</td>\n",
       "      <td>NaN</td>\n",
       "      <td>12.800000</td>\n",
       "      <td>3.229114e+06</td>\n",
       "      <td>3.110080e+06</td>\n",
       "      <td>...</td>\n",
       "      <td>38.000000</td>\n",
       "      <td>13.000000</td>\n",
       "      <td>7.000000</td>\n",
       "      <td>NaN</td>\n",
       "      <td>NaN</td>\n",
       "      <td>NaN</td>\n",
       "      <td>NaN</td>\n",
       "      <td>NaN</td>\n",
       "      <td>NaN</td>\n",
       "      <td>NaN</td>\n",
       "    </tr>\n",
       "    <tr>\n",
       "      <th>75%</th>\n",
       "      <td>NaN</td>\n",
       "      <td>2.590000</td>\n",
       "      <td>NaN</td>\n",
       "      <td>NaN</td>\n",
       "      <td>34.591000</td>\n",
       "      <td>-116.25100</td>\n",
       "      <td>NaN</td>\n",
       "      <td>14.900000</td>\n",
       "      <td>9.669999e+06</td>\n",
       "      <td>9.027968e+06</td>\n",
       "      <td>...</td>\n",
       "      <td>61.000000</td>\n",
       "      <td>24.000000</td>\n",
       "      <td>8.000000</td>\n",
       "      <td>NaN</td>\n",
       "      <td>NaN</td>\n",
       "      <td>NaN</td>\n",
       "      <td>NaN</td>\n",
       "      <td>NaN</td>\n",
       "      <td>NaN</td>\n",
       "      <td>NaN</td>\n",
       "    </tr>\n",
       "    <tr>\n",
       "      <th>max</th>\n",
       "      <td>NaN</td>\n",
       "      <td>7.100000</td>\n",
       "      <td>NaN</td>\n",
       "      <td>NaN</td>\n",
       "      <td>37.985500</td>\n",
       "      <td>-113.71900</td>\n",
       "      <td>NaN</td>\n",
       "      <td>29.300000</td>\n",
       "      <td>3.736673e+07</td>\n",
       "      <td>9.875061e+06</td>\n",
       "      <td>...</td>\n",
       "      <td>145.000000</td>\n",
       "      <td>88.000000</td>\n",
       "      <td>9.000000</td>\n",
       "      <td>NaN</td>\n",
       "      <td>NaN</td>\n",
       "      <td>NaN</td>\n",
       "      <td>NaN</td>\n",
       "      <td>NaN</td>\n",
       "      <td>NaN</td>\n",
       "      <td>NaN</td>\n",
       "    </tr>\n",
       "  </tbody>\n",
       "</table>\n",
       "<p>8 rows × 27 columns</p>\n",
       "</div>"
      ],
      "text/plain": [
       "        GT    Unnamed: 5  Unnamed: 7  Unnamed: 8    Unnamed: 9          LAT  \\\n",
       "count  0.0  70798.000000         0.0         0.0  70798.000000  70798.00000   \n",
       "mean   NaN      2.417826         NaN         NaN     33.977749   -116.88145   \n",
       "std    NaN      0.407683         NaN         NaN      1.156586      1.07667   \n",
       "min    NaN      2.000000         NaN         NaN     30.094830   -121.76000   \n",
       "25%    NaN      2.120000         NaN         NaN     33.061000   -117.69200   \n",
       "50%    NaN      2.300000         NaN         NaN     34.056750   -116.59000   \n",
       "75%    NaN      2.590000         NaN         NaN     34.591000   -116.25100   \n",
       "max    NaN      7.100000         NaN         NaN     37.985500   -113.71900   \n",
       "\n",
       "       Unnamed: 11  Unnamed: 12   Unnamed: 15   Unnamed: 16  ...            Q  \\\n",
       "count          0.0  9648.000000  7.359000e+03  4.628900e+04  ...  3387.000000   \n",
       "mean           NaN    13.354343  6.097558e+06  4.482677e+06  ...    43.415412   \n",
       "std            NaN     2.724517  4.441852e+06  3.130379e+06  ...    24.266088   \n",
       "min            NaN    10.000000  1.000432e+06  1.070000e+02  ...     0.000000   \n",
       "25%            NaN    11.200000  3.041641e+06  3.031237e+06  ...    24.000000   \n",
       "50%            NaN    12.800000  3.229114e+06  3.110080e+06  ...    38.000000   \n",
       "75%            NaN    14.900000  9.669999e+06  9.027968e+06  ...    61.000000   \n",
       "max            NaN    29.300000  3.736673e+07  9.875061e+06  ...   145.000000   \n",
       "\n",
       "       Unnamed: 25      EVID  Unnamed: 27  Unnamed: 28  Unnamed: 29  \\\n",
       "count   469.000000  2.000000          0.0          0.0          0.0   \n",
       "mean     14.746269  7.000000          NaN          NaN          NaN   \n",
       "std      17.013243  2.828427          NaN          NaN          NaN   \n",
       "min       0.000000  5.000000          NaN          NaN          NaN   \n",
       "25%       0.000000  6.000000          NaN          NaN          NaN   \n",
       "50%      13.000000  7.000000          NaN          NaN          NaN   \n",
       "75%      24.000000  8.000000          NaN          NaN          NaN   \n",
       "max      88.000000  9.000000          NaN          NaN          NaN   \n",
       "\n",
       "       Unnamed: 30  Unnamed: 31  NPH  NGRM  \n",
       "count          0.0          0.0  0.0   0.0  \n",
       "mean           NaN          NaN  NaN   NaN  \n",
       "std            NaN          NaN  NaN   NaN  \n",
       "min            NaN          NaN  NaN   NaN  \n",
       "25%            NaN          NaN  NaN   NaN  \n",
       "50%            NaN          NaN  NaN   NaN  \n",
       "75%            NaN          NaN  NaN   NaN  \n",
       "max            NaN          NaN  NaN   NaN  \n",
       "\n",
       "[8 rows x 27 columns]"
      ]
     },
     "execution_count": 110,
     "metadata": {},
     "output_type": "execute_result"
    }
   ],
   "source": [
    "eqdata.describe()"
   ]
  },
  {
   "cell_type": "markdown",
   "metadata": {
    "ExecuteTime": {
     "end_time": "2019-09-08T21:24:56.161634Z",
     "start_time": "2019-09-08T21:24:56.157793Z"
    },
    "id": "08Ty-hUOhXsG"
   },
   "source": [
    "now that you have a dataframe object you can use methods of the object to modify it. Use the method ```eqdata.rename``` to change the names of the 3 columns that are the only three relevant to us: _date, time, magnitude_"
   ]
  },
  {
   "cell_type": "markdown",
   "metadata": {
    "id": "dYP53BzDhXsG"
   },
   "source": [
    "## prepare date-time column"
   ]
  },
  {
   "cell_type": "code",
   "execution_count": 111,
   "metadata": {
    "ExecuteTime": {
     "end_time": "2019-09-09T01:40:02.791776Z",
     "start_time": "2019-09-09T01:40:02.761489Z"
    },
    "id": "WFIPxVG_hXsH"
   },
   "outputs": [],
   "source": [
    "# your code here...\n",
    "eqdata = eqdata[['#YYY/MM/DD', 'HH:mm:SS.ss', 'Unnamed: 5']].rename({'#YYY/MM/DD':\"date\", 'HH:mm:SS.ss':\"time\", 'Unnamed: 5':\"mag\"}, axis = 1)"
   ]
  },
  {
   "cell_type": "code",
   "execution_count": 112,
   "metadata": {
    "ExecuteTime": {
     "end_time": "2019-09-09T01:40:02.800191Z",
     "start_time": "2019-09-09T01:40:02.793424Z"
=======
      "cell_type": "code",
      "metadata": {
        "colab": {
          "base_uri": "https://localhost:8080/",
          "height": 206
        },
        "id": "i-WJN2PRb27U",
        "outputId": "7411b522-6044-4e09-84a6-e11cd452fbc6"
      },
      "source": [
        "eqdata.head()"
      ],
      "execution_count": 18,
      "outputs": [
        {
          "output_type": "execute_result",
          "data": {
            "text/html": [
              "<div>\n",
              "<style scoped>\n",
              "    .dataframe tbody tr th:only-of-type {\n",
              "        vertical-align: middle;\n",
              "    }\n",
              "\n",
              "    .dataframe tbody tr th {\n",
              "        vertical-align: top;\n",
              "    }\n",
              "\n",
              "    .dataframe thead th {\n",
              "        text-align: right;\n",
              "    }\n",
              "</style>\n",
              "<table border=\"1\" class=\"dataframe\">\n",
              "  <thead>\n",
              "    <tr style=\"text-align: right;\">\n",
              "      <th></th>\n",
              "      <th>date</th>\n",
              "      <th>time</th>\n",
              "      <th>mag</th>\n",
              "      <th>datetime</th>\n",
              "    </tr>\n",
              "  </thead>\n",
              "  <tbody>\n",
              "    <tr>\n",
              "      <th>0</th>\n",
              "      <td>1984/01/01</td>\n",
              "      <td>01:30:57.52</td>\n",
              "      <td>2.02</td>\n",
              "      <td>1984-01-01 01:30:57.520</td>\n",
              "    </tr>\n",
              "    <tr>\n",
              "      <th>1</th>\n",
              "      <td>1984/01/01</td>\n",
              "      <td>05:31:34.16</td>\n",
              "      <td>2.12</td>\n",
              "      <td>1984-01-01 05:31:34.160</td>\n",
              "    </tr>\n",
              "    <tr>\n",
              "      <th>2</th>\n",
              "      <td>1984/01/01</td>\n",
              "      <td>06:59:05.14</td>\n",
              "      <td>2.43</td>\n",
              "      <td>1984-01-01 06:59:05.140</td>\n",
              "    </tr>\n",
              "    <tr>\n",
              "      <th>3</th>\n",
              "      <td>1984/01/01</td>\n",
              "      <td>11:10:25.29</td>\n",
              "      <td>2.07</td>\n",
              "      <td>1984-01-01 11:10:25.290</td>\n",
              "    </tr>\n",
              "    <tr>\n",
              "      <th>4</th>\n",
              "      <td>1984/01/01</td>\n",
              "      <td>19:38:19.79</td>\n",
              "      <td>2.13</td>\n",
              "      <td>1984-01-01 19:38:19.790</td>\n",
              "    </tr>\n",
              "  </tbody>\n",
              "</table>\n",
              "</div>"
            ],
            "text/plain": [
              "         date         time   mag                datetime\n",
              "0  1984/01/01  01:30:57.52  2.02 1984-01-01 01:30:57.520\n",
              "1  1984/01/01  05:31:34.16  2.12 1984-01-01 05:31:34.160\n",
              "2  1984/01/01  06:59:05.14  2.43 1984-01-01 06:59:05.140\n",
              "3  1984/01/01  11:10:25.29  2.07 1984-01-01 11:10:25.290\n",
              "4  1984/01/01  19:38:19.79  2.13 1984-01-01 19:38:19.790"
            ]
          },
          "metadata": {},
          "execution_count": 18
        }
      ]
    },
    {
      "cell_type": "code",
      "metadata": {
        "id": "0bh4qeBV0-l1"
      },
      "source": [
        "# The list ids is going to store the indices of the dataframe that are between the active years\n",
        "# We do that, by iterating over ss and storing the indices whose date time lies in the range\n",
        "ids = []\n",
        "for i in range(int(ss.shape[0]/2)):\n",
        "  ids.extend(eqdata[(eqdata.datetime >= ss[2*i]) & (eqdata.datetime <= ss[2*i+1])].index.tolist())"
      ],
      "execution_count": 19,
      "outputs": []
    },
    {
      "cell_type": "code",
      "metadata": {
        "id": "lPys_sZ148Jw"
      },
      "source": [
        "goodData = eqdata.iloc[ids]"
      ],
      "execution_count": 20,
      "outputs": []
    },
    {
      "cell_type": "code",
      "metadata": {
        "ExecuteTime": {
          "end_time": "2019-09-09T01:40:29.237879Z",
          "start_time": "2019-09-09T01:40:29.232647Z"
        },
        "id": "qPmYVGWbhXsb",
        "colab": {
          "base_uri": "https://localhost:8080/"
        },
        "outputId": "8db1bd93-4785-4540-c485-aa96422ab406"
      },
      "source": [
        "print (\"the {} timestamp pairs that are the boundaries of good data periods are: \\n{} \".format(len(ss),ss.values))\n"
      ],
      "execution_count": 21,
      "outputs": [
        {
          "output_type": "stream",
          "name": "stdout",
          "text": [
            "the 22 timestamp pairs that are the boundaries of good data periods are: \n",
            "['1984-01-01T00:00:00.000000000' '1986-07-02T15:00:00.000000000'\n",
            " '1990-04-20T13:48:00.000000000' '1992-02-06T12:36:00.000000000'\n",
            " '1994-08-08T03:36:00.000000000' '1995-08-08T03:36:00.000000000'\n",
            " '1996-02-06T12:36:00.000000000' '1996-07-01T15:00:00.000000000'\n",
            " '1997-01-01T00:00:00.000000000' '1997-08-08T03:36:00.000000000'\n",
            " '1997-10-01T22:30:00.000000000' '1998-02-24T18:54:00.000000000'\n",
            " '1998-04-02T07:30:00.000000000' '1999-05-08T20:06:00.000000000'\n",
            " '2000-07-19T21:18:00.000000000' '2000-10-19T04:48:00.000000000'\n",
            " '2000-11-24T17:24:00.000000000' '2001-04-02T07:30:00.000000000'\n",
            " '2001-08-08T03:36:00.000000000' '2002-01-01T00:00:00.000000000'\n",
            " '2002-07-02T15:00:00.000000000' '2003-01-01T00:00:00.000000000'] \n"
          ]
        }
      ]
    },
    {
      "cell_type": "markdown",
      "metadata": {
        "id": "-470BeBahXsd"
      },
      "source": [
        "The following cell of code shows you the array of bool values (True/False) which I create to use as an index to the input array: when used as an index, a technique called \"broadcasting\" in python, will select only elements of the original array where the index array value is True. something like \n",
        "Try:\n",
        "\n"
      ]
    },
    {
      "cell_type": "code",
      "metadata": {
        "ExecuteTime": {
          "end_time": "2019-09-09T01:40:29.244355Z",
          "start_time": "2019-09-09T01:40:29.239933Z"
        },
        "id": "9wCXH-gfhXsf",
        "colab": {
          "base_uri": "https://localhost:8080/"
        },
        "outputId": "f75ff640-c9b2-4980-f8b9-f784c696c78e"
      },
      "source": [
        "a = np.array([0, 1, 2])\n",
        "a, a[[True, False, True]]"
      ],
      "execution_count": 22,
      "outputs": [
        {
          "output_type": "execute_result",
          "data": {
            "text/plain": [
              "(array([0, 1, 2]), array([0, 2]))"
            ]
          },
          "metadata": {},
          "execution_count": 22
        }
      ]
    },
    {
      "cell_type": "markdown",
      "metadata": {
        "ExecuteTime": {
          "end_time": "2019-09-09T01:05:50.836953Z",
          "start_time": "2019-09-09T01:05:50.833542Z"
        },
        "id": "jvZBr-_JhXsi"
      },
      "source": [
        "For each of the 11 valid periods I create a condition \n",
        "``` datetime >= period_start AND datetime <= period_end ``` where AND is a product of booleans: True * False = False.\n",
        "\n",
        "I want to take all chinks of data that satisfy this condition for any of the 11 chunks of time so that is a logical OR operator, or a sum of Booleans: True + False = True \n",
        "\n",
        "This is because ```True``` really corresponds to \"not 0\" and False to \"0\". So ```\"not 0\" * 0 = 0``` and ```\"not 0\" + 0 = not 0```\n",
        "    "
      ]
>>>>>>> a9ee45e270bd48e2ad0c87ce5edcea609c658168
    },
    "colab": {
     "base_uri": "https://localhost:8080/",
     "height": 0
    },
    "id": "vZ-NJ-C2hXsJ",
    "outputId": "a01d1387-c3b0-4513-c0ea-6c2c2aca1d16"
   },
   "outputs": [
    {
     "data": {
      "text/html": [
       "<div>\n",
       "<style scoped>\n",
       "    .dataframe tbody tr th:only-of-type {\n",
       "        vertical-align: middle;\n",
       "    }\n",
       "\n",
       "    .dataframe tbody tr th {\n",
       "        vertical-align: top;\n",
       "    }\n",
       "\n",
       "    .dataframe thead th {\n",
       "        text-align: right;\n",
       "    }\n",
       "</style>\n",
       "<table border=\"1\" class=\"dataframe\">\n",
       "  <thead>\n",
       "    <tr style=\"text-align: right;\">\n",
       "      <th></th>\n",
       "      <th>date</th>\n",
       "      <th>time</th>\n",
       "      <th>mag</th>\n",
       "    </tr>\n",
       "  </thead>\n",
       "  <tbody>\n",
       "    <tr>\n",
       "      <th>0</th>\n",
       "      <td>1984/01/01</td>\n",
       "      <td>01:30:57.52</td>\n",
       "      <td>2.02</td>\n",
       "    </tr>\n",
       "    <tr>\n",
       "      <th>1</th>\n",
       "      <td>1984/01/01</td>\n",
       "      <td>05:31:34.16</td>\n",
       "      <td>2.12</td>\n",
       "    </tr>\n",
       "    <tr>\n",
       "      <th>2</th>\n",
       "      <td>1984/01/01</td>\n",
       "      <td>06:59:05.14</td>\n",
       "      <td>2.43</td>\n",
       "    </tr>\n",
       "    <tr>\n",
       "      <th>3</th>\n",
       "      <td>1984/01/01</td>\n",
       "      <td>11:10:25.29</td>\n",
       "      <td>2.07</td>\n",
       "    </tr>\n",
       "    <tr>\n",
       "      <th>4</th>\n",
       "      <td>1984/01/01</td>\n",
       "      <td>19:38:19.79</td>\n",
       "      <td>2.13</td>\n",
       "    </tr>\n",
       "  </tbody>\n",
       "</table>\n",
       "</div>"
      ],
<<<<<<< HEAD
      "text/plain": [
       "         date         time   mag\n",
       "0  1984/01/01  01:30:57.52  2.02\n",
       "1  1984/01/01  05:31:34.16  2.12\n",
       "2  1984/01/01  06:59:05.14  2.43\n",
       "3  1984/01/01  11:10:25.29  2.07\n",
       "4  1984/01/01  19:38:19.79  2.13"
      ]
     },
     "execution_count": 112,
     "metadata": {},
     "output_type": "execute_result"
    }
   ],
   "source": [
    "eqdata.head()"
   ]
  },
  {
   "cell_type": "code",
   "execution_count": 113,
   "metadata": {
    "ExecuteTime": {
     "end_time": "2019-09-09T01:40:02.813328Z",
     "start_time": "2019-09-09T01:40:02.801494Z"
    },
    "colab": {
     "base_uri": "https://localhost:8080/",
     "height": 0
    },
    "id": "BQHplE_shXsL",
    "outputId": "16cc4c09-f4b9-4742-80e1-d309d8f60488"
   },
   "outputs": [
    {
     "data": {
      "text/html": [
       "<div>\n",
       "<style scoped>\n",
       "    .dataframe tbody tr th:only-of-type {\n",
       "        vertical-align: middle;\n",
       "    }\n",
       "\n",
       "    .dataframe tbody tr th {\n",
       "        vertical-align: top;\n",
       "    }\n",
       "\n",
       "    .dataframe thead th {\n",
       "        text-align: right;\n",
       "    }\n",
       "</style>\n",
       "<table border=\"1\" class=\"dataframe\">\n",
       "  <thead>\n",
       "    <tr style=\"text-align: right;\">\n",
       "      <th></th>\n",
       "      <th>mag</th>\n",
       "    </tr>\n",
       "  </thead>\n",
       "  <tbody>\n",
       "    <tr>\n",
       "      <th>count</th>\n",
       "      <td>70798.000000</td>\n",
       "    </tr>\n",
       "    <tr>\n",
       "      <th>mean</th>\n",
       "      <td>2.417826</td>\n",
       "    </tr>\n",
       "    <tr>\n",
       "      <th>std</th>\n",
       "      <td>0.407683</td>\n",
       "    </tr>\n",
       "    <tr>\n",
       "      <th>min</th>\n",
       "      <td>2.000000</td>\n",
       "    </tr>\n",
       "    <tr>\n",
       "      <th>25%</th>\n",
       "      <td>2.120000</td>\n",
       "    </tr>\n",
       "    <tr>\n",
       "      <th>50%</th>\n",
       "      <td>2.300000</td>\n",
       "    </tr>\n",
       "    <tr>\n",
       "      <th>75%</th>\n",
       "      <td>2.590000</td>\n",
       "    </tr>\n",
       "    <tr>\n",
       "      <th>max</th>\n",
       "      <td>7.100000</td>\n",
       "    </tr>\n",
       "  </tbody>\n",
       "</table>\n",
       "</div>"
      ],
      "text/plain": [
       "                mag\n",
       "count  70798.000000\n",
       "mean       2.417826\n",
       "std        0.407683\n",
       "min        2.000000\n",
       "25%        2.120000\n",
       "50%        2.300000\n",
       "75%        2.590000\n",
       "max        7.100000"
      ]
     },
     "execution_count": 113,
     "metadata": {},
     "output_type": "execute_result"
    }
   ],
   "source": [
    "eqdata.describe()"
   ]
  },
  {
   "cell_type": "markdown",
   "metadata": {
    "id": "EMiRblXihXsN"
   },
   "source": [
    "Now you want to combine the columns containing date and time and convert them to a \"datetime\" kind of data object. \n"
   ]
  },
  {
   "cell_type": "markdown",
   "metadata": {
    "ExecuteTime": {
     "end_time": "2019-09-08T21:26:57.438903Z",
     "start_time": "2019-09-08T21:26:57.435133Z"
    },
    "id": "ZPOv1TJihXsN"
   },
   "source": [
    "What data type are the _time_ and _date_ columns right now? What type you want them to be to conver them to datetime with ```pd.datetime()```? type 'O' means object, typically a string. "
   ]
  },
  {
   "cell_type": "code",
   "execution_count": 114,
   "metadata": {
    "ExecuteTime": {
     "end_time": "2019-09-09T01:40:02.859962Z",
     "start_time": "2019-09-09T01:40:02.856654Z"
    },
    "colab": {
     "base_uri": "https://localhost:8080/"
=======
      "execution_count": 23,
      "outputs": []
    },
    {
      "cell_type": "code",
      "metadata": {
        "ExecuteTime": {
          "end_time": "2019-09-09T01:40:29.270985Z",
          "start_time": "2019-09-09T01:40:29.267738Z"
        },
        "id": "WHyQm6CqhXsl",
        "colab": {
          "base_uri": "https://localhost:8080/"
        },
        "outputId": "674eb288-cdc2-43ae-dff0-c8392d378780"
      },
      "source": [
        "print (\"there are {} earthquakes falling in the selected stationary periods\".\n",
        "       format(goodData.shape[0]))"
      ],
      "execution_count": 24,
      "outputs": [
        {
          "output_type": "stream",
          "name": "stdout",
          "text": [
            "there are 18854 earthquakes falling in the selected stationary periods\n"
          ]
        }
      ]
    },
    {
      "cell_type": "markdown",
      "metadata": {
        "id": "nxyU-ltrbfGk"
      },
      "source": [
        "The 18,854 earthquakes found inside the stationary periods is roughly 5% less thatn the 19,911 found in Dr. Bianco's code. This relatively minor difference can mostlikely be attributed to slight differences in the method of determining what events fit into the stationary periods, and will not significantly impact results."
      ]
    },
    {
      "cell_type": "code",
      "metadata": {
        "ExecuteTime": {
          "end_time": "2019-09-09T01:40:29.287000Z",
          "start_time": "2019-09-09T01:40:29.279430Z"
        },
        "id": "aMySvYb5hXso",
        "colab": {
          "base_uri": "https://localhost:8080/",
          "height": 206
        },
        "outputId": "06cf774a-5d12-45ee-eb27-a4617f0efaa7"
      },
      "source": [
        "goodData.head()"
      ],
      "execution_count": 25,
      "outputs": [
        {
          "output_type": "execute_result",
          "data": {
            "text/html": [
              "<div>\n",
              "<style scoped>\n",
              "    .dataframe tbody tr th:only-of-type {\n",
              "        vertical-align: middle;\n",
              "    }\n",
              "\n",
              "    .dataframe tbody tr th {\n",
              "        vertical-align: top;\n",
              "    }\n",
              "\n",
              "    .dataframe thead th {\n",
              "        text-align: right;\n",
              "    }\n",
              "</style>\n",
              "<table border=\"1\" class=\"dataframe\">\n",
              "  <thead>\n",
              "    <tr style=\"text-align: right;\">\n",
              "      <th></th>\n",
              "      <th>date</th>\n",
              "      <th>time</th>\n",
              "      <th>mag</th>\n",
              "      <th>datetime</th>\n",
              "    </tr>\n",
              "  </thead>\n",
              "  <tbody>\n",
              "    <tr>\n",
              "      <th>0</th>\n",
              "      <td>1984/01/01</td>\n",
              "      <td>01:30:57.52</td>\n",
              "      <td>2.02</td>\n",
              "      <td>1984-01-01 01:30:57.520</td>\n",
              "    </tr>\n",
              "    <tr>\n",
              "      <th>1</th>\n",
              "      <td>1984/01/01</td>\n",
              "      <td>05:31:34.16</td>\n",
              "      <td>2.12</td>\n",
              "      <td>1984-01-01 05:31:34.160</td>\n",
              "    </tr>\n",
              "    <tr>\n",
              "      <th>2</th>\n",
              "      <td>1984/01/01</td>\n",
              "      <td>06:59:05.14</td>\n",
              "      <td>2.43</td>\n",
              "      <td>1984-01-01 06:59:05.140</td>\n",
              "    </tr>\n",
              "    <tr>\n",
              "      <th>3</th>\n",
              "      <td>1984/01/01</td>\n",
              "      <td>11:10:25.29</td>\n",
              "      <td>2.07</td>\n",
              "      <td>1984-01-01 11:10:25.290</td>\n",
              "    </tr>\n",
              "    <tr>\n",
              "      <th>4</th>\n",
              "      <td>1984/01/01</td>\n",
              "      <td>19:38:19.79</td>\n",
              "      <td>2.13</td>\n",
              "      <td>1984-01-01 19:38:19.790</td>\n",
              "    </tr>\n",
              "  </tbody>\n",
              "</table>\n",
              "</div>"
            ],
            "text/plain": [
              "         date         time   mag                datetime\n",
              "0  1984/01/01  01:30:57.52  2.02 1984-01-01 01:30:57.520\n",
              "1  1984/01/01  05:31:34.16  2.12 1984-01-01 05:31:34.160\n",
              "2  1984/01/01  06:59:05.14  2.43 1984-01-01 06:59:05.140\n",
              "3  1984/01/01  11:10:25.29  2.07 1984-01-01 11:10:25.290\n",
              "4  1984/01/01  19:38:19.79  2.13 1984-01-01 19:38:19.790"
            ]
          },
          "metadata": {},
          "execution_count": 25
        }
      ]
>>>>>>> a9ee45e270bd48e2ad0c87ce5edcea609c658168
    },
    "id": "sqfVbxyYhXsO",
    "outputId": "fc36a81f-2d82-4d1c-839f-91cdd5e29d40"
   },
   "outputs": [
    {
     "data": {
      "text/plain": [
       "(dtype('O'), dtype('O'))"
      ]
     },
     "execution_count": 114,
     "metadata": {},
     "output_type": "execute_result"
    }
   ],
   "source": [
    "eqdata.time.dtype, eqdata.date.dtype"
   ]
  },
  {
   "cell_type": "markdown",
   "metadata": {
    "ExecuteTime": {
     "end_time": "2019-09-08T21:28:58.082172Z",
     "start_time": "2019-09-08T21:28:58.078926Z"
    },
    "id": "O9qP9mRShXsP"
   },
   "source": [
    "to do this conversion I \n",
    "\n",
    "   1. joined date and time into a single string for each row with a [\"list comprehension\"](https://www.pythonforbeginners.com/basics/list-comprehensions-in-python) (essentially a for loop but more efficient and compact). You do not have to do it with a list comprehension, you can use just a for loop.\n",
    "\n",
    "   2. used pd.datetime() to convert the resulting new dataframe column into a dataframe column containing _datetime_ objects (see lab)\n",
    "\n",
    "   3. but this did not work because of the formatting of some dates, so I had to go back and fix 5 entries. (you are on your own to figure out this one)"
   ]
  },
  {
   "cell_type": "code",
   "execution_count": 115,
   "metadata": {
    "ExecuteTime": {
     "end_time": "2019-09-09T01:40:12.489690Z",
     "start_time": "2019-09-09T01:40:02.914845Z"
    },
    "id": "eOUTqBDOhXsQ"
   },
   "outputs": [],
   "source": [
    "# your code here\n",
    "eqdata[\"datetime\"] = [eqdata.iloc[i].date + \" \" + eqdata.iloc[i].time for i in range(eqdata.shape[0])]"
   ]
  },
  {
   "cell_type": "code",
   "execution_count": 116,
   "metadata": {
    "id": "uzC65-nHkDdG"
   },
   "outputs": [],
   "source": [
    "eqdata[\"datetime\"] = eqdata[\"datetime\"].str.replace(\"60.00\",\"59.99\")"
   ]
  },
  {
   "cell_type": "code",
   "execution_count": 117,
   "metadata": {
    "id": "-lw9CobckHcy"
   },
   "outputs": [],
   "source": [
    "eqdata[\"datetime\"] = pd.to_datetime(eqdata[\"datetime\"])"
   ]
  },
  {
   "cell_type": "code",
   "execution_count": 118,
   "metadata": {
    "ExecuteTime": {
     "end_time": "2019-09-09T01:40:29.216627Z",
     "start_time": "2019-09-09T01:40:29.206374Z"
    },
<<<<<<< HEAD
    "colab": {
     "base_uri": "https://localhost:8080/",
     "height": 0
    },
    "id": "o9PeG5J5hXsU",
    "outputId": "5ec7a185-d0a8-490e-b98c-d3bb90542e5d"
   },
   "outputs": [
    {
     "data": {
      "text/html": [
       "<div>\n",
       "<style scoped>\n",
       "    .dataframe tbody tr th:only-of-type {\n",
       "        vertical-align: middle;\n",
       "    }\n",
       "\n",
       "    .dataframe tbody tr th {\n",
       "        vertical-align: top;\n",
       "    }\n",
       "\n",
       "    .dataframe thead th {\n",
       "        text-align: right;\n",
       "    }\n",
       "</style>\n",
       "<table border=\"1\" class=\"dataframe\">\n",
       "  <thead>\n",
       "    <tr style=\"text-align: right;\">\n",
       "      <th></th>\n",
       "      <th>date</th>\n",
       "      <th>time</th>\n",
       "      <th>mag</th>\n",
       "      <th>datetime</th>\n",
       "    </tr>\n",
       "  </thead>\n",
       "  <tbody>\n",
       "    <tr>\n",
       "      <th>0</th>\n",
       "      <td>1984/01/01</td>\n",
       "      <td>01:30:57.52</td>\n",
       "      <td>2.02</td>\n",
       "      <td>1984-01-01 01:30:57.520</td>\n",
       "    </tr>\n",
       "    <tr>\n",
       "      <th>1</th>\n",
       "      <td>1984/01/01</td>\n",
       "      <td>05:31:34.16</td>\n",
       "      <td>2.12</td>\n",
       "      <td>1984-01-01 05:31:34.160</td>\n",
       "    </tr>\n",
       "    <tr>\n",
       "      <th>2</th>\n",
       "      <td>1984/01/01</td>\n",
       "      <td>06:59:05.14</td>\n",
       "      <td>2.43</td>\n",
       "      <td>1984-01-01 06:59:05.140</td>\n",
       "    </tr>\n",
       "    <tr>\n",
       "      <th>3</th>\n",
       "      <td>1984/01/01</td>\n",
       "      <td>11:10:25.29</td>\n",
       "      <td>2.07</td>\n",
       "      <td>1984-01-01 11:10:25.290</td>\n",
       "    </tr>\n",
       "    <tr>\n",
       "      <th>4</th>\n",
       "      <td>1984/01/01</td>\n",
       "      <td>19:38:19.79</td>\n",
       "      <td>2.13</td>\n",
       "      <td>1984-01-01 19:38:19.790</td>\n",
       "    </tr>\n",
       "  </tbody>\n",
       "</table>\n",
       "</div>"
      ],
      "text/plain": [
       "         date         time   mag                datetime\n",
       "0  1984/01/01  01:30:57.52  2.02 1984-01-01 01:30:57.520\n",
       "1  1984/01/01  05:31:34.16  2.12 1984-01-01 05:31:34.160\n",
       "2  1984/01/01  06:59:05.14  2.43 1984-01-01 06:59:05.140\n",
       "3  1984/01/01  11:10:25.29  2.07 1984-01-01 11:10:25.290\n",
       "4  1984/01/01  19:38:19.79  2.13 1984-01-01 19:38:19.790"
      ]
     },
     "execution_count": 118,
     "metadata": {},
     "output_type": "execute_result"
    }
   ],
   "source": [
    "eqdata.head()"
   ]
  },
  {
   "cell_type": "code",
   "execution_count": 119,
   "metadata": {
    "colab": {
     "base_uri": "https://localhost:8080/"
=======
    {
      "cell_type": "code",
      "metadata": {
        "ExecuteTime": {
          "end_time": "2019-09-09T01:40:29.292220Z",
          "start_time": "2019-09-09T01:40:29.288359Z"
        },
        "id": "GF-7Xw9AhXsq"
      },
      "source": [
        "# your code here\n",
        "goodData = goodData[goodData.mag >= 2]"
      ],
      "execution_count": 26,
      "outputs": []
    },
    {
      "cell_type": "code",
      "metadata": {
        "ExecuteTime": {
          "end_time": "2019-09-09T01:40:29.296885Z",
          "start_time": "2019-09-09T01:40:29.293316Z"
        },
        "id": "nTmssr_xhXst",
        "colab": {
          "base_uri": "https://localhost:8080/"
        },
        "outputId": "e5f8c938-4803-45c6-f1ac-41003d09e407"
      },
      "source": [
        "goodData.shape #It didn´t dropped the data, as stated on the template, because when downloadaed the data was selected to have magnitude greater than 2"
      ],
      "execution_count": 27,
      "outputs": [
        {
          "output_type": "execute_result",
          "data": {
            "text/plain": [
              "(18854, 4)"
            ]
          },
          "metadata": {},
          "execution_count": 27
        }
      ]
>>>>>>> a9ee45e270bd48e2ad0c87ce5edcea609c658168
    },
    "id": "mbONPDp1kWAv",
    "outputId": "0b5e41d8-233c-46ac-996a-1f885eb89562"
   },
   "outputs": [
    {
     "data": {
      "text/plain": [
       "dtype('<M8[ns]')"
      ]
<<<<<<< HEAD
     },
     "execution_count": 119,
     "metadata": {},
     "output_type": "execute_result"
    }
   ],
   "source": [
    "eqdata.datetime.dtype"
   ]
  },
  {
   "cell_type": "markdown",
   "metadata": {
    "id": "zAmaMzQIhXsW"
   },
   "source": [
    "## select valuable data"
   ]
  },
  {
   "cell_type": "markdown",
   "metadata": {
    "id": "R3kga7VvhXsZ"
   },
   "source": [
    "Following the description in Section 2  of Corral 2018 I removed all data that did not belong to a \"stationary\" period. Third paragraph section 2 of Corral 2018. You can see the cell of code I used to do this [here](https://github.com/fedhere/DSPS/blob/master/HW3/Corral2018_selectStationary.py) at no points cost, cause it was a bit tricky, but I encourage you to try and do it yourself. If you can do it in fewer lines than I did its automatically +5 points (just turning the loop into a list comprehension does not count. That is an obvious way to decrease the number of lines of code; I did not do it simply to enhance readability.)"
   ]
  },
  {
   "cell_type": "code",
   "execution_count": 120,
   "metadata": {
    "ExecuteTime": {
     "end_time": "2019-09-09T01:40:29.230993Z",
     "start_time": "2019-09-09T01:40:29.219163Z"
    },
    "id": "tQRj4CAEhXsZ"
   },
   "outputs": [],
   "source": [
    "# your code here\n",
    "# Create a numpy array with the decimal intervals\n",
    "# We saved is a a 1D array, where the intervals are arranged continously\n",
    "# The even positions represent the start year and the next odd position the end year\n",
    "rango = np.array([1984, 1986.5, \n",
    "          1990.3, 1992.1, \n",
    "          1994.6, 1995.6,\n",
    "          1996.1,1996.5, \n",
    "          1997,1997.6, \n",
    "          1997.75,1998.15, \n",
    "          1998.25,1999.35, \n",
    "          2000.55,2000.8,\n",
    "          2000.9 ,2001.25, \n",
    "          2001.6 ,2002, \n",
    "          2002.5 ,2003])"
   ]
  },
  {
   "cell_type": "code",
   "execution_count": 121,
   "metadata": {
    "id": "em3_ixuqwdF-"
   },
   "outputs": [],
   "source": [
    "# Convert the decimal date to datetime\n",
    "# We reduced the lines of code by using numpy arrays and pandas function to_timedelta\n",
    "ss = pd.to_datetime(rango.astype(int), format=\"%Y\") + pd.to_timedelta(((rango-rango.astype(int))*365.25), unit = 'd')"
   ]
  },
  {
   "cell_type": "code",
   "execution_count": 122,
   "metadata": {
    "colab": {
     "base_uri": "https://localhost:8080/"
    },
    "id": "blvSv25BBO4Y",
    "outputId": "d9d303b2-0820-42bc-9c66-3b4e98264785"
   },
   "outputs": [
    {
     "data": {
      "text/plain": [
       "DatetimeIndex(['1984-01-01 00:00:00', '1986-07-02 15:00:00',\n",
       "               '1990-04-20 13:48:00', '1992-02-06 12:36:00',\n",
       "               '1994-08-08 03:36:00', '1995-08-08 03:36:00',\n",
       "               '1996-02-06 12:36:00', '1996-07-01 15:00:00',\n",
       "               '1997-01-01 00:00:00', '1997-08-08 03:36:00',\n",
       "               '1997-10-01 22:30:00', '1998-02-24 18:54:00',\n",
       "               '1998-04-02 07:30:00', '1999-05-08 20:06:00',\n",
       "               '2000-07-19 21:18:00', '2000-10-19 04:48:00',\n",
       "               '2000-11-24 17:24:00', '2001-04-02 07:30:00',\n",
       "               '2001-08-08 03:36:00', '2002-01-01 00:00:00',\n",
       "               '2002-07-02 15:00:00', '2003-01-01 00:00:00'],\n",
       "              dtype='datetime64[ns]', freq=None)"
      ]
     },
     "execution_count": 122,
     "metadata": {},
     "output_type": "execute_result"
    }
   ],
   "source": [
    "ss"
   ]
  },
  {
   "cell_type": "code",
   "execution_count": 123,
   "metadata": {
    "colab": {
     "base_uri": "https://localhost:8080/",
     "height": 206
    },
    "id": "i-WJN2PRb27U",
    "outputId": "e4d96809-262c-4153-9ae7-6e6ad5aa40b4"
   },
   "outputs": [
    {
     "data": {
      "text/html": [
       "<div>\n",
       "<style scoped>\n",
       "    .dataframe tbody tr th:only-of-type {\n",
       "        vertical-align: middle;\n",
       "    }\n",
       "\n",
       "    .dataframe tbody tr th {\n",
       "        vertical-align: top;\n",
       "    }\n",
       "\n",
       "    .dataframe thead th {\n",
       "        text-align: right;\n",
       "    }\n",
       "</style>\n",
       "<table border=\"1\" class=\"dataframe\">\n",
       "  <thead>\n",
       "    <tr style=\"text-align: right;\">\n",
       "      <th></th>\n",
       "      <th>date</th>\n",
       "      <th>time</th>\n",
       "      <th>mag</th>\n",
       "      <th>datetime</th>\n",
       "    </tr>\n",
       "  </thead>\n",
       "  <tbody>\n",
       "    <tr>\n",
       "      <th>0</th>\n",
       "      <td>1984/01/01</td>\n",
       "      <td>01:30:57.52</td>\n",
       "      <td>2.02</td>\n",
       "      <td>1984-01-01 01:30:57.520</td>\n",
       "    </tr>\n",
       "    <tr>\n",
       "      <th>1</th>\n",
       "      <td>1984/01/01</td>\n",
       "      <td>05:31:34.16</td>\n",
       "      <td>2.12</td>\n",
       "      <td>1984-01-01 05:31:34.160</td>\n",
       "    </tr>\n",
       "    <tr>\n",
       "      <th>2</th>\n",
       "      <td>1984/01/01</td>\n",
       "      <td>06:59:05.14</td>\n",
       "      <td>2.43</td>\n",
       "      <td>1984-01-01 06:59:05.140</td>\n",
       "    </tr>\n",
       "    <tr>\n",
       "      <th>3</th>\n",
       "      <td>1984/01/01</td>\n",
       "      <td>11:10:25.29</td>\n",
       "      <td>2.07</td>\n",
       "      <td>1984-01-01 11:10:25.290</td>\n",
       "    </tr>\n",
       "    <tr>\n",
       "      <th>4</th>\n",
       "      <td>1984/01/01</td>\n",
       "      <td>19:38:19.79</td>\n",
       "      <td>2.13</td>\n",
       "      <td>1984-01-01 19:38:19.790</td>\n",
       "    </tr>\n",
       "  </tbody>\n",
       "</table>\n",
       "</div>"
      ],
      "text/plain": [
       "         date         time   mag                datetime\n",
       "0  1984/01/01  01:30:57.52  2.02 1984-01-01 01:30:57.520\n",
       "1  1984/01/01  05:31:34.16  2.12 1984-01-01 05:31:34.160\n",
       "2  1984/01/01  06:59:05.14  2.43 1984-01-01 06:59:05.140\n",
       "3  1984/01/01  11:10:25.29  2.07 1984-01-01 11:10:25.290\n",
       "4  1984/01/01  19:38:19.79  2.13 1984-01-01 19:38:19.790"
      ]
     },
     "execution_count": 123,
     "metadata": {},
     "output_type": "execute_result"
    }
   ],
   "source": [
    "eqdata.head()"
   ]
  },
  {
   "cell_type": "code",
   "execution_count": 124,
   "metadata": {
    "id": "0bh4qeBV0-l1"
   },
   "outputs": [],
   "source": [
    "# The list ids is going to store the indices of the dataframe that are between the active years\n",
    "# We do that, by iterating over ss and storing the indices whose date time lies in the range\n",
    "ids = []\n",
    "for i in range(int(ss.shape[0]/2)):\n",
    "  ids.extend(eqdata[(eqdata.datetime >= ss[2*i]) & (eqdata.datetime <= ss[2*i+1])].index.tolist())"
   ]
  },
  {
   "cell_type": "code",
   "execution_count": 125,
   "metadata": {
    "id": "lPys_sZ148Jw"
   },
   "outputs": [],
   "source": [
    "goodData = eqdata.iloc[ids]"
   ]
  },
  {
   "cell_type": "code",
   "execution_count": 126,
   "metadata": {
    "ExecuteTime": {
     "end_time": "2019-09-09T01:40:29.237879Z",
     "start_time": "2019-09-09T01:40:29.232647Z"
    },
    "colab": {
     "base_uri": "https://localhost:8080/"
    },
    "id": "qPmYVGWbhXsb",
    "outputId": "7aa6a562-dd69-4fe3-8fbc-c10deef2cf02"
   },
   "outputs": [
    {
     "name": "stdout",
     "output_type": "stream",
     "text": [
      "the 22 timestamp pairs that are the boundaries of good data periods are: \n",
      "['1984-01-01T00:00:00.000000000' '1986-07-02T15:00:00.000000000'\n",
      " '1990-04-20T13:48:00.000000000' '1992-02-06T12:36:00.000000000'\n",
      " '1994-08-08T03:36:00.000000000' '1995-08-08T03:36:00.000000000'\n",
      " '1996-02-06T12:36:00.000000000' '1996-07-01T15:00:00.000000000'\n",
      " '1997-01-01T00:00:00.000000000' '1997-08-08T03:36:00.000000000'\n",
      " '1997-10-01T22:30:00.000000000' '1998-02-24T18:54:00.000000000'\n",
      " '1998-04-02T07:30:00.000000000' '1999-05-08T20:06:00.000000000'\n",
      " '2000-07-19T21:18:00.000000000' '2000-10-19T04:48:00.000000000'\n",
      " '2000-11-24T17:24:00.000000000' '2001-04-02T07:30:00.000000000'\n",
      " '2001-08-08T03:36:00.000000000' '2002-01-01T00:00:00.000000000'\n",
      " '2002-07-02T15:00:00.000000000' '2003-01-01T00:00:00.000000000'] \n"
     ]
    }
   ],
   "source": [
    "print (\"the {} timestamp pairs that are the boundaries of good data periods are: \\n{} \".format(len(ss),ss.values))\n"
   ]
  },
  {
   "cell_type": "markdown",
   "metadata": {
    "id": "-470BeBahXsd"
   },
   "source": [
    "The following cell of code shows you the array of bool values (True/False) which I create to use as an index to the input array: when used as an index, a technique called \"broadcasting\" in python, will select only elements of the original array where the index array value is True. something like \n",
    "Try:\n",
    "\n"
   ]
  },
  {
   "cell_type": "code",
   "execution_count": 127,
   "metadata": {
    "ExecuteTime": {
     "end_time": "2019-09-09T01:40:29.244355Z",
     "start_time": "2019-09-09T01:40:29.239933Z"
    },
    "colab": {
     "base_uri": "https://localhost:8080/"
=======
    },
    {
      "cell_type": "code",
      "metadata": {
        "ExecuteTime": {
          "end_time": "2019-09-09T01:40:29.303435Z",
          "start_time": "2019-09-09T01:40:29.298440Z"
        },
        "id": "RCJozUPPhXsu"
      },
      "source": [
        "#your code here\n",
        "# Get the time difference between succesive events\n",
        "goodData[\"dts\"] = goodData[\"datetime\"].diff()\n",
        "gaps = np.diff(goodData[\"datetime\"].values).astype(float)\n",
        "\n",
        "# We drop the zeroth row before adding the gaps' column, because it has the NaT value\n",
        "# and gaps' is one element smaller than the dataframe\n",
        "# this size different arises because np.diff doesn't have the NaT value\n",
        "goodData.drop(0, inplace = True)\n",
        "# We reset the index just to avoid problems later if the dataframe first row is 1 instead of 0\n",
        "goodData.reset_index(drop = True, inplace = True)\n",
        "# We create the gaps column\n",
        "goodData[\"gaps\"] = gaps"
      ],
      "execution_count": 28,
      "outputs": []
    },
    {
      "cell_type": "code",
      "metadata": {
        "colab": {
          "base_uri": "https://localhost:8080/",
          "height": 206
        },
        "id": "46ikKQ3Gsz6m",
        "outputId": "717ec80b-da8e-4385-c723-a8b186b29732"
      },
      "source": [
        "goodData.head()"
      ],
      "execution_count": 29,
      "outputs": [
        {
          "output_type": "execute_result",
          "data": {
            "text/html": [
              "<div>\n",
              "<style scoped>\n",
              "    .dataframe tbody tr th:only-of-type {\n",
              "        vertical-align: middle;\n",
              "    }\n",
              "\n",
              "    .dataframe tbody tr th {\n",
              "        vertical-align: top;\n",
              "    }\n",
              "\n",
              "    .dataframe thead th {\n",
              "        text-align: right;\n",
              "    }\n",
              "</style>\n",
              "<table border=\"1\" class=\"dataframe\">\n",
              "  <thead>\n",
              "    <tr style=\"text-align: right;\">\n",
              "      <th></th>\n",
              "      <th>date</th>\n",
              "      <th>time</th>\n",
              "      <th>mag</th>\n",
              "      <th>datetime</th>\n",
              "      <th>dts</th>\n",
              "      <th>gaps</th>\n",
              "    </tr>\n",
              "  </thead>\n",
              "  <tbody>\n",
              "    <tr>\n",
              "      <th>0</th>\n",
              "      <td>1984/01/01</td>\n",
              "      <td>05:31:34.16</td>\n",
              "      <td>2.12</td>\n",
              "      <td>1984-01-01 05:31:34.160</td>\n",
              "      <td>0 days 04:00:36.640000</td>\n",
              "      <td>1.443664e+13</td>\n",
              "    </tr>\n",
              "    <tr>\n",
              "      <th>1</th>\n",
              "      <td>1984/01/01</td>\n",
              "      <td>06:59:05.14</td>\n",
              "      <td>2.43</td>\n",
              "      <td>1984-01-01 06:59:05.140</td>\n",
              "      <td>0 days 01:27:30.980000</td>\n",
              "      <td>5.250980e+12</td>\n",
              "    </tr>\n",
              "    <tr>\n",
              "      <th>2</th>\n",
              "      <td>1984/01/01</td>\n",
              "      <td>11:10:25.29</td>\n",
              "      <td>2.07</td>\n",
              "      <td>1984-01-01 11:10:25.290</td>\n",
              "      <td>0 days 04:11:20.150000</td>\n",
              "      <td>1.508015e+13</td>\n",
              "    </tr>\n",
              "    <tr>\n",
              "      <th>3</th>\n",
              "      <td>1984/01/01</td>\n",
              "      <td>19:38:19.79</td>\n",
              "      <td>2.13</td>\n",
              "      <td>1984-01-01 19:38:19.790</td>\n",
              "      <td>0 days 08:27:54.500000</td>\n",
              "      <td>3.047450e+13</td>\n",
              "    </tr>\n",
              "    <tr>\n",
              "      <th>4</th>\n",
              "      <td>1984/01/01</td>\n",
              "      <td>19:39:19.67</td>\n",
              "      <td>2.13</td>\n",
              "      <td>1984-01-01 19:39:19.670</td>\n",
              "      <td>0 days 00:00:59.880000</td>\n",
              "      <td>5.988000e+10</td>\n",
              "    </tr>\n",
              "  </tbody>\n",
              "</table>\n",
              "</div>"
            ],
            "text/plain": [
              "         date         time  ...                    dts          gaps\n",
              "0  1984/01/01  05:31:34.16  ... 0 days 04:00:36.640000  1.443664e+13\n",
              "1  1984/01/01  06:59:05.14  ... 0 days 01:27:30.980000  5.250980e+12\n",
              "2  1984/01/01  11:10:25.29  ... 0 days 04:11:20.150000  1.508015e+13\n",
              "3  1984/01/01  19:38:19.79  ... 0 days 08:27:54.500000  3.047450e+13\n",
              "4  1984/01/01  19:39:19.67  ... 0 days 00:00:59.880000  5.988000e+10\n",
              "\n",
              "[5 rows x 6 columns]"
            ]
          },
          "metadata": {},
          "execution_count": 29
        }
      ]
    },
    {
      "cell_type": "code",
      "metadata": {
        "id": "a6f-j9ThoMUC",
        "colab": {
          "base_uri": "https://localhost:8080/"
        },
        "outputId": "934c8a65-79cb-4c35-cd46-223043cbc102"
      },
      "source": [
        "goodData.shape"
      ],
      "execution_count": 30,
      "outputs": [
        {
          "output_type": "execute_result",
          "data": {
            "text/plain": [
              "(18853, 6)"
            ]
          },
          "metadata": {},
          "execution_count": 30
        }
      ]
    },
    {
      "cell_type": "code",
      "metadata": {
        "id": "pC2aJCuVXfM3",
        "colab": {
          "base_uri": "https://localhost:8080/",
          "height": 300
        },
        "outputId": "79c7b003-b148-48f7-d9a4-fdbc748ee14e"
      },
      "source": [
        "goodData.describe()"
      ],
      "execution_count": 31,
      "outputs": [
        {
          "output_type": "execute_result",
          "data": {
            "text/html": [
              "<div>\n",
              "<style scoped>\n",
              "    .dataframe tbody tr th:only-of-type {\n",
              "        vertical-align: middle;\n",
              "    }\n",
              "\n",
              "    .dataframe tbody tr th {\n",
              "        vertical-align: top;\n",
              "    }\n",
              "\n",
              "    .dataframe thead th {\n",
              "        text-align: right;\n",
              "    }\n",
              "</style>\n",
              "<table border=\"1\" class=\"dataframe\">\n",
              "  <thead>\n",
              "    <tr style=\"text-align: right;\">\n",
              "      <th></th>\n",
              "      <th>mag</th>\n",
              "      <th>dts</th>\n",
              "      <th>gaps</th>\n",
              "    </tr>\n",
              "  </thead>\n",
              "  <tbody>\n",
              "    <tr>\n",
              "      <th>count</th>\n",
              "      <td>18853.000000</td>\n",
              "      <td>18853</td>\n",
              "      <td>1.885300e+04</td>\n",
              "    </tr>\n",
              "    <tr>\n",
              "      <th>mean</th>\n",
              "      <td>2.399406</td>\n",
              "      <td>0 days 08:49:59.865924256</td>\n",
              "      <td>3.179987e+13</td>\n",
              "    </tr>\n",
              "    <tr>\n",
              "      <th>std</th>\n",
              "      <td>0.392424</td>\n",
              "      <td>12 days 18:41:14.463355848</td>\n",
              "      <td>1.104074e+15</td>\n",
              "    </tr>\n",
              "    <tr>\n",
              "      <th>min</th>\n",
              "      <td>2.000000</td>\n",
              "      <td>0 days 00:00:00.170000</td>\n",
              "      <td>1.700000e+08</td>\n",
              "    </tr>\n",
              "    <tr>\n",
              "      <th>25%</th>\n",
              "      <td>2.110000</td>\n",
              "      <td>0 days 00:45:33.640000</td>\n",
              "      <td>2.733640e+12</td>\n",
              "    </tr>\n",
              "    <tr>\n",
              "      <th>50%</th>\n",
              "      <td>2.290000</td>\n",
              "      <td>0 days 02:28:58.520000</td>\n",
              "      <td>8.938520e+12</td>\n",
              "    </tr>\n",
              "    <tr>\n",
              "      <th>75%</th>\n",
              "      <td>2.560000</td>\n",
              "      <td>0 days 05:55:10.180000</td>\n",
              "      <td>2.131018e+13</td>\n",
              "    </tr>\n",
              "    <tr>\n",
              "      <th>max</th>\n",
              "      <td>5.800000</td>\n",
              "      <td>1388 days 04:15:56.490000</td>\n",
              "      <td>1.199386e+17</td>\n",
              "    </tr>\n",
              "  </tbody>\n",
              "</table>\n",
              "</div>"
            ],
            "text/plain": [
              "                mag                         dts          gaps\n",
              "count  18853.000000                       18853  1.885300e+04\n",
              "mean       2.399406   0 days 08:49:59.865924256  3.179987e+13\n",
              "std        0.392424  12 days 18:41:14.463355848  1.104074e+15\n",
              "min        2.000000      0 days 00:00:00.170000  1.700000e+08\n",
              "25%        2.110000      0 days 00:45:33.640000  2.733640e+12\n",
              "50%        2.290000      0 days 02:28:58.520000  8.938520e+12\n",
              "75%        2.560000      0 days 05:55:10.180000  2.131018e+13\n",
              "max        5.800000   1388 days 04:15:56.490000  1.199386e+17"
            ]
          },
          "metadata": {},
          "execution_count": 31
        }
      ]
>>>>>>> a9ee45e270bd48e2ad0c87ce5edcea609c658168
    },
    "id": "9wCXH-gfhXsf",
    "outputId": "063d5f4a-70e8-4b2f-9562-a7ebb5aeddc9"
   },
   "outputs": [
    {
     "data": {
      "text/plain": [
       "(array([0, 1, 2]), array([0, 2]))"
      ]
     },
     "execution_count": 127,
     "metadata": {},
     "output_type": "execute_result"
    }
   ],
   "source": [
    "a = np.array([0, 1, 2])\n",
    "a, a[[True, False, True]]"
   ]
  },
  {
   "cell_type": "markdown",
   "metadata": {
    "ExecuteTime": {
     "end_time": "2019-09-09T01:05:50.836953Z",
     "start_time": "2019-09-09T01:05:50.833542Z"
    },
    "id": "jvZBr-_JhXsi"
   },
   "source": [
    "For each of the 11 valid periods I create a condition \n",
    "``` datetime >= period_start AND datetime <= period_end ``` where AND is a product of booleans: True * False = False.\n",
    "\n",
    "I want to take all chinks of data that satisfy this condition for any of the 11 chunks of time so that is a logical OR operator, or a sum of Booleans: True + False = True \n",
    "\n",
    "This is because ```True``` really corresponds to \"not 0\" and False to \"0\". So ```\"not 0\" * 0 = 0``` and ```\"not 0\" + 0 = not 0```\n",
    "    "
   ]
  },
  {
   "cell_type": "code",
   "execution_count": 128,
   "metadata": {
    "ExecuteTime": {
     "end_time": "2019-09-09T01:40:29.265629Z",
     "start_time": "2019-09-09T01:40:29.245537Z"
    },
    "id": "JGuY1EtzhXsj"
   },
   "outputs": [],
   "source": [
    "# your code here\n",
    "# goodDates is already a dataframe, we don't need to create a different one"
   ]
  },
  {
   "cell_type": "code",
   "execution_count": 129,
   "metadata": {
    "ExecuteTime": {
     "end_time": "2019-09-09T01:40:29.270985Z",
     "start_time": "2019-09-09T01:40:29.267738Z"
    },
<<<<<<< HEAD
    "colab": {
     "base_uri": "https://localhost:8080/"
    },
    "id": "WHyQm6CqhXsl",
    "outputId": "8b4c92ec-8f23-41e1-aae6-467104aaad8a"
   },
   "outputs": [
    {
     "name": "stdout",
     "output_type": "stream",
     "text": [
      "there are 18854 earthquakes falling in the selected stationary periods\n"
     ]
    }
   ],
   "source": [
    "print (\"there are {} earthquakes falling in the selected stationary periods\".\n",
    "       format(goodData.shape[0]))"
   ]
  },
  {
   "cell_type": "markdown",
   "metadata": {
    "id": "nxyU-ltrbfGk"
   },
   "source": [
    "The 18,854 earthquakes found inside the stationary periods is roughly 5% less thatn the 19,911 found in Dr. Bianco's code. This relatively minor difference can mostlikely be attributed to slight differences in the method of determining what events fit into the stationary periods, and will not significantly impact results."
   ]
  },
  {
   "cell_type": "code",
   "execution_count": 130,
   "metadata": {
    "ExecuteTime": {
     "end_time": "2019-09-09T01:40:29.287000Z",
     "start_time": "2019-09-09T01:40:29.279430Z"
    },
    "colab": {
     "base_uri": "https://localhost:8080/",
     "height": 206
    },
    "id": "aMySvYb5hXso",
    "outputId": "46e9961b-8729-4aae-e7c0-146f702cafcf"
   },
   "outputs": [
    {
     "data": {
      "text/html": [
       "<div>\n",
       "<style scoped>\n",
       "    .dataframe tbody tr th:only-of-type {\n",
       "        vertical-align: middle;\n",
       "    }\n",
       "\n",
       "    .dataframe tbody tr th {\n",
       "        vertical-align: top;\n",
       "    }\n",
       "\n",
       "    .dataframe thead th {\n",
       "        text-align: right;\n",
       "    }\n",
       "</style>\n",
       "<table border=\"1\" class=\"dataframe\">\n",
       "  <thead>\n",
       "    <tr style=\"text-align: right;\">\n",
       "      <th></th>\n",
       "      <th>date</th>\n",
       "      <th>time</th>\n",
       "      <th>mag</th>\n",
       "      <th>datetime</th>\n",
       "    </tr>\n",
       "  </thead>\n",
       "  <tbody>\n",
       "    <tr>\n",
       "      <th>0</th>\n",
       "      <td>1984/01/01</td>\n",
       "      <td>01:30:57.52</td>\n",
       "      <td>2.02</td>\n",
       "      <td>1984-01-01 01:30:57.520</td>\n",
       "    </tr>\n",
       "    <tr>\n",
       "      <th>1</th>\n",
       "      <td>1984/01/01</td>\n",
       "      <td>05:31:34.16</td>\n",
       "      <td>2.12</td>\n",
       "      <td>1984-01-01 05:31:34.160</td>\n",
       "    </tr>\n",
       "    <tr>\n",
       "      <th>2</th>\n",
       "      <td>1984/01/01</td>\n",
       "      <td>06:59:05.14</td>\n",
       "      <td>2.43</td>\n",
       "      <td>1984-01-01 06:59:05.140</td>\n",
       "    </tr>\n",
       "    <tr>\n",
       "      <th>3</th>\n",
       "      <td>1984/01/01</td>\n",
       "      <td>11:10:25.29</td>\n",
       "      <td>2.07</td>\n",
       "      <td>1984-01-01 11:10:25.290</td>\n",
       "    </tr>\n",
       "    <tr>\n",
       "      <th>4</th>\n",
       "      <td>1984/01/01</td>\n",
       "      <td>19:38:19.79</td>\n",
       "      <td>2.13</td>\n",
       "      <td>1984-01-01 19:38:19.790</td>\n",
       "    </tr>\n",
       "  </tbody>\n",
       "</table>\n",
       "</div>"
      ],
      "text/plain": [
       "         date         time   mag                datetime\n",
       "0  1984/01/01  01:30:57.52  2.02 1984-01-01 01:30:57.520\n",
       "1  1984/01/01  05:31:34.16  2.12 1984-01-01 05:31:34.160\n",
       "2  1984/01/01  06:59:05.14  2.43 1984-01-01 06:59:05.140\n",
       "3  1984/01/01  11:10:25.29  2.07 1984-01-01 11:10:25.290\n",
       "4  1984/01/01  19:38:19.79  2.13 1984-01-01 19:38:19.790"
      ]
     },
     "execution_count": 130,
     "metadata": {},
     "output_type": "execute_result"
    }
   ],
   "source": [
    "goodData.head()"
   ]
  },
  {
   "cell_type": "markdown",
   "metadata": {
    "ExecuteTime": {
     "end_time": "2019-09-09T01:17:07.527314Z",
     "start_time": "2019-09-09T01:17:07.523165Z"
    },
    "id": "P3MKC5tyhXsp"
   },
   "source": [
    "Now what you really want is the _time interval between earthquakes_ for all events greater than some magnitude m, while all you have are the date and time of the events.: \n",
    "\n",
    "You can remove earthquakes smaller than magnitude 2 by, again, broadcasting. How would that look like?"
   ]
  },
  {
   "cell_type": "code",
   "execution_count": 131,
   "metadata": {
    "ExecuteTime": {
     "end_time": "2019-09-09T01:40:29.292220Z",
     "start_time": "2019-09-09T01:40:29.288359Z"
    },
    "id": "GF-7Xw9AhXsq"
   },
   "outputs": [],
   "source": [
    "# your code here\n",
    "goodData = goodData[goodData.mag >= 2]"
   ]
  },
  {
   "cell_type": "code",
   "execution_count": 132,
   "metadata": {
    "ExecuteTime": {
     "end_time": "2019-09-09T01:40:29.296885Z",
     "start_time": "2019-09-09T01:40:29.293316Z"
    },
    "colab": {
     "base_uri": "https://localhost:8080/"
    },
    "id": "nTmssr_xhXst",
    "outputId": "3ab07295-cea5-4bbb-bec6-7a8c67373ba8",
    "scrolled": true
   },
   "outputs": [
    {
     "data": {
      "text/plain": [
       "(18854, 4)"
      ]
     },
     "execution_count": 132,
     "metadata": {},
     "output_type": "execute_result"
    }
   ],
   "source": [
    "goodData.shape #It didn´t dropped the data, as stated on the template, because when downloadaed the data was selected to have magnitude greater than 2"
   ]
  },
  {
   "cell_type": "markdown",
   "metadata": {
    "id": "Ah6LgDvVhXsu"
   },
   "source": [
    "You can get the time between consecutive earthquakes with the method ```diff()``` of numpy arrays (in a pandas series you can get the data as a numpy array with the attribute .values: ```seried.values```). \n"
   ]
  },
  {
   "cell_type": "code",
   "execution_count": 133,
   "metadata": {
    "ExecuteTime": {
     "end_time": "2019-09-09T01:40:29.303435Z",
     "start_time": "2019-09-09T01:40:29.298440Z"
    },
    "id": "RCJozUPPhXsu"
   },
   "outputs": [],
   "source": [
    "#your code here\n",
    "# Get the time difference between succesive events\n",
    "goodData[\"dts\"] = goodData[\"datetime\"].diff()\n",
    "gaps = np.diff(goodData[\"datetime\"].values).astype(float)\n",
    "\n",
    "# We drop the zeroth row before adding the gaps' column, because it has the NaT value\n",
    "# and gaps' is one element smaller than the dataframe\n",
    "# this size different arises because np.diff doesn't have the NaT value\n",
    "goodData.drop(0, inplace = True)\n",
    "# We reset the index just to avoid problems later if the dataframe first row is 1 instead of 0\n",
    "goodData.reset_index(drop = True, inplace = True)\n",
    "# We create the gaps column\n",
    "goodData[\"gaps\"] = gaps"
   ]
  },
  {
   "cell_type": "code",
   "execution_count": 134,
   "metadata": {
    "colab": {
     "base_uri": "https://localhost:8080/",
     "height": 206
    },
    "id": "46ikKQ3Gsz6m",
    "outputId": "6c3287ef-beb7-433f-f8c0-de6828b797a4"
   },
   "outputs": [
    {
     "data": {
      "text/html": [
       "<div>\n",
       "<style scoped>\n",
       "    .dataframe tbody tr th:only-of-type {\n",
       "        vertical-align: middle;\n",
       "    }\n",
       "\n",
       "    .dataframe tbody tr th {\n",
       "        vertical-align: top;\n",
       "    }\n",
       "\n",
       "    .dataframe thead th {\n",
       "        text-align: right;\n",
       "    }\n",
       "</style>\n",
       "<table border=\"1\" class=\"dataframe\">\n",
       "  <thead>\n",
       "    <tr style=\"text-align: right;\">\n",
       "      <th></th>\n",
       "      <th>date</th>\n",
       "      <th>time</th>\n",
       "      <th>mag</th>\n",
       "      <th>datetime</th>\n",
       "      <th>dts</th>\n",
       "      <th>gaps</th>\n",
       "    </tr>\n",
       "  </thead>\n",
       "  <tbody>\n",
       "    <tr>\n",
       "      <th>0</th>\n",
       "      <td>1984/01/01</td>\n",
       "      <td>05:31:34.16</td>\n",
       "      <td>2.12</td>\n",
       "      <td>1984-01-01 05:31:34.160</td>\n",
       "      <td>0 days 04:00:36.640000</td>\n",
       "      <td>1.443664e+13</td>\n",
       "    </tr>\n",
       "    <tr>\n",
       "      <th>1</th>\n",
       "      <td>1984/01/01</td>\n",
       "      <td>06:59:05.14</td>\n",
       "      <td>2.43</td>\n",
       "      <td>1984-01-01 06:59:05.140</td>\n",
       "      <td>0 days 01:27:30.980000</td>\n",
       "      <td>5.250980e+12</td>\n",
       "    </tr>\n",
       "    <tr>\n",
       "      <th>2</th>\n",
       "      <td>1984/01/01</td>\n",
       "      <td>11:10:25.29</td>\n",
       "      <td>2.07</td>\n",
       "      <td>1984-01-01 11:10:25.290</td>\n",
       "      <td>0 days 04:11:20.150000</td>\n",
       "      <td>1.508015e+13</td>\n",
       "    </tr>\n",
       "    <tr>\n",
       "      <th>3</th>\n",
       "      <td>1984/01/01</td>\n",
       "      <td>19:38:19.79</td>\n",
       "      <td>2.13</td>\n",
       "      <td>1984-01-01 19:38:19.790</td>\n",
       "      <td>0 days 08:27:54.500000</td>\n",
       "      <td>3.047450e+13</td>\n",
       "    </tr>\n",
       "    <tr>\n",
       "      <th>4</th>\n",
       "      <td>1984/01/01</td>\n",
       "      <td>19:39:19.67</td>\n",
       "      <td>2.13</td>\n",
       "      <td>1984-01-01 19:39:19.670</td>\n",
       "      <td>0 days 00:00:59.880000</td>\n",
       "      <td>5.988000e+10</td>\n",
       "    </tr>\n",
       "  </tbody>\n",
       "</table>\n",
       "</div>"
      ],
      "text/plain": [
       "         date         time   mag                datetime  \\\n",
       "0  1984/01/01  05:31:34.16  2.12 1984-01-01 05:31:34.160   \n",
       "1  1984/01/01  06:59:05.14  2.43 1984-01-01 06:59:05.140   \n",
       "2  1984/01/01  11:10:25.29  2.07 1984-01-01 11:10:25.290   \n",
       "3  1984/01/01  19:38:19.79  2.13 1984-01-01 19:38:19.790   \n",
       "4  1984/01/01  19:39:19.67  2.13 1984-01-01 19:39:19.670   \n",
       "\n",
       "                     dts          gaps  \n",
       "0 0 days 04:00:36.640000  1.443664e+13  \n",
       "1 0 days 01:27:30.980000  5.250980e+12  \n",
       "2 0 days 04:11:20.150000  1.508015e+13  \n",
       "3 0 days 08:27:54.500000  3.047450e+13  \n",
       "4 0 days 00:00:59.880000  5.988000e+10  "
      ]
     },
     "execution_count": 134,
     "metadata": {},
     "output_type": "execute_result"
    }
   ],
   "source": [
    "goodData.head()"
   ]
  },
  {
   "cell_type": "code",
   "execution_count": 135,
   "metadata": {
    "colab": {
     "base_uri": "https://localhost:8080/"
=======
    {
      "cell_type": "code",
      "metadata": {
        "id": "zqOLrvyc0_dL"
      },
      "source": [
        "# your code here"
      ],
      "execution_count": 32,
      "outputs": []
    },
    {
      "cell_type": "code",
      "metadata": {
        "id": "kDvKNHD7X1M8",
        "colab": {
          "base_uri": "https://localhost:8080/",
          "height": 206
        },
        "outputId": "a62769fd-821b-4d89-ab18-42089bd45c56"
      },
      "source": [
        "goodData.head()"
      ],
      "execution_count": 33,
      "outputs": [
        {
          "output_type": "execute_result",
          "data": {
            "text/html": [
              "<div>\n",
              "<style scoped>\n",
              "    .dataframe tbody tr th:only-of-type {\n",
              "        vertical-align: middle;\n",
              "    }\n",
              "\n",
              "    .dataframe tbody tr th {\n",
              "        vertical-align: top;\n",
              "    }\n",
              "\n",
              "    .dataframe thead th {\n",
              "        text-align: right;\n",
              "    }\n",
              "</style>\n",
              "<table border=\"1\" class=\"dataframe\">\n",
              "  <thead>\n",
              "    <tr style=\"text-align: right;\">\n",
              "      <th></th>\n",
              "      <th>date</th>\n",
              "      <th>time</th>\n",
              "      <th>mag</th>\n",
              "      <th>datetime</th>\n",
              "      <th>dts</th>\n",
              "      <th>gaps</th>\n",
              "    </tr>\n",
              "  </thead>\n",
              "  <tbody>\n",
              "    <tr>\n",
              "      <th>0</th>\n",
              "      <td>1984/01/01</td>\n",
              "      <td>05:31:34.16</td>\n",
              "      <td>2.12</td>\n",
              "      <td>1984-01-01 05:31:34.160</td>\n",
              "      <td>0 days 04:00:36.640000</td>\n",
              "      <td>1.443664e+13</td>\n",
              "    </tr>\n",
              "    <tr>\n",
              "      <th>1</th>\n",
              "      <td>1984/01/01</td>\n",
              "      <td>06:59:05.14</td>\n",
              "      <td>2.43</td>\n",
              "      <td>1984-01-01 06:59:05.140</td>\n",
              "      <td>0 days 01:27:30.980000</td>\n",
              "      <td>5.250980e+12</td>\n",
              "    </tr>\n",
              "    <tr>\n",
              "      <th>2</th>\n",
              "      <td>1984/01/01</td>\n",
              "      <td>11:10:25.29</td>\n",
              "      <td>2.07</td>\n",
              "      <td>1984-01-01 11:10:25.290</td>\n",
              "      <td>0 days 04:11:20.150000</td>\n",
              "      <td>1.508015e+13</td>\n",
              "    </tr>\n",
              "    <tr>\n",
              "      <th>3</th>\n",
              "      <td>1984/01/01</td>\n",
              "      <td>19:38:19.79</td>\n",
              "      <td>2.13</td>\n",
              "      <td>1984-01-01 19:38:19.790</td>\n",
              "      <td>0 days 08:27:54.500000</td>\n",
              "      <td>3.047450e+13</td>\n",
              "    </tr>\n",
              "    <tr>\n",
              "      <th>4</th>\n",
              "      <td>1984/01/01</td>\n",
              "      <td>19:39:19.67</td>\n",
              "      <td>2.13</td>\n",
              "      <td>1984-01-01 19:39:19.670</td>\n",
              "      <td>0 days 00:00:59.880000</td>\n",
              "      <td>5.988000e+10</td>\n",
              "    </tr>\n",
              "  </tbody>\n",
              "</table>\n",
              "</div>"
            ],
            "text/plain": [
              "         date         time  ...                    dts          gaps\n",
              "0  1984/01/01  05:31:34.16  ... 0 days 04:00:36.640000  1.443664e+13\n",
              "1  1984/01/01  06:59:05.14  ... 0 days 01:27:30.980000  5.250980e+12\n",
              "2  1984/01/01  11:10:25.29  ... 0 days 04:11:20.150000  1.508015e+13\n",
              "3  1984/01/01  19:38:19.79  ... 0 days 08:27:54.500000  3.047450e+13\n",
              "4  1984/01/01  19:39:19.67  ... 0 days 00:00:59.880000  5.988000e+10\n",
              "\n",
              "[5 rows x 6 columns]"
            ]
          },
          "metadata": {},
          "execution_count": 33
        }
      ]
    },
    {
      "cell_type": "markdown",
      "metadata": {
        "id": "M2VH6Q4xhXsw"
      },
      "source": [
        "# data exploration\n",
        "At this point you should wonder if this is the final dataset that you want to use and if anything is weird or suspicious about it. Visualize the distribution. A good way to visualize distributions is a histogram which you can prodice with pl.hist() or as a method of your dataframe series as ```df[SeriesName].plot(kind=\"hist\")```. Produce a plot like the one below (label the axis! and describe it with a caption!). To get the logarithmic y axis you can se ```logy=True```, for example. in your ```df[SeriesName].plot``` call."
      ]
    },
    {
      "cell_type": "code",
      "metadata": {
        "id": "iDiscxU4XDwg",
        "colab": {
          "base_uri": "https://localhost:8080/",
          "height": 357
        },
        "outputId": "18f105c0-d2f3-4a58-95b8-e1973423d50c"
      },
      "source": [
        "yscale('log')\n",
        "pl.hist(goodData[\"gaps\"])\n",
        "pl.xlabel('Interval between Earthquakes (nanoseconds)')\n",
        "pl.ylabel('Number Earthquakes')\n",
        "pl.title('Histogram of Earthquakes (>=Mag 2)',fontsize=18)"
      ],
      "execution_count": 34,
      "outputs": [
        {
          "output_type": "execute_result",
          "data": {
            "text/plain": [
              "Text(0.5, 1.0, 'Histogram of Earthquakes (>=Mag 2)')"
            ]
          },
          "metadata": {},
          "execution_count": 34
        },
        {
          "output_type": "stream",
          "name": "stderr",
          "text": [
            "findfont: Font family ['[\"sans-serif\"]'] not found. Falling back to DejaVu Sans.\n",
            "findfont: Font family ['[\"sans-serif\"]'] not found. Falling back to DejaVu Sans.\n",
            "findfont: Font family ['[\"sans-serif\"]'] not found. Falling back to DejaVu Sans.\n"
          ]
        },
        {
          "output_type": "display_data",
          "data": {
            "image/png": "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\n",
            "text/plain": [
              "<Figure size 432x288 with 1 Axes>"
            ]
          },
          "metadata": {
            "needs_background": "light"
          }
        }
      ]
    },
    {
      "cell_type": "markdown",
      "metadata": {
        "id": "w9Px5B5zmZM-"
      },
      "source": [
        "Figure 1: Histogram of Earthquakes (including >month-long gaps)."
      ]
    },
    {
      "cell_type": "markdown",
      "metadata": {
        "id": "nuPhJkrozh91"
      },
      "source": [
        "The thing that worries me is that by removing some sections of the data to use only stationary periods we created some artificially large gaps: gaps of order ~month. How many nanoseconds in a month? remove all gaps that are larger than about a month and see how the distribution looks (make another histogram)."
      ]
>>>>>>> a9ee45e270bd48e2ad0c87ce5edcea609c658168
    },
    "id": "a6f-j9ThoMUC",
    "outputId": "84065591-d2bc-4abf-ac2a-c1d8532c22d3"
   },
   "outputs": [
    {
     "data": {
      "text/plain": [
       "(18853, 6)"
      ]
<<<<<<< HEAD
     },
     "execution_count": 135,
     "metadata": {},
     "output_type": "execute_result"
    }
   ],
   "source": [
    "goodData.shape"
   ]
  },
  {
   "cell_type": "code",
   "execution_count": 136,
   "metadata": {
    "colab": {
     "base_uri": "https://localhost:8080/",
     "height": 300
    },
    "id": "pC2aJCuVXfM3",
    "outputId": "3d7af0ef-98bc-4c1f-bb70-db5fc07cf9bc"
   },
   "outputs": [
    {
     "data": {
      "text/html": [
       "<div>\n",
       "<style scoped>\n",
       "    .dataframe tbody tr th:only-of-type {\n",
       "        vertical-align: middle;\n",
       "    }\n",
       "\n",
       "    .dataframe tbody tr th {\n",
       "        vertical-align: top;\n",
       "    }\n",
       "\n",
       "    .dataframe thead th {\n",
       "        text-align: right;\n",
       "    }\n",
       "</style>\n",
       "<table border=\"1\" class=\"dataframe\">\n",
       "  <thead>\n",
       "    <tr style=\"text-align: right;\">\n",
       "      <th></th>\n",
       "      <th>mag</th>\n",
       "      <th>dts</th>\n",
       "      <th>gaps</th>\n",
       "    </tr>\n",
       "  </thead>\n",
       "  <tbody>\n",
       "    <tr>\n",
       "      <th>count</th>\n",
       "      <td>18853.000000</td>\n",
       "      <td>18853</td>\n",
       "      <td>1.885300e+04</td>\n",
       "    </tr>\n",
       "    <tr>\n",
       "      <th>mean</th>\n",
       "      <td>2.399406</td>\n",
       "      <td>0 days 08:49:59.865924256</td>\n",
       "      <td>3.179987e+13</td>\n",
       "    </tr>\n",
       "    <tr>\n",
       "      <th>std</th>\n",
       "      <td>0.392424</td>\n",
       "      <td>12 days 18:41:14.463355848</td>\n",
       "      <td>1.104074e+15</td>\n",
       "    </tr>\n",
       "    <tr>\n",
       "      <th>min</th>\n",
       "      <td>2.000000</td>\n",
       "      <td>0 days 00:00:00.170000</td>\n",
       "      <td>1.700000e+08</td>\n",
       "    </tr>\n",
       "    <tr>\n",
       "      <th>25%</th>\n",
       "      <td>2.110000</td>\n",
       "      <td>0 days 00:45:33.640000</td>\n",
       "      <td>2.733640e+12</td>\n",
       "    </tr>\n",
       "    <tr>\n",
       "      <th>50%</th>\n",
       "      <td>2.290000</td>\n",
       "      <td>0 days 02:28:58.520000</td>\n",
       "      <td>8.938520e+12</td>\n",
       "    </tr>\n",
       "    <tr>\n",
       "      <th>75%</th>\n",
       "      <td>2.560000</td>\n",
       "      <td>0 days 05:55:10.180000</td>\n",
       "      <td>2.131018e+13</td>\n",
       "    </tr>\n",
       "    <tr>\n",
       "      <th>max</th>\n",
       "      <td>5.800000</td>\n",
       "      <td>1388 days 04:15:56.490000</td>\n",
       "      <td>1.199386e+17</td>\n",
       "    </tr>\n",
       "  </tbody>\n",
       "</table>\n",
       "</div>"
      ],
      "text/plain": [
       "                mag                         dts          gaps\n",
       "count  18853.000000                       18853  1.885300e+04\n",
       "mean       2.399406   0 days 08:49:59.865924256  3.179987e+13\n",
       "std        0.392424  12 days 18:41:14.463355848  1.104074e+15\n",
       "min        2.000000      0 days 00:00:00.170000  1.700000e+08\n",
       "25%        2.110000      0 days 00:45:33.640000  2.733640e+12\n",
       "50%        2.290000      0 days 02:28:58.520000  8.938520e+12\n",
       "75%        2.560000      0 days 05:55:10.180000  2.131018e+13\n",
       "max        5.800000   1388 days 04:15:56.490000  1.199386e+17"
      ]
     },
     "execution_count": 136,
     "metadata": {},
     "output_type": "execute_result"
    }
   ],
   "source": [
    "goodData.describe()"
   ]
  },
  {
   "cell_type": "markdown",
   "metadata": {
    "id": "wWmOXVyKhO9W"
   },
   "source": [
    "Note that the first entry will be NaT which is Not a Time (corresponding to nan for numerical variables) or maybe a negative number (depends on your exact operations above). You should remove it"
   ]
  },
  {
   "cell_type": "code",
   "execution_count": 137,
   "metadata": {
    "id": "zqOLrvyc0_dL"
   },
   "outputs": [],
   "source": [
    "# your code here"
   ]
  },
  {
   "cell_type": "code",
   "execution_count": 138,
   "metadata": {
    "colab": {
     "base_uri": "https://localhost:8080/",
     "height": 206
    },
    "id": "kDvKNHD7X1M8",
    "outputId": "e5da3c78-1fcd-489e-805c-f0d69d1c47a0"
   },
   "outputs": [
    {
     "data": {
      "text/html": [
       "<div>\n",
       "<style scoped>\n",
       "    .dataframe tbody tr th:only-of-type {\n",
       "        vertical-align: middle;\n",
       "    }\n",
       "\n",
       "    .dataframe tbody tr th {\n",
       "        vertical-align: top;\n",
       "    }\n",
       "\n",
       "    .dataframe thead th {\n",
       "        text-align: right;\n",
       "    }\n",
       "</style>\n",
       "<table border=\"1\" class=\"dataframe\">\n",
       "  <thead>\n",
       "    <tr style=\"text-align: right;\">\n",
       "      <th></th>\n",
       "      <th>date</th>\n",
       "      <th>time</th>\n",
       "      <th>mag</th>\n",
       "      <th>datetime</th>\n",
       "      <th>dts</th>\n",
       "      <th>gaps</th>\n",
       "    </tr>\n",
       "  </thead>\n",
       "  <tbody>\n",
       "    <tr>\n",
       "      <th>0</th>\n",
       "      <td>1984/01/01</td>\n",
       "      <td>05:31:34.16</td>\n",
       "      <td>2.12</td>\n",
       "      <td>1984-01-01 05:31:34.160</td>\n",
       "      <td>0 days 04:00:36.640000</td>\n",
       "      <td>1.443664e+13</td>\n",
       "    </tr>\n",
       "    <tr>\n",
       "      <th>1</th>\n",
       "      <td>1984/01/01</td>\n",
       "      <td>06:59:05.14</td>\n",
       "      <td>2.43</td>\n",
       "      <td>1984-01-01 06:59:05.140</td>\n",
       "      <td>0 days 01:27:30.980000</td>\n",
       "      <td>5.250980e+12</td>\n",
       "    </tr>\n",
       "    <tr>\n",
       "      <th>2</th>\n",
       "      <td>1984/01/01</td>\n",
       "      <td>11:10:25.29</td>\n",
       "      <td>2.07</td>\n",
       "      <td>1984-01-01 11:10:25.290</td>\n",
       "      <td>0 days 04:11:20.150000</td>\n",
       "      <td>1.508015e+13</td>\n",
       "    </tr>\n",
       "    <tr>\n",
       "      <th>3</th>\n",
       "      <td>1984/01/01</td>\n",
       "      <td>19:38:19.79</td>\n",
       "      <td>2.13</td>\n",
       "      <td>1984-01-01 19:38:19.790</td>\n",
       "      <td>0 days 08:27:54.500000</td>\n",
       "      <td>3.047450e+13</td>\n",
       "    </tr>\n",
       "    <tr>\n",
       "      <th>4</th>\n",
       "      <td>1984/01/01</td>\n",
       "      <td>19:39:19.67</td>\n",
       "      <td>2.13</td>\n",
       "      <td>1984-01-01 19:39:19.670</td>\n",
       "      <td>0 days 00:00:59.880000</td>\n",
       "      <td>5.988000e+10</td>\n",
       "    </tr>\n",
       "  </tbody>\n",
       "</table>\n",
       "</div>"
      ],
      "text/plain": [
       "         date         time   mag                datetime  \\\n",
       "0  1984/01/01  05:31:34.16  2.12 1984-01-01 05:31:34.160   \n",
       "1  1984/01/01  06:59:05.14  2.43 1984-01-01 06:59:05.140   \n",
       "2  1984/01/01  11:10:25.29  2.07 1984-01-01 11:10:25.290   \n",
       "3  1984/01/01  19:38:19.79  2.13 1984-01-01 19:38:19.790   \n",
       "4  1984/01/01  19:39:19.67  2.13 1984-01-01 19:39:19.670   \n",
       "\n",
       "                     dts          gaps  \n",
       "0 0 days 04:00:36.640000  1.443664e+13  \n",
       "1 0 days 01:27:30.980000  5.250980e+12  \n",
       "2 0 days 04:11:20.150000  1.508015e+13  \n",
       "3 0 days 08:27:54.500000  3.047450e+13  \n",
       "4 0 days 00:00:59.880000  5.988000e+10  "
      ]
     },
     "execution_count": 138,
     "metadata": {},
     "output_type": "execute_result"
    }
   ],
   "source": [
    "goodData.head()"
   ]
  },
  {
   "cell_type": "markdown",
   "metadata": {
    "id": "M2VH6Q4xhXsw"
   },
   "source": [
    "# data exploration\n",
    "At this point you should wonder if this is the final dataset that you want to use and if anything is weird or suspicious about it. Visualize the distribution. A good way to visualize distributions is a histogram which you can prodice with pl.hist() or as a method of your dataframe series as ```df[SeriesName].plot(kind=\"hist\")```. Produce a plot like the one below (label the axis! and describe it with a caption!). To get the logarithmic y axis you can se ```logy=True```, for example. in your ```df[SeriesName].plot``` call."
   ]
  },
  {
   "cell_type": "code",
   "execution_count": 139,
   "metadata": {
    "colab": {
     "base_uri": "https://localhost:8080/",
     "height": 318
=======
    },
    {
      "cell_type": "code",
      "metadata": {
        "id": "0zuGOkWhzhDu"
      },
      "source": [
        "# your code here \n",
        "monthNs = 2.628e15\n",
        "goodData = goodData[goodData.gaps < monthNs]"
      ],
      "execution_count": 35,
      "outputs": []
    },
    {
      "cell_type": "code",
      "metadata": {
        "colab": {
          "base_uri": "https://localhost:8080/"
        },
        "id": "48g1qe2P0VT8",
        "outputId": "f14ae436-17f7-441f-9a09-b3545bd2ef44"
      },
      "source": [
        "goodData.head(), goodData.shape[0]"
      ],
      "execution_count": 36,
      "outputs": [
        {
          "output_type": "execute_result",
          "data": {
            "text/plain": [
              "(         date         time  ...                    dts          gaps\n",
              " 0  1984/01/01  05:31:34.16  ... 0 days 04:00:36.640000  1.443664e+13\n",
              " 1  1984/01/01  06:59:05.14  ... 0 days 01:27:30.980000  5.250980e+12\n",
              " 2  1984/01/01  11:10:25.29  ... 0 days 04:11:20.150000  1.508015e+13\n",
              " 3  1984/01/01  19:38:19.79  ... 0 days 08:27:54.500000  3.047450e+13\n",
              " 4  1984/01/01  19:39:19.67  ... 0 days 00:00:59.880000  5.988000e+10\n",
              " \n",
              " [5 rows x 6 columns], 18843)"
            ]
          },
          "metadata": {},
          "execution_count": 36
        }
      ]
    },
    {
      "cell_type": "code",
      "metadata": {
        "colab": {
          "base_uri": "https://localhost:8080/",
          "height": 320
        },
        "id": "QesHV1yP02Xp",
        "outputId": "81a9a166-2ca6-4364-dcd9-6b4144d1ad76"
      },
      "source": [
        "yscale('log')\n",
        "pl.hist(goodData[\"gaps\"])\n",
        "pl.xlabel('Interval between Earthquakes (nanoseconds)')\n",
        "pl.ylabel('Number of Earthquakes')\n",
        "pl.title('Histogram of Earthquakes (>=Mag 2)', fontsize = 18)"
      ],
      "execution_count": 37,
      "outputs": [
        {
          "output_type": "execute_result",
          "data": {
            "text/plain": [
              "Text(0.5, 1.0, 'Histogram of Earthquakes (>=Mag 2)')"
            ]
          },
          "metadata": {},
          "execution_count": 37
        },
        {
          "output_type": "display_data",
          "data": {
            "image/png": "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\n",
            "text/plain": [
              "<Figure size 432x288 with 1 Axes>"
            ]
          },
          "metadata": {
            "needs_background": "light"
          }
        }
      ]
    },
    {
      "cell_type": "markdown",
      "metadata": {
        "id": "2oYRMd0mmgPD"
      },
      "source": [
        "Figure 2: Histograh of Earthquakes with month-long gaps removed."
      ]
    },
    {
      "cell_type": "markdown",
      "metadata": {
        "id": "KnuFDDliGAf5"
      },
      "source": [
        "With month-long gaps removed, the histogram is much easier to read. The distribution is heavily weighted towards short intervals between earthquakes, with decreasing frequency as the intervals increase."
      ]
    },
    {
      "cell_type": "markdown",
      "metadata": {
        "id": "gn-HuVevYOo7"
      },
      "source": [
        "# data analysis"
      ]
    },
    {
      "cell_type": "markdown",
      "metadata": {
        "id": "Q2xYwKRB2sx9"
      },
      "source": [
        "### important: the paper does not do it but I want you to formally choose a threshold before you do this test. Choose a p-value (=$\\alpha$ thresold: call your variable ```alpha```) of 3-$\\sigma$."
      ]
    },
    {
      "cell_type": "markdown",
      "metadata": {
        "id": "pt5MAQEZhXsz"
      },
      "source": [
        "Follow the instructions (algorithm) in **Section 3 paragraph 3** and compare your results with the results in table 1 with a threshold  of = 0.01 and 0.001\n",
        "\n",
        "Do it for all 5 magnitude thresholds as indicated in the paper (and in Table 1).\n",
        "\n",
        "Note that the x axis in plot Fig 1 is in _log space_. Use ```np.log10()``` to take the logarithm of the time gaps.\n",
        "\n",
        "The pseudocode for the algorithm is [here](https://github.com/fedhere/DSPS/blob/master/HW3/Corral2018_pseudocode.md).\n"
      ]
>>>>>>> a9ee45e270bd48e2ad0c87ce5edcea609c658168
    },
    "id": "iDiscxU4XDwg",
    "outputId": "066fde30-3894-4bf8-cd8e-ea76f34c9942"
   },
   "outputs": [
    {
     "data": {
      "text/plain": [
       "Text(0.5, 1.0, 'Histogram of Earthquakes (>=Mag 2)')"
      ]
     },
     "execution_count": 139,
     "metadata": {},
     "output_type": "execute_result"
    },
    {
<<<<<<< HEAD
     "data": {
      "image/png": "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\n",
      "text/plain": [
       "<Figure size 432x288 with 1 Axes>"
      ]
     },
     "metadata": {},
     "output_type": "display_data"
    }
   ],
   "source": [
    "yscale('log')\n",
    "pl.hist(goodData[\"gaps\"])\n",
    "pl.xlabel('Interval between Earthquakes (nanoseconds)')\n",
    "pl.ylabel('Number Earthquakes')\n",
    "pl.title('Histogram of Earthquakes (>=Mag 2)',fontsize=18)"
   ]
  },
  {
   "cell_type": "markdown",
   "metadata": {
    "id": "nuPhJkrozh91"
   },
   "source": [
    "The thing that worries me is that by removing some sections of the data to use only stationary periods we created some artificially large gaps: gaps of order ~month. How many nanoseconds in a month? remove all gaps that are larger than about a month and see how the distribution looks (make another histogram)."
   ]
  },
  {
   "cell_type": "markdown",
   "metadata": {
    "id": "SSPvL9MNzoGW"
   },
   "source": [
    "Considering that a month is 2.628e+15 ns, we can remove from the dataset all the rows with gap greater than this value"
   ]
  },
  {
   "cell_type": "code",
   "execution_count": 140,
   "metadata": {
    "id": "0zuGOkWhzhDu"
   },
   "outputs": [],
   "source": [
    "# your code here \n",
    "monthNs = 2.628e15\n",
    "goodData = goodData[goodData.gaps < monthNs]"
   ]
  },
  {
   "cell_type": "code",
   "execution_count": 141,
   "metadata": {
    "colab": {
     "base_uri": "https://localhost:8080/"
    },
    "id": "48g1qe2P0VT8",
    "outputId": "f82bce16-0533-45ab-a9a4-bf2f3d51c083"
   },
   "outputs": [
    {
     "data": {
      "text/plain": [
       "(         date         time   mag                datetime  \\\n",
       " 0  1984/01/01  05:31:34.16  2.12 1984-01-01 05:31:34.160   \n",
       " 1  1984/01/01  06:59:05.14  2.43 1984-01-01 06:59:05.140   \n",
       " 2  1984/01/01  11:10:25.29  2.07 1984-01-01 11:10:25.290   \n",
       " 3  1984/01/01  19:38:19.79  2.13 1984-01-01 19:38:19.790   \n",
       " 4  1984/01/01  19:39:19.67  2.13 1984-01-01 19:39:19.670   \n",
       " \n",
       "                      dts          gaps  \n",
       " 0 0 days 04:00:36.640000  1.443664e+13  \n",
       " 1 0 days 01:27:30.980000  5.250980e+12  \n",
       " 2 0 days 04:11:20.150000  1.508015e+13  \n",
       " 3 0 days 08:27:54.500000  3.047450e+13  \n",
       " 4 0 days 00:00:59.880000  5.988000e+10  , 18843)"
      ]
     },
     "execution_count": 141,
     "metadata": {},
     "output_type": "execute_result"
    }
   ],
   "source": [
    "goodData.head(), goodData.shape[0]"
   ]
  },
  {
   "cell_type": "code",
   "execution_count": 142,
   "metadata": {
    "colab": {
     "base_uri": "https://localhost:8080/",
     "height": 338
    },
    "id": "QesHV1yP02Xp",
    "outputId": "ae4c2016-c3ba-4949-85cb-8ba00790bbd7"
   },
   "outputs": [
    {
     "data": {
      "text/plain": [
       "Text(0.5, 1.0, 'Histogram of Earthquakes (>=Mag 2)')"
      ]
     },
     "execution_count": 142,
     "metadata": {},
     "output_type": "execute_result"
    },
    {
     "data": {
      "image/png": "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\n",
      "text/plain": [
       "<Figure size 432x288 with 1 Axes>"
=======
      "cell_type": "code",
      "metadata": {
        "id": "ykSeJL396V7q"
      },
      "source": [
        "m = [0.01,0.001]\n",
        "selectedMag = [2,2.5,3,3.5,4]"
      ],
      "execution_count": 38,
      "outputs": []
    },
    {
      "cell_type": "code",
      "metadata": {
        "id": "xlRdazgdhMGa"
      },
      "source": [
        "colum = ['mag', 'm', 'N']\n",
        "for i in selectedMag:\n",
        "  colum.append(\"M >= \"+str(i))\n",
        "table1 = pd.DataFrame(columns = colum)"
      ],
      "execution_count": 39,
      "outputs": []
    },
    {
      "cell_type": "code",
      "metadata": {
        "id": "HNvXBV8e6X8S"
      },
      "source": [
        "tempData = goodData\n",
        "for i in m:\n",
        "  for j in selectedMag:\n",
        "    for k in [1,2]:\n",
        "      Rk = 1/goodData[goodData[\"mag\"] >= j][\"gaps\"].mean()\n",
        "      # We select the indices of the rows that are below the threshold\n",
        "      indexTemp = goodData[(goodData.mag >= j) & (goodData.gaps*Rk <= i)].index.tolist()\n",
        "      # Normalize the gap by multiplying the constant Rk\n",
        "      goodData[\"gaps\"] = np.where((goodData.mag >= j) & (goodData.gaps*Rk > i), goodData[\"gaps\"]*Rk, goodData[\"gaps\"])\n",
        "      # Drop the entries below the threshold\n",
        "      goodData.drop(indexTemp, inplace=True)      \n",
        " \n",
        "  for j in range(len(selectedMag)):\n",
        "    # Create a temporal list to store the data to be included in table1\n",
        "    # It contains the magnitude, threshold, number of events\n",
        "    insertTemp = [\"M >= \"+ str(selectedMag[j]), i, goodData[goodData.mag >= selectedMag[j]].shape[0]]\n",
        "    temp = 0\n",
        "    for k in range(len(selectedMag)):\n",
        "      temp = stats.ks_2samp(np.log(goodData[goodData.mag >= selectedMag[j]][\"gaps\"]), np.log(goodData[goodData.mag >= selectedMag[k]][\"gaps\"]))\n",
        "      if k > j :\n",
        "        insertTemp.append(str(round(temp[1],3)))\n",
        "      elif j > k:\n",
        "        insertTemp.append(str(round(temp[0],3)))\n",
        "      else:\n",
        "        insertTemp.append(\"-\")\n",
        "    \n",
        "    insertTemp = dict(zip(table1.columns.tolist(),insertTemp))\n",
        "    table1 = table1.append(insertTemp, ignore_index = True)\n",
        "    if i == 0.01 :\n",
        "      goodData = tempData"
      ],
      "execution_count": 40,
      "outputs": []
    },
    {
      "cell_type": "code",
      "metadata": {
        "colab": {
          "base_uri": "https://localhost:8080/",
          "height": 349
        },
        "id": "IMY51MZePk3z",
        "outputId": "2e436e00-f9ea-4bc6-8f2f-1c2e392043e6"
      },
      "source": [
        "table1_1 = table1[table1['m'] == 0.01].loc[:, table1.columns != 'm']\n",
        "table1_2 = table1[table1['m'] == 0.001].loc[:, table1.columns != 'm']\n",
        "display(table1_1.style.set_table_attributes(\"style='display:inline'\").set_caption('KS - test results for m = 0.01'))\n",
        "print(\"\\n\")\n",
        "display(table1_2.style.set_table_attributes(\"style='display:inline'\").set_caption('KS - test results for m = 0.001'))\n",
        "#display(table1_2)"
      ],
      "execution_count": 41,
      "outputs": [
        {
          "output_type": "display_data",
          "data": {
            "text/html": [
              "<style  type=\"text/css\" >\n",
              "</style><table id=\"T_d1f79692_1f23_11ec_8c2c_0242ac1c0002\" style='display:inline'><caption>KS - test results for m = 0.01</caption><thead>    <tr>        <th class=\"blank level0\" ></th>        <th class=\"col_heading level0 col0\" >mag</th>        <th class=\"col_heading level0 col1\" >N</th>        <th class=\"col_heading level0 col2\" >M >= 2</th>        <th class=\"col_heading level0 col3\" >M >= 2.5</th>        <th class=\"col_heading level0 col4\" >M >= 3</th>        <th class=\"col_heading level0 col5\" >M >= 3.5</th>        <th class=\"col_heading level0 col6\" >M >= 4</th>    </tr></thead><tbody>\n",
              "                <tr>\n",
              "                        <th id=\"T_d1f79692_1f23_11ec_8c2c_0242ac1c0002level0_row0\" class=\"row_heading level0 row0\" >0</th>\n",
              "                        <td id=\"T_d1f79692_1f23_11ec_8c2c_0242ac1c0002row0_col0\" class=\"data row0 col0\" >M >= 2</td>\n",
              "                        <td id=\"T_d1f79692_1f23_11ec_8c2c_0242ac1c0002row0_col1\" class=\"data row0 col1\" >17950</td>\n",
              "                        <td id=\"T_d1f79692_1f23_11ec_8c2c_0242ac1c0002row0_col2\" class=\"data row0 col2\" >-</td>\n",
              "                        <td id=\"T_d1f79692_1f23_11ec_8c2c_0242ac1c0002row0_col3\" class=\"data row0 col3\" >0.274</td>\n",
              "                        <td id=\"T_d1f79692_1f23_11ec_8c2c_0242ac1c0002row0_col4\" class=\"data row0 col4\" >0.097</td>\n",
              "                        <td id=\"T_d1f79692_1f23_11ec_8c2c_0242ac1c0002row0_col5\" class=\"data row0 col5\" >0.031</td>\n",
              "                        <td id=\"T_d1f79692_1f23_11ec_8c2c_0242ac1c0002row0_col6\" class=\"data row0 col6\" >0.096</td>\n",
              "            </tr>\n",
              "            <tr>\n",
              "                        <th id=\"T_d1f79692_1f23_11ec_8c2c_0242ac1c0002level0_row1\" class=\"row_heading level0 row1\" >1</th>\n",
              "                        <td id=\"T_d1f79692_1f23_11ec_8c2c_0242ac1c0002row1_col0\" class=\"data row1 col0\" >M >= 2.5</td>\n",
              "                        <td id=\"T_d1f79692_1f23_11ec_8c2c_0242ac1c0002row1_col1\" class=\"data row1 col1\" >5376</td>\n",
              "                        <td id=\"T_d1f79692_1f23_11ec_8c2c_0242ac1c0002row1_col2\" class=\"data row1 col2\" >0.015</td>\n",
              "                        <td id=\"T_d1f79692_1f23_11ec_8c2c_0242ac1c0002row1_col3\" class=\"data row1 col3\" >-</td>\n",
              "                        <td id=\"T_d1f79692_1f23_11ec_8c2c_0242ac1c0002row1_col4\" class=\"data row1 col4\" >1.0</td>\n",
              "                        <td id=\"T_d1f79692_1f23_11ec_8c2c_0242ac1c0002row1_col5\" class=\"data row1 col5\" >0.107</td>\n",
              "                        <td id=\"T_d1f79692_1f23_11ec_8c2c_0242ac1c0002row1_col6\" class=\"data row1 col6\" >0.132</td>\n",
              "            </tr>\n",
              "            <tr>\n",
              "                        <th id=\"T_d1f79692_1f23_11ec_8c2c_0242ac1c0002level0_row2\" class=\"row_heading level0 row2\" >2</th>\n",
              "                        <td id=\"T_d1f79692_1f23_11ec_8c2c_0242ac1c0002row2_col0\" class=\"data row2 col0\" >M >= 3</td>\n",
              "                        <td id=\"T_d1f79692_1f23_11ec_8c2c_0242ac1c0002row2_col1\" class=\"data row2 col1\" >1347</td>\n",
              "                        <td id=\"T_d1f79692_1f23_11ec_8c2c_0242ac1c0002row2_col2\" class=\"data row2 col2\" >0.035</td>\n",
              "                        <td id=\"T_d1f79692_1f23_11ec_8c2c_0242ac1c0002row2_col3\" class=\"data row2 col3\" >0.026</td>\n",
              "                        <td id=\"T_d1f79692_1f23_11ec_8c2c_0242ac1c0002row2_col4\" class=\"data row2 col4\" >-</td>\n",
              "                        <td id=\"T_d1f79692_1f23_11ec_8c2c_0242ac1c0002row2_col5\" class=\"data row2 col5\" >0.249</td>\n",
              "                        <td id=\"T_d1f79692_1f23_11ec_8c2c_0242ac1c0002row2_col6\" class=\"data row2 col6\" >0.173</td>\n",
              "            </tr>\n",
              "            <tr>\n",
              "                        <th id=\"T_d1f79692_1f23_11ec_8c2c_0242ac1c0002level0_row3\" class=\"row_heading level0 row3\" >3</th>\n",
              "                        <td id=\"T_d1f79692_1f23_11ec_8c2c_0242ac1c0002row3_col0\" class=\"data row3 col0\" >M >= 3.5</td>\n",
              "                        <td id=\"T_d1f79692_1f23_11ec_8c2c_0242ac1c0002row3_col1\" class=\"data row3 col1\" >388</td>\n",
              "                        <td id=\"T_d1f79692_1f23_11ec_8c2c_0242ac1c0002row3_col2\" class=\"data row3 col2\" >0.074</td>\n",
              "                        <td id=\"T_d1f79692_1f23_11ec_8c2c_0242ac1c0002row3_col3\" class=\"data row3 col3\" >0.063</td>\n",
              "                        <td id=\"T_d1f79692_1f23_11ec_8c2c_0242ac1c0002row3_col4\" class=\"data row3 col4\" >0.058</td>\n",
              "                        <td id=\"T_d1f79692_1f23_11ec_8c2c_0242ac1c0002row3_col5\" class=\"data row3 col5\" >-</td>\n",
              "                        <td id=\"T_d1f79692_1f23_11ec_8c2c_0242ac1c0002row3_col6\" class=\"data row3 col6\" >0.941</td>\n",
              "            </tr>\n",
              "            <tr>\n",
              "                        <th id=\"T_d1f79692_1f23_11ec_8c2c_0242ac1c0002level0_row4\" class=\"row_heading level0 row4\" >4</th>\n",
              "                        <td id=\"T_d1f79692_1f23_11ec_8c2c_0242ac1c0002row4_col0\" class=\"data row4 col0\" >M >= 4</td>\n",
              "                        <td id=\"T_d1f79692_1f23_11ec_8c2c_0242ac1c0002row4_col1\" class=\"data row4 col1\" >109</td>\n",
              "                        <td id=\"T_d1f79692_1f23_11ec_8c2c_0242ac1c0002row4_col2\" class=\"data row4 col2\" >0.118</td>\n",
              "                        <td id=\"T_d1f79692_1f23_11ec_8c2c_0242ac1c0002row4_col3\" class=\"data row4 col3\" >0.111</td>\n",
              "                        <td id=\"T_d1f79692_1f23_11ec_8c2c_0242ac1c0002row4_col4\" class=\"data row4 col4\" >0.108</td>\n",
              "                        <td id=\"T_d1f79692_1f23_11ec_8c2c_0242ac1c0002row4_col5\" class=\"data row4 col5\" >0.055</td>\n",
              "                        <td id=\"T_d1f79692_1f23_11ec_8c2c_0242ac1c0002row4_col6\" class=\"data row4 col6\" >-</td>\n",
              "            </tr>\n",
              "    </tbody></table>"
            ],
            "text/plain": [
              "<pandas.io.formats.style.Styler at 0x7f1f70563350>"
            ]
          },
          "metadata": {}
        },
        {
          "output_type": "stream",
          "name": "stdout",
          "text": [
            "\n",
            "\n"
          ]
        },
        {
          "output_type": "display_data",
          "data": {
            "text/html": [
              "<style  type=\"text/css\" >\n",
              "</style><table id=\"T_d1f88d54_1f23_11ec_8c2c_0242ac1c0002\" style='display:inline'><caption>KS - test results for m = 0.001</caption><thead>    <tr>        <th class=\"blank level0\" ></th>        <th class=\"col_heading level0 col0\" >mag</th>        <th class=\"col_heading level0 col1\" >N</th>        <th class=\"col_heading level0 col2\" >M >= 2</th>        <th class=\"col_heading level0 col3\" >M >= 2.5</th>        <th class=\"col_heading level0 col4\" >M >= 3</th>        <th class=\"col_heading level0 col5\" >M >= 3.5</th>        <th class=\"col_heading level0 col6\" >M >= 4</th>    </tr></thead><tbody>\n",
              "                <tr>\n",
              "                        <th id=\"T_d1f88d54_1f23_11ec_8c2c_0242ac1c0002level0_row0\" class=\"row_heading level0 row0\" >5</th>\n",
              "                        <td id=\"T_d1f88d54_1f23_11ec_8c2c_0242ac1c0002row0_col0\" class=\"data row0 col0\" >M >= 2</td>\n",
              "                        <td id=\"T_d1f88d54_1f23_11ec_8c2c_0242ac1c0002row0_col1\" class=\"data row0 col1\" >17950</td>\n",
              "                        <td id=\"T_d1f88d54_1f23_11ec_8c2c_0242ac1c0002row0_col2\" class=\"data row0 col2\" >-</td>\n",
              "                        <td id=\"T_d1f88d54_1f23_11ec_8c2c_0242ac1c0002row0_col3\" class=\"data row0 col3\" >0.431</td>\n",
              "                        <td id=\"T_d1f88d54_1f23_11ec_8c2c_0242ac1c0002row0_col4\" class=\"data row0 col4\" >0.296</td>\n",
              "                        <td id=\"T_d1f88d54_1f23_11ec_8c2c_0242ac1c0002row0_col5\" class=\"data row0 col5\" >0.089</td>\n",
              "                        <td id=\"T_d1f88d54_1f23_11ec_8c2c_0242ac1c0002row0_col6\" class=\"data row0 col6\" >0.104</td>\n",
              "            </tr>\n",
              "            <tr>\n",
              "                        <th id=\"T_d1f88d54_1f23_11ec_8c2c_0242ac1c0002level0_row1\" class=\"row_heading level0 row1\" >6</th>\n",
              "                        <td id=\"T_d1f88d54_1f23_11ec_8c2c_0242ac1c0002row1_col0\" class=\"data row1 col0\" >M >= 2.5</td>\n",
              "                        <td id=\"T_d1f88d54_1f23_11ec_8c2c_0242ac1c0002row1_col1\" class=\"data row1 col1\" >5376</td>\n",
              "                        <td id=\"T_d1f88d54_1f23_11ec_8c2c_0242ac1c0002row1_col2\" class=\"data row1 col2\" >0.014</td>\n",
              "                        <td id=\"T_d1f88d54_1f23_11ec_8c2c_0242ac1c0002row1_col3\" class=\"data row1 col3\" >-</td>\n",
              "                        <td id=\"T_d1f88d54_1f23_11ec_8c2c_0242ac1c0002row1_col4\" class=\"data row1 col4\" >1.0</td>\n",
              "                        <td id=\"T_d1f88d54_1f23_11ec_8c2c_0242ac1c0002row1_col5\" class=\"data row1 col5\" >0.139</td>\n",
              "                        <td id=\"T_d1f88d54_1f23_11ec_8c2c_0242ac1c0002row1_col6\" class=\"data row1 col6\" >0.121</td>\n",
              "            </tr>\n",
              "            <tr>\n",
              "                        <th id=\"T_d1f88d54_1f23_11ec_8c2c_0242ac1c0002level0_row2\" class=\"row_heading level0 row2\" >7</th>\n",
              "                        <td id=\"T_d1f88d54_1f23_11ec_8c2c_0242ac1c0002row2_col0\" class=\"data row2 col0\" >M >= 3</td>\n",
              "                        <td id=\"T_d1f88d54_1f23_11ec_8c2c_0242ac1c0002row2_col1\" class=\"data row2 col1\" >1347</td>\n",
              "                        <td id=\"T_d1f88d54_1f23_11ec_8c2c_0242ac1c0002row2_col2\" class=\"data row2 col2\" >0.028</td>\n",
              "                        <td id=\"T_d1f88d54_1f23_11ec_8c2c_0242ac1c0002row2_col3\" class=\"data row2 col3\" >0.022</td>\n",
              "                        <td id=\"T_d1f88d54_1f23_11ec_8c2c_0242ac1c0002row2_col4\" class=\"data row2 col4\" >-</td>\n",
              "                        <td id=\"T_d1f88d54_1f23_11ec_8c2c_0242ac1c0002row2_col5\" class=\"data row2 col5\" >0.218</td>\n",
              "                        <td id=\"T_d1f88d54_1f23_11ec_8c2c_0242ac1c0002row2_col6\" class=\"data row2 col6\" >0.141</td>\n",
              "            </tr>\n",
              "            <tr>\n",
              "                        <th id=\"T_d1f88d54_1f23_11ec_8c2c_0242ac1c0002level0_row3\" class=\"row_heading level0 row3\" >8</th>\n",
              "                        <td id=\"T_d1f88d54_1f23_11ec_8c2c_0242ac1c0002row3_col0\" class=\"data row3 col0\" >M >= 3.5</td>\n",
              "                        <td id=\"T_d1f88d54_1f23_11ec_8c2c_0242ac1c0002row3_col1\" class=\"data row3 col1\" >388</td>\n",
              "                        <td id=\"T_d1f88d54_1f23_11ec_8c2c_0242ac1c0002row3_col2\" class=\"data row3 col2\" >0.064</td>\n",
              "                        <td id=\"T_d1f88d54_1f23_11ec_8c2c_0242ac1c0002row3_col3\" class=\"data row3 col3\" >0.06</td>\n",
              "                        <td id=\"T_d1f88d54_1f23_11ec_8c2c_0242ac1c0002row3_col4\" class=\"data row3 col4\" >0.06</td>\n",
              "                        <td id=\"T_d1f88d54_1f23_11ec_8c2c_0242ac1c0002row3_col5\" class=\"data row3 col5\" >-</td>\n",
              "                        <td id=\"T_d1f88d54_1f23_11ec_8c2c_0242ac1c0002row3_col6\" class=\"data row3 col6\" >0.867</td>\n",
              "            </tr>\n",
              "            <tr>\n",
              "                        <th id=\"T_d1f88d54_1f23_11ec_8c2c_0242ac1c0002level0_row4\" class=\"row_heading level0 row4\" >9</th>\n",
              "                        <td id=\"T_d1f88d54_1f23_11ec_8c2c_0242ac1c0002row4_col0\" class=\"data row4 col0\" >M >= 4</td>\n",
              "                        <td id=\"T_d1f88d54_1f23_11ec_8c2c_0242ac1c0002row4_col1\" class=\"data row4 col1\" >109</td>\n",
              "                        <td id=\"T_d1f88d54_1f23_11ec_8c2c_0242ac1c0002row4_col2\" class=\"data row4 col2\" >0.117</td>\n",
              "                        <td id=\"T_d1f88d54_1f23_11ec_8c2c_0242ac1c0002row4_col3\" class=\"data row4 col3\" >0.113</td>\n",
              "                        <td id=\"T_d1f88d54_1f23_11ec_8c2c_0242ac1c0002row4_col4\" class=\"data row4 col4\" >0.113</td>\n",
              "                        <td id=\"T_d1f88d54_1f23_11ec_8c2c_0242ac1c0002row4_col5\" class=\"data row4 col5\" >0.063</td>\n",
              "                        <td id=\"T_d1f88d54_1f23_11ec_8c2c_0242ac1c0002row4_col6\" class=\"data row4 col6\" >-</td>\n",
              "            </tr>\n",
              "    </tbody></table>"
            ],
            "text/plain": [
              "<pandas.io.formats.style.Styler at 0x7f1f705b8510>"
            ]
          },
          "metadata": {}
        }
>>>>>>> a9ee45e270bd48e2ad0c87ce5edcea609c658168
      ]
     },
     "metadata": {},
     "output_type": "display_data"
    }
   ],
   "source": [
    "yscale('log')\n",
    "pl.hist(goodData[\"gaps\"])\n",
    "pl.xlabel('Interval between Earthquakes (nanoseconds)')\n",
    "pl.ylabel('Number of Earthquakes')\n",
    "pl.title('Histogram of Earthquakes (>=Mag 2)', fontsize = 18)"
   ]
  },
  {
   "cell_type": "markdown",
   "metadata": {
    "id": "KnuFDDliGAf5"
   },
   "source": [
    "With month-long gaps removed, the histogram is much easier to read. The distribution is heavily weighted towards short intervals between earthquakes, with decreasing frequency as the intervals increase."
   ]
  },
  {
   "cell_type": "markdown",
   "metadata": {
    "id": "gn-HuVevYOo7"
   },
   "source": [
    "# data analysis"
   ]
  },
  {
   "cell_type": "markdown",
   "metadata": {
    "id": "Q2xYwKRB2sx9"
   },
   "source": [
    "### important: the paper does not do it but I want you to formally choose a threshold before you do this test. Choose a p-value (=$\\alpha$ thresold: call your variable ```alpha```) of 3-$\\sigma$."
   ]
  },
  {
   "cell_type": "markdown",
   "metadata": {
    "id": "pt5MAQEZhXsz"
   },
   "source": [
    "Follow the instructions (algorithm) in **Section 3 paragraph 3** and compare your results with the results in table 1 with a threshold  of = 0.01 and 0.001\n",
    "\n",
    "Do it for all 5 magnitude thresholds as indicated in the paper (and in Table 1).\n",
    "\n",
    "Note that the x axis in plot Fig 1 is in _log space_. Use ```np.log10()``` to take the logarithm of the time gaps.\n",
    "\n",
    "The pseudocode for the algorithm is [here](https://github.com/fedhere/DSPS/blob/master/HW3/Corral2018_pseudocode.md).\n"
   ]
  },
  {
   "cell_type": "markdown",
   "metadata": {
    "id": "gXWK4x4FhXs1"
   },
   "source": [
    "Reproduce the paper Fig 1 and Table 1. In the Table report the size of each dataset after cleaning the value of the statistic and the p-value, as done in Corral 2018. Use the scipy function for the 2 sample KS test. (resources [here](https://colab.research.google.com/notebooks/markdown_guide.ipynb#scrollTo=70pYkR9LiOV0) to learn about the table syntax in markdown)"
   ]
  },
  {
   "cell_type": "code",
   "execution_count": 143,
   "metadata": {
    "id": "ykSeJL396V7q"
   },
   "outputs": [],
   "source": [
    "m = [0.01,0.001]\n",
    "selectedMag = [2,2.5,3,3.5,4]"
   ]
  },
  {
   "cell_type": "code",
   "execution_count": 144,
   "metadata": {
    "colab": {
     "base_uri": "https://localhost:8080/"
    },
    "id": "_r9aXmem7F3D",
    "outputId": "c4428aba-9592-421f-e769-0761288fbb65"
   },
   "outputs": [
    {
<<<<<<< HEAD
     "data": {
      "text/plain": [
       "16914854250000.0"
=======
      "cell_type": "markdown",
      "metadata": {
        "id": "msBS3CDeheff"
      },
      "source": [
        "Table 1: Results from two Kolgomorov Smirnoff tests which assess the similarity of earthquake interval distributions given certain magnitude thresholds. The first test uses a minimum rescaled interval of 0.01 and the second 0.001. Values above the diagonal of dashed lines are p-values, and below are the KS statistic. "
      ]
    },
    {
      "cell_type": "code",
      "metadata": {
        "id": "-fpAHW3dVr_s"
      },
      "source": [
        "#print('KS test results for m = 0.01\\n')\n",
        "#display(table1_1)\n",
        "#print('\\n KS test results for m = 0.001\\n')\n",
        "#display(table1_2)"
      ],
      "execution_count": 47,
      "outputs": []
    },
    {
      "cell_type": "code",
      "metadata": {
        "id": "xkLInuXT94ln"
      },
      "source": [
        "#table1[table1['m'] == 0.0010].loc[:, table1.columns != 'm']"
      ],
      "execution_count": 48,
      "outputs": []
    },
    {
      "cell_type": "markdown",
      "metadata": {
        "id": "ocy5Fd1rdmlX"
      },
      "source": [
        "Let's check that in fact we normalized the dataset\n"
>>>>>>> a9ee45e270bd48e2ad0c87ce5edcea609c658168
      ]
     },
     "execution_count": 144,
     "metadata": {},
     "output_type": "execute_result"
    }
   ],
   "source": [
    "goodData[goodData[\"mag\"]>=4][\"gaps\"].mean()"
   ]
  },
  {
   "cell_type": "code",
   "execution_count": 145,
   "metadata": {
    "colab": {
     "base_uri": "https://localhost:8080/"
    },
    "id": "X6cyHFoU7iRd",
    "outputId": "2ba9f91a-b79c-4c56-e89b-bbcf78974964"
   },
   "outputs": [
    {
<<<<<<< HEAD
     "data": {
      "text/plain": [
       "15535018615400.945"
      ]
     },
     "execution_count": 145,
     "metadata": {},
     "output_type": "execute_result"
    }
   ],
   "source": [
    "goodData.gaps.mean()"
   ]
  },
  {
   "cell_type": "code",
   "execution_count": 146,
   "metadata": {},
   "outputs": [],
   "source": [
    "goodData_Raw = goodData.copy()"
   ]
  },
  {
   "cell_type": "code",
   "execution_count": 173,
   "metadata": {
    "id": "xlRdazgdhMGa"
   },
   "outputs": [],
   "source": [
    "colum = ['mag', 'm', 'N']\n",
    "for i in selectedMag:\n",
    "  colum.append(str(i))\n",
    "table1 = pd.DataFrame(columns = colum)"
   ]
  },
  {
   "cell_type": "code",
   "execution_count": 174,
   "metadata": {},
   "outputs": [],
   "source": [
    "goodData = goodData_Raw.copy()"
   ]
  },
  {
   "cell_type": "code",
   "execution_count": 175,
   "metadata": {},
   "outputs": [],
   "source": [
    "tempData = goodData\n",
    "for i in m:\n",
    "  for j in selectedMag:\n",
    "    for k in [1,2]:\n",
    "      Rk = 1/goodData[goodData[\"mag\"] >= j][\"gaps\"].mean()\n",
    "      # We select the indices of the rows that are below the threshold\n",
    "      indexTemp = goodData[(goodData.mag >= j) & (goodData.gaps*Rk <= i)].index.tolist()\n",
    "      # Normalize the gap by multiplying the constant Rk\n",
    "      goodData[\"gaps\"] = np.where((goodData.mag >= j) & (goodData.gaps*Rk > i), goodData[\"gaps\"]*Rk, goodData[\"gaps\"])\n",
    "      # Drop the entries below the threshold\n",
    "      goodData.drop(indexTemp, inplace=True)      \n",
    " \n",
    "  for j in range(len(selectedMag)):\n",
    "    # Create a temporal list to store the data to be included in table1\n",
    "    # It contains the magnitude, threshold, number of events\n",
    "    insertTemp = [\"M >= \"+ str(selectedMag[j]), i, goodData[goodData.mag >= selectedMag[j]].shape[0]]\n",
    "    temp = 0\n",
    "    for k in range(len(selectedMag)):\n",
    "      temp = stats.ks_2samp(np.log(goodData[goodData.mag >= selectedMag[j]][\"gaps\"]), np.log(goodData[goodData.mag >= selectedMag[k]][\"gaps\"]))\n",
    "      if k > j :\n",
    "        insertTemp.append(str(round(temp[1],3)))\n",
    "      elif j > k:\n",
    "        insertTemp.append(str(round(temp[0],3)))\n",
    "      else:\n",
    "        insertTemp.append(\"-\")\n",
    "    \n",
    "    insertTemp = dict(zip(table1.columns.tolist(),insertTemp))\n",
    "    table1 = table1.append(insertTemp, ignore_index = True)\n",
    "    if i == 0.01 :\n",
    "      #goodData = goodData_Raw.copy()\n",
    "      goodData = tempData"
   ]
  },
  {
   "cell_type": "code",
   "execution_count": 176,
   "metadata": {},
   "outputs": [
    {
     "data": {
      "text/html": [
       "<div>\n",
       "<style scoped>\n",
       "    .dataframe tbody tr th:only-of-type {\n",
       "        vertical-align: middle;\n",
       "    }\n",
       "\n",
       "    .dataframe tbody tr th {\n",
       "        vertical-align: top;\n",
       "    }\n",
       "\n",
       "    .dataframe thead th {\n",
       "        text-align: right;\n",
       "    }\n",
       "</style>\n",
       "<table border=\"1\" class=\"dataframe\">\n",
       "  <thead>\n",
       "    <tr style=\"text-align: right;\">\n",
       "      <th></th>\n",
       "      <th>mag</th>\n",
       "      <th>m</th>\n",
       "      <th>N</th>\n",
       "      <th>2</th>\n",
       "      <th>2.5</th>\n",
       "      <th>3</th>\n",
       "      <th>3.5</th>\n",
       "      <th>4</th>\n",
       "    </tr>\n",
       "  </thead>\n",
       "  <tbody>\n",
       "    <tr>\n",
       "      <th>0</th>\n",
       "      <td>M &gt;= 2</td>\n",
       "      <td>0.010</td>\n",
       "      <td>17950</td>\n",
       "      <td>-</td>\n",
       "      <td>0.274</td>\n",
       "      <td>0.097</td>\n",
       "      <td>0.031</td>\n",
       "      <td>0.096</td>\n",
       "    </tr>\n",
       "    <tr>\n",
       "      <th>1</th>\n",
       "      <td>M &gt;= 2.5</td>\n",
       "      <td>0.010</td>\n",
       "      <td>5376</td>\n",
       "      <td>0.015</td>\n",
       "      <td>-</td>\n",
       "      <td>1.0</td>\n",
       "      <td>0.107</td>\n",
       "      <td>0.132</td>\n",
       "    </tr>\n",
       "    <tr>\n",
       "      <th>2</th>\n",
       "      <td>M &gt;= 3</td>\n",
       "      <td>0.010</td>\n",
       "      <td>1347</td>\n",
       "      <td>0.035</td>\n",
       "      <td>0.026</td>\n",
       "      <td>-</td>\n",
       "      <td>0.249</td>\n",
       "      <td>0.173</td>\n",
       "    </tr>\n",
       "    <tr>\n",
       "      <th>3</th>\n",
       "      <td>M &gt;= 3.5</td>\n",
       "      <td>0.010</td>\n",
       "      <td>388</td>\n",
       "      <td>0.074</td>\n",
       "      <td>0.063</td>\n",
       "      <td>0.058</td>\n",
       "      <td>-</td>\n",
       "      <td>0.941</td>\n",
       "    </tr>\n",
       "    <tr>\n",
       "      <th>4</th>\n",
       "      <td>M &gt;= 4</td>\n",
       "      <td>0.010</td>\n",
       "      <td>109</td>\n",
       "      <td>0.118</td>\n",
       "      <td>0.111</td>\n",
       "      <td>0.108</td>\n",
       "      <td>0.055</td>\n",
       "      <td>-</td>\n",
       "    </tr>\n",
       "    <tr>\n",
       "      <th>5</th>\n",
       "      <td>M &gt;= 2</td>\n",
       "      <td>0.001</td>\n",
       "      <td>17950</td>\n",
       "      <td>-</td>\n",
       "      <td>0.431</td>\n",
       "      <td>0.296</td>\n",
       "      <td>0.089</td>\n",
       "      <td>0.104</td>\n",
       "    </tr>\n",
       "    <tr>\n",
       "      <th>6</th>\n",
       "      <td>M &gt;= 2.5</td>\n",
       "      <td>0.001</td>\n",
       "      <td>5376</td>\n",
       "      <td>0.014</td>\n",
       "      <td>-</td>\n",
       "      <td>1.0</td>\n",
       "      <td>0.139</td>\n",
       "      <td>0.121</td>\n",
       "    </tr>\n",
       "    <tr>\n",
       "      <th>7</th>\n",
       "      <td>M &gt;= 3</td>\n",
       "      <td>0.001</td>\n",
       "      <td>1347</td>\n",
       "      <td>0.028</td>\n",
       "      <td>0.022</td>\n",
       "      <td>-</td>\n",
       "      <td>0.218</td>\n",
       "      <td>0.141</td>\n",
       "    </tr>\n",
       "    <tr>\n",
       "      <th>8</th>\n",
       "      <td>M &gt;= 3.5</td>\n",
       "      <td>0.001</td>\n",
       "      <td>388</td>\n",
       "      <td>0.064</td>\n",
       "      <td>0.06</td>\n",
       "      <td>0.06</td>\n",
       "      <td>-</td>\n",
       "      <td>0.867</td>\n",
       "    </tr>\n",
       "    <tr>\n",
       "      <th>9</th>\n",
       "      <td>M &gt;= 4</td>\n",
       "      <td>0.001</td>\n",
       "      <td>109</td>\n",
       "      <td>0.117</td>\n",
       "      <td>0.113</td>\n",
       "      <td>0.113</td>\n",
       "      <td>0.063</td>\n",
       "      <td>-</td>\n",
       "    </tr>\n",
       "  </tbody>\n",
       "</table>\n",
       "</div>"
      ],
      "text/plain": [
       "        mag      m      N      2    2.5      3    3.5      4\n",
       "0    M >= 2  0.010  17950      -  0.274  0.097  0.031  0.096\n",
       "1  M >= 2.5  0.010   5376  0.015      -    1.0  0.107  0.132\n",
       "2    M >= 3  0.010   1347  0.035  0.026      -  0.249  0.173\n",
       "3  M >= 3.5  0.010    388  0.074  0.063  0.058      -  0.941\n",
       "4    M >= 4  0.010    109  0.118  0.111  0.108  0.055      -\n",
       "5    M >= 2  0.001  17950      -  0.431  0.296  0.089  0.104\n",
       "6  M >= 2.5  0.001   5376  0.014      -    1.0  0.139  0.121\n",
       "7    M >= 3  0.001   1347  0.028  0.022      -  0.218  0.141\n",
       "8  M >= 3.5  0.001    388  0.064   0.06   0.06      -  0.867\n",
       "9    M >= 4  0.001    109  0.117  0.113  0.113  0.063      -"
      ]
     },
     "execution_count": 176,
     "metadata": {},
     "output_type": "execute_result"
    }
   ],
   "source": [
    "table1"
   ]
  },
  {
   "cell_type": "markdown",
   "metadata": {
    "id": "41fYP-QbjvFp"
   },
   "source": [
    "Write table caption here- describing k-s test results, p-values"
   ]
  },
  {
   "cell_type": "markdown",
   "metadata": {
    "id": "ocy5Fd1rdmlX"
   },
   "source": [
    "Let's check that in fact we normalized the dataset\n"
   ]
  },
  {
   "cell_type": "code",
   "execution_count": 46,
   "metadata": {
    "colab": {
     "base_uri": "https://localhost:8080/",
     "height": 206
    },
    "id": "ZWovATniJ9gI",
    "outputId": "bfff8201-4d3e-4bb6-a1f3-edfacb6f031d"
   },
   "outputs": [
    {
     "data": {
      "text/html": [
       "<div>\n",
       "<style scoped>\n",
       "    .dataframe tbody tr th:only-of-type {\n",
       "        vertical-align: middle;\n",
       "    }\n",
       "\n",
       "    .dataframe tbody tr th {\n",
       "        vertical-align: top;\n",
       "    }\n",
       "\n",
       "    .dataframe thead th {\n",
       "        text-align: right;\n",
       "    }\n",
       "</style>\n",
       "<table border=\"1\" class=\"dataframe\">\n",
       "  <thead>\n",
       "    <tr style=\"text-align: right;\">\n",
       "      <th></th>\n",
       "      <th>date</th>\n",
       "      <th>time</th>\n",
       "      <th>mag</th>\n",
       "      <th>datetime</th>\n",
       "      <th>dts</th>\n",
       "      <th>gaps</th>\n",
       "    </tr>\n",
       "  </thead>\n",
       "  <tbody>\n",
       "    <tr>\n",
       "      <th>0</th>\n",
       "      <td>1984/01/01</td>\n",
       "      <td>05:31:34.16</td>\n",
       "      <td>2.12</td>\n",
       "      <td>1984-01-01 05:31:34.160</td>\n",
       "      <td>0 days 04:00:36.640000</td>\n",
       "      <td>0.929297</td>\n",
       "    </tr>\n",
       "    <tr>\n",
       "      <th>1</th>\n",
       "      <td>1984/01/01</td>\n",
       "      <td>06:59:05.14</td>\n",
       "      <td>2.43</td>\n",
       "      <td>1984-01-01 06:59:05.140</td>\n",
       "      <td>0 days 01:27:30.980000</td>\n",
       "      <td>0.338009</td>\n",
       "    </tr>\n",
       "    <tr>\n",
       "      <th>2</th>\n",
       "      <td>1984/01/01</td>\n",
       "      <td>11:10:25.29</td>\n",
       "      <td>2.07</td>\n",
       "      <td>1984-01-01 11:10:25.290</td>\n",
       "      <td>0 days 04:11:20.150000</td>\n",
       "      <td>0.970720</td>\n",
       "    </tr>\n",
       "    <tr>\n",
       "      <th>3</th>\n",
       "      <td>1984/01/01</td>\n",
       "      <td>19:38:19.79</td>\n",
       "      <td>2.13</td>\n",
       "      <td>1984-01-01 19:38:19.790</td>\n",
       "      <td>0 days 08:27:54.500000</td>\n",
       "      <td>1.961665</td>\n",
       "    </tr>\n",
       "    <tr>\n",
       "      <th>5</th>\n",
       "      <td>1984/01/01</td>\n",
       "      <td>20:19:47.21</td>\n",
       "      <td>2.02</td>\n",
       "      <td>1984-01-01 20:19:47.210</td>\n",
       "      <td>0 days 00:40:27.540000</td>\n",
       "      <td>0.156262</td>\n",
       "    </tr>\n",
       "  </tbody>\n",
       "</table>\n",
       "</div>"
=======
      "cell_type": "code",
      "metadata": {
        "colab": {
          "base_uri": "https://localhost:8080/",
          "height": 206
        },
        "id": "ZWovATniJ9gI",
        "outputId": "a51d635b-a068-4a65-d4c2-c0541df5d7d6"
      },
      "source": [
        "goodData.head()"
      ],
      "execution_count": 45,
      "outputs": [
        {
          "output_type": "execute_result",
          "data": {
            "text/html": [
              "<div>\n",
              "<style scoped>\n",
              "    .dataframe tbody tr th:only-of-type {\n",
              "        vertical-align: middle;\n",
              "    }\n",
              "\n",
              "    .dataframe tbody tr th {\n",
              "        vertical-align: top;\n",
              "    }\n",
              "\n",
              "    .dataframe thead th {\n",
              "        text-align: right;\n",
              "    }\n",
              "</style>\n",
              "<table border=\"1\" class=\"dataframe\">\n",
              "  <thead>\n",
              "    <tr style=\"text-align: right;\">\n",
              "      <th></th>\n",
              "      <th>date</th>\n",
              "      <th>time</th>\n",
              "      <th>mag</th>\n",
              "      <th>datetime</th>\n",
              "      <th>dts</th>\n",
              "      <th>gaps</th>\n",
              "    </tr>\n",
              "  </thead>\n",
              "  <tbody>\n",
              "    <tr>\n",
              "      <th>0</th>\n",
              "      <td>1984/01/01</td>\n",
              "      <td>05:31:34.16</td>\n",
              "      <td>2.12</td>\n",
              "      <td>1984-01-01 05:31:34.160</td>\n",
              "      <td>0 days 04:00:36.640000</td>\n",
              "      <td>0.876403</td>\n",
              "    </tr>\n",
              "    <tr>\n",
              "      <th>1</th>\n",
              "      <td>1984/01/01</td>\n",
              "      <td>06:59:05.14</td>\n",
              "      <td>2.43</td>\n",
              "      <td>1984-01-01 06:59:05.140</td>\n",
              "      <td>0 days 01:27:30.980000</td>\n",
              "      <td>0.318771</td>\n",
              "    </tr>\n",
              "    <tr>\n",
              "      <th>2</th>\n",
              "      <td>1984/01/01</td>\n",
              "      <td>11:10:25.29</td>\n",
              "      <td>2.07</td>\n",
              "      <td>1984-01-01 11:10:25.290</td>\n",
              "      <td>0 days 04:11:20.150000</td>\n",
              "      <td>0.915469</td>\n",
              "    </tr>\n",
              "    <tr>\n",
              "      <th>3</th>\n",
              "      <td>1984/01/01</td>\n",
              "      <td>19:38:19.79</td>\n",
              "      <td>2.13</td>\n",
              "      <td>1984-01-01 19:38:19.790</td>\n",
              "      <td>0 days 08:27:54.500000</td>\n",
              "      <td>1.850012</td>\n",
              "    </tr>\n",
              "    <tr>\n",
              "      <th>5</th>\n",
              "      <td>1984/01/01</td>\n",
              "      <td>20:19:47.21</td>\n",
              "      <td>2.02</td>\n",
              "      <td>1984-01-01 20:19:47.210</td>\n",
              "      <td>0 days 00:40:27.540000</td>\n",
              "      <td>0.147368</td>\n",
              "    </tr>\n",
              "  </tbody>\n",
              "</table>\n",
              "</div>"
            ],
            "text/plain": [
              "         date         time  ...                    dts      gaps\n",
              "0  1984/01/01  05:31:34.16  ... 0 days 04:00:36.640000  0.876403\n",
              "1  1984/01/01  06:59:05.14  ... 0 days 01:27:30.980000  0.318771\n",
              "2  1984/01/01  11:10:25.29  ... 0 days 04:11:20.150000  0.915469\n",
              "3  1984/01/01  19:38:19.79  ... 0 days 08:27:54.500000  1.850012\n",
              "5  1984/01/01  20:19:47.21  ... 0 days 00:40:27.540000  0.147368\n",
              "\n",
              "[5 rows x 6 columns]"
            ]
          },
          "metadata": {},
          "execution_count": 45
        }
      ]
    },
    {
      "cell_type": "code",
      "metadata": {
        "colab": {
          "base_uri": "https://localhost:8080/",
          "height": 523
        },
        "id": "c1Dkq5hfEQD-",
        "outputId": "3f6b25dd-9959-4041-9d96-5e1c3daf5082"
      },
      "source": [
        "ax_prob = pl.figure(figsize = (10,6)).add_subplot(111)\n",
        "for i in selectedMag:\n",
        "  # Total numer of events with magnitude greater or equal than i\n",
        "  temp = goodData[goodData.mag >= i][\"gaps\"]\n",
        "  total = temp.shape[0]\n",
        "  print(\"total {}, mag {}\".format(total,i))\n",
        "  # Create an equally spaced interval to count the number of events\n",
        "  x_axis = np.linspace(temp.min(),temp.max(),1000)\n",
        "  y_axis = np.zeros(x_axis.size)\n",
        "  for j in range(x_axis.size):\n",
        "    y_axis[j] = temp[temp <= x_axis[j]].shape[0] / total\n",
        "  \n",
        "  ax_prob.plot(x_axis,y_axis,label=i)\n",
        "\n",
        "ax_prob.set_xscale('log')\n",
        "pl.title('Cumulative Probability Distributions',fontsize=20)\n",
        "pl.xlabel('Earthquake Intervals (logarithmic)')\n",
        "pl.ylabel('Cumulative Probability')\n",
        "pl.legend()"
      ],
      "execution_count": 46,
      "outputs": [
        {
          "output_type": "stream",
          "name": "stdout",
          "text": [
            "total 17950, mag 2\n",
            "total 5376, mag 2.5\n",
            "total 1347, mag 3\n",
            "total 388, mag 3.5\n",
            "total 109, mag 4\n"
          ]
        },
        {
          "output_type": "execute_result",
          "data": {
            "text/plain": [
              "<matplotlib.legend.Legend at 0x7f1f7022f410>"
            ]
          },
          "metadata": {},
          "execution_count": 46
        },
        {
          "output_type": "stream",
          "name": "stderr",
          "text": [
            "findfont: Font family ['[\"sans-serif\"]'] not found. Falling back to DejaVu Sans.\n"
          ]
        },
        {
          "output_type": "display_data",
          "data": {
            "image/png": "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\n",
            "text/plain": [
              "<Figure size 720x432 with 1 Axes>"
            ]
          },
          "metadata": {
            "needs_background": "light"
          }
        }
      ]
    },
    {
      "cell_type": "markdown",
      "metadata": {
        "id": "XLjAnzYVj3nO"
      },
      "source": [
        "Figure 3: Cumulative probability distributions for rescaled earthquake intervals with magnitude thresholds above 2, 2.5, 3, 3.5, and 4 and a rescaled minimum timing interval m = 0.01. The small vertical distances between the distributions graphically confirm results found in table 1, and support the scaling hypothesis. "
      ]
    },
    {
      "cell_type": "markdown",
      "metadata": {
        "id": "6y4wb6lEZsGV"
      },
      "source": [
        "Did you find any statistical significant differences between the distributions? What does it mean? Is your result identical to Correll's 2018? Why or why not? **Discuss!**"
      ]
    },
    {
      "cell_type": "markdown",
      "metadata": {
        "id": "3K8nyjGhmHiU"
      },
      "source": [
        "In this study, we use a 3-sigma threshold - p-value of 0.0013. The results in table 1 m=0.01 range from 0.031 to 0.941, 0.089 to 0.867 using m=0.001, and the majority of p-values are over 0.1. The results in Figure 3 reinforce these results graphically. Therefore, we do not reach a p-value below the 3-sigma threshold, do not find a statistically significant difference between the distributions, and cannot reject the null hypothesis. This means that we cannot reject the scaling hypothesis.\n",
        "\n",
        "The values found in table 1 are not identical to Correll's results, but show a similar range of p-values. This could be due to a slightly different region in southern California that was selected, or some slight differences in data selection / numerical calculation methods. The largest difference is likely a slightly different region of interest."
      ]
    },
    {
      "cell_type": "markdown",
      "metadata": {
        "id": "8bQwtZi4Z0pi"
      },
      "source": [
        "### \"extra credits\"\n",
        "\n",
        "**How could you _force_ a significant result?**\n",
        "Organize your result for different magnitude threshold in a numpy array (it should be a 5x5 array) for both cutoffs (0.01 and 0.001). Each of these arrays should contain the p-value for the pair of distributions i,j in cell \\[i\\]\\[j\\] and \\[j\\]\\[i\\]. Use ```imshow``` to visualize this 2D data. FIrst visualize the matrix itself as done below."
      ]
    },
    {
      "cell_type": "code",
      "metadata": {
        "ExecuteTime": {
          "end_time": "2019-09-09T02:02:18.672458Z",
          "start_time": "2019-09-09T02:02:18.553137Z"
        },
        "id": "mqQSdpVEhXs5"
      },
      "source": [
        "# your code here\n",
        "        \n",
        "pl.imshow((ks_001));\n",
        "pl.axis('off')\n",
        "cb = pl.colorbar()\n",
        "cb.ax.set_ylabel(r'$p$-value')\n",
        "pl.title(\"KS test results\");\n",
        "#add a caption"
>>>>>>> a9ee45e270bd48e2ad0c87ce5edcea609c658168
      ],
      "text/plain": [
       "         date         time   mag                datetime  \\\n",
       "0  1984/01/01  05:31:34.16  2.12 1984-01-01 05:31:34.160   \n",
       "1  1984/01/01  06:59:05.14  2.43 1984-01-01 06:59:05.140   \n",
       "2  1984/01/01  11:10:25.29  2.07 1984-01-01 11:10:25.290   \n",
       "3  1984/01/01  19:38:19.79  2.13 1984-01-01 19:38:19.790   \n",
       "5  1984/01/01  20:19:47.21  2.02 1984-01-01 20:19:47.210   \n",
       "\n",
       "                     dts      gaps  \n",
       "0 0 days 04:00:36.640000  0.929297  \n",
       "1 0 days 01:27:30.980000  0.338009  \n",
       "2 0 days 04:11:20.150000  0.970720  \n",
       "3 0 days 08:27:54.500000  1.961665  \n",
       "5 0 days 00:40:27.540000  0.156262  "
      ]
     },
     "execution_count": 46,
     "metadata": {},
     "output_type": "execute_result"
    }
   ],
   "source": [
    "goodData.head()"
   ]
  },
  {
   "cell_type": "code",
   "execution_count": 48,
   "metadata": {
    "colab": {
     "base_uri": "https://localhost:8080/",
     "height": 523
    },
    "id": "c1Dkq5hfEQD-",
    "outputId": "98073e3a-db13-48c5-fd84-017c590dccdd"
   },
   "outputs": [
    {
     "name": "stdout",
     "output_type": "stream",
     "text": [
      "total 17970, mag 2\n",
      "total 5384, mag 2.5\n",
      "total 1350, mag 3\n",
      "total 391, mag 3.5\n",
      "total 111, mag 4\n"
     ]
    },
    {
     "data": {
      "text/plain": [
       "<matplotlib.legend.Legend at 0x7fb749d02438>"
      ]
     },
     "execution_count": 48,
     "metadata": {},
     "output_type": "execute_result"
    },
    {
     "data": {
      "image/png": "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\n",
      "text/plain": [
       "<Figure size 720x432 with 1 Axes>"
      ]
     },
     "metadata": {
      "needs_background": "light"
     },
     "output_type": "display_data"
    }
   ],
   "source": [
    "ax_prob = pl.figure(figsize = (10,6)).add_subplot(111)\n",
    "for i in selectedMag:\n",
    "  # Total numer of events with magnitude greater or equal than i\n",
    "  temp = goodData[goodData.mag >= i][\"gaps\"]\n",
    "  total = temp.shape[0]\n",
    "  print(\"total {}, mag {}\".format(total,i))\n",
    "  # Create an equally spaced interval to count the number of events\n",
    "  x_axis = np.linspace(temp.min(),temp.max(),1000)\n",
    "  y_axis = np.zeros(x_axis.size)\n",
    "  for j in range(x_axis.size):\n",
    "    y_axis[j] = temp[temp <= x_axis[j]].shape[0] / total\n",
    "  \n",
    "  ax_prob.plot(x_axis,y_axis,label=i)\n",
    "\n",
    "ax_prob.set_xscale('log')\n",
    "pl.title('Cumulative Probability Distributions',fontsize=20)\n",
    "pl.xlabel('Earthquake Intervals (logarithmic)')\n",
    "pl.ylabel('Cumulative Probability')\n",
    "pl.legend()"
   ]
  },
  {
   "cell_type": "markdown",
   "metadata": {
    "id": "XLjAnzYVj3nO"
   },
   "source": [
    "Write caption of figure here - confirming table results graphically."
   ]
  },
  {
   "cell_type": "markdown",
   "metadata": {
    "id": "6y4wb6lEZsGV"
   },
   "source": [
    "Did you find any statistical significant differences between the distributions? What does it mean? Is your result identical to Correll's 2018? Why or why not? **Discuss!**"
   ]
  },
  {
   "cell_type": "markdown",
   "metadata": {
    "id": "8bQwtZi4Z0pi"
   },
   "source": [
    "### \"extra credits\"\n",
    "\n",
    "**How could you _force_ a significant result?**\n",
    "Organize your result for different magnitude threshold in a numpy array (it should be a 5x5 array) for both cutoffs (0.01 and 0.001). Each of these arrays should contain the p-value for the pair of distributions i,j in cell \\[i\\]\\[j\\] and \\[j\\]\\[i\\]. Use ```imshow``` to visualize this 2D data. FIrst visualize the matrix itself as done below."
   ]
  },
  {
   "cell_type": "code",
   "execution_count": 49,
   "metadata": {
    "ExecuteTime": {
     "end_time": "2019-09-09T02:02:18.672458Z",
     "start_time": "2019-09-09T02:02:18.553137Z"
    },
    "id": "mqQSdpVEhXs5"
   },
   "outputs": [
    {
     "ename": "NameError",
     "evalue": "name 'ks_001' is not defined",
     "output_type": "error",
     "traceback": [
      "\u001b[0;31m---------------------------------------------------------------------------\u001b[0m",
      "\u001b[0;31mNameError\u001b[0m                                 Traceback (most recent call last)",
      "\u001b[0;32m<ipython-input-49-a2c29d33d7b2>\u001b[0m in \u001b[0;36m<module>\u001b[0;34m\u001b[0m\n\u001b[1;32m      1\u001b[0m \u001b[0;31m# your code here\u001b[0m\u001b[0;34m\u001b[0m\u001b[0;34m\u001b[0m\u001b[0;34m\u001b[0m\u001b[0m\n\u001b[1;32m      2\u001b[0m \u001b[0;34m\u001b[0m\u001b[0m\n\u001b[0;32m----> 3\u001b[0;31m \u001b[0mpl\u001b[0m\u001b[0;34m.\u001b[0m\u001b[0mimshow\u001b[0m\u001b[0;34m(\u001b[0m\u001b[0;34m(\u001b[0m\u001b[0mks_001\u001b[0m\u001b[0;34m)\u001b[0m\u001b[0;34m)\u001b[0m\u001b[0;34m;\u001b[0m\u001b[0;34m\u001b[0m\u001b[0;34m\u001b[0m\u001b[0m\n\u001b[0m\u001b[1;32m      4\u001b[0m \u001b[0mpl\u001b[0m\u001b[0;34m.\u001b[0m\u001b[0maxis\u001b[0m\u001b[0;34m(\u001b[0m\u001b[0;34m'off'\u001b[0m\u001b[0;34m)\u001b[0m\u001b[0;34m\u001b[0m\u001b[0;34m\u001b[0m\u001b[0m\n\u001b[1;32m      5\u001b[0m \u001b[0mcb\u001b[0m \u001b[0;34m=\u001b[0m \u001b[0mpl\u001b[0m\u001b[0;34m.\u001b[0m\u001b[0mcolorbar\u001b[0m\u001b[0;34m(\u001b[0m\u001b[0;34m)\u001b[0m\u001b[0;34m\u001b[0m\u001b[0;34m\u001b[0m\u001b[0m\n",
      "\u001b[0;31mNameError\u001b[0m: name 'ks_001' is not defined"
     ]
    }
   ],
   "source": [
    "# your code here\n",
    "        \n",
    "pl.imshow((ks_001));\n",
    "pl.axis('off')\n",
    "cb = pl.colorbar()\n",
    "cb.ax.set_ylabel(r'$p$-value')\n",
    "pl.title(\"KS test results\");\n",
    "#add a caption"
   ]
  },
  {
   "cell_type": "markdown",
   "metadata": {
    "id": "tSJmSMCmmA3w"
   },
   "source": [
    "\n",
    "Now visualize the result as a matrix where the cells are white if the results is not statistically significant and red otherwise. \n",
    "After doing it fot the set alpha threshold, lower your alpha threshold so that at least one pair of distribution has a statistically significant difference. **Warning!! this is an _unethical and horrifying practice_! Once you chose your significance threshold you are never allowed to change it! Why? Discuss**"
   ]
  },
  {
   "cell_type": "markdown",
   "metadata": {
    "id": "txEYubwCcIXP"
   },
   "source": [
    "Redoing it for threshold 0001"
   ]
  }
 ],
 "metadata": {
  "colab": {
   "collapsed_sections": [
    "Uk3iBT7phXry",
    "M-h5uhgfhXr6",
    "dYP53BzDhXsG",
    "8bQwtZi4Z0pi"
   ],
   "include_colab_link": true,
   "name": "KS_earthquakes.ipynb",
   "provenance": []
  },
  "kernelspec": {
   "display_name": "Python 3",
   "language": "python",
   "name": "python3"
  },
  "language_info": {
   "codemirror_mode": {
    "name": "ipython",
    "version": 3
   },
   "file_extension": ".py",
   "mimetype": "text/x-python",
   "name": "python",
   "nbconvert_exporter": "python",
   "pygments_lexer": "ipython3",
   "version": "3.6.8"
  },
  "latex_envs": {
   "LaTeX_envs_menu_present": true,
   "autoclose": false,
   "autocomplete": true,
   "bibliofile": "biblio.bib",
   "cite_by": "apalike",
   "current_citInitial": 1,
   "eqLabelWithNumbers": true,
   "eqNumInitial": 1,
   "hotkeys": {
    "equation": "Ctrl-E",
    "itemize": "Ctrl-I"
   },
   "labels_anchors": false,
   "latex_user_defs": false,
   "report_style_numbering": false,
   "user_envs_cfg": false
  },
  "nbTranslate": {
   "displayLangs": [
    "*"
   ],
   "hotkey": "alt-t",
   "langInMainMenu": true,
   "sourceLang": "en",
   "targetLang": "fr",
   "useGoogleTranslate": true
  },
  "toc": {
   "base_numbering": 1,
   "nav_menu": {},
   "number_sections": true,
   "sideBar": true,
   "skip_h1_title": false,
   "title_cell": "Table of Contents",
   "title_sidebar": "Contents",
   "toc_cell": false,
   "toc_position": {},
   "toc_section_display": true,
   "toc_window_display": false
  }
 },
 "nbformat": 4,
 "nbformat_minor": 1
}
