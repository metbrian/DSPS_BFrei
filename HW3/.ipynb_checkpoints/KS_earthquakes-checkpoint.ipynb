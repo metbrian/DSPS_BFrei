{
 "cells": [
  {
   "cell_type": "markdown",
   "metadata": {
    "colab_type": "text",
    "id": "view-in-github"
   },
   "source": [
    "<a href=\"https://colab.research.google.com/github/metbrian/DSPS_BFrei/blob/main/HW3/KS_earthquakes.ipynb\" target=\"_parent\"><img src=\"https://colab.research.google.com/assets/colab-badge.svg\" alt=\"Open In Colab\"/></a>"
   ]
  },
  {
   "cell_type": "markdown",
   "metadata": {
    "id": "Uk3iBT7phXry"
   },
   "source": [
    "Created by FedericaBBianco @fedhere for DSPS/MLNPS\n",
    "# Kolmogorov Smirnoff test, application to earthquake data"
   ]
  },
  {
   "cell_type": "code",
   "execution_count": 2,
   "metadata": {
    "ExecuteTime": {
     "end_time": "2019-09-09T01:40:01.895798Z",
     "start_time": "2019-09-09T01:40:01.890474Z"
    },
    "colab": {
     "base_uri": "https://localhost:8080/"
    },
    "id": "LS78mdVthXrz",
    "outputId": "4d8e9ccc-42a2-4578-8fc2-21f791e5db87",
    "scrolled": true
   },
   "outputs": [
    {
     "name": "stdout",
     "output_type": "stream",
     "text": [
      "Populating the interactive namespace from numpy and matplotlib\n"
     ]
    }
   ],
   "source": [
    "#all the imports I needed\n",
    "from __future__ import print_function, division\n",
    "import pandas as pd\n",
    "import pylab as pl\n",
    "import scipy as sp\n",
    "from scipy import stats\n",
    "%pylab inline\n",
    "pl.style.use(\"https://raw.githubusercontent.com/fedhere/DSPS/master/fbb.mplstyle\")"
   ]
  },
  {
   "cell_type": "markdown",
   "metadata": {
    "id": "SvIJHRyuhXr2"
   },
   "source": [
    "This homework asks you to reproduce the work in [Corral 2018](https://arxiv.org/pdf/0910.0055.pdf) which is well described, but not \"reproducible\". \n",
    "Corral 2018 uses a K-S test to show that at different magnitude scales the time gaps between earthquakes follows the same distribution. If true, this indicates that there is a consistent scaling law. \n",
    "\n",
    "The argument is a little convoluted, but it is a somewhat innovative use of the test. Corall compares the time gap between earthquakes  greater than a certain magnitude threshold with the time gaps between earthquakes above a different threshold, and finds no differences.\n",
    "\n",
    "Remind yourself exactly what the K-S test is about :\n",
    "\n",
    "    1 What is the test's Null Hypothsis that the K-S test tests?\n"
   ]
  },
  {
   "cell_type": "markdown",
   "metadata": {
    "id": "y8DJjYrthXr3"
   },
   "source": [
    "The Null hypothesis for this study is that the timing bewteen earthquakes is related to the magnitude of the earthquakes through a scaling law.\n",
    "\n",
    "\n",
    "\n"
   ]
  },
  {
   "cell_type": "markdown",
   "metadata": {
    "id": "V8T9XH7nhXr3"
   },
   "source": [
    "    2 What is the \"statistic\" or \"pivotal quantity\" that the test uses?\n",
    "    \n"
   ]
  },
  {
   "cell_type": "markdown",
   "metadata": {
    "ExecuteTime": {
     "end_time": "2019-09-08T21:14:09.757045Z",
     "start_time": "2019-09-08T21:14:09.753882Z"
    },
    "id": "jSSktfhAhXr4"
   },
   "source": [
    "The pivotal quantity is the maximum vertical distance between cumulative distributions of interval times between earthquakes of different magnitude-thresholds.\n",
    "\n",
    "\n"
   ]
  },
  {
   "cell_type": "markdown",
   "metadata": {
    "ExecuteTime": {
     "end_time": "2019-09-08T21:14:43.709157Z",
     "start_time": "2019-09-08T21:14:43.704734Z"
    },
    "id": "IYoQgG1BhXr4"
   },
   "source": [
    "    3 What does the probability distribution of this statistic depend on? \n",
    "    \n",
    "   \n"
   ]
  },
  {
   "cell_type": "markdown",
   "metadata": {
    "id": "ak74uTIrhXr5"
   },
   "source": [
    "The probability distribution depends on a few factors including: earthquake magnitude threshold, and minimum threshold timing between events. \n",
    "\n",
    "    "
   ]
  },
  {
   "cell_type": "markdown",
   "metadata": {
    "id": "M-h5uhgfhXr6"
   },
   "source": [
    "# Data Retrival"
   ]
  },
  {
   "cell_type": "markdown",
   "metadata": {
    "id": "7TW_8XaNhXr6"
   },
   "source": [
    "The first reason why the paper is not techincally _reproducible_ is that, while a link is provided to retrieve the data, the link is dead. This happens often. Services like [Zenodo](https://zenodo.org/) or journals that serve data provide some insurance against this but unfortunately the standards are not strict. "
   ]
  },
  {
   "cell_type": "markdown",
   "metadata": {
    "id": "Bt6gDmQJhXr7"
   },
   "source": [
    "You can retrieve the data yourself from [this website](http://service.scedc.caltech.edu/eq-catalogs/poly.php). Think about what setting up data like this means for reproducibility. Did the author comply to reproducibility standards?__ Make sure the number of entries in your final dataset is similar to that of the authors. I got 70798, instead of 77000. 10% off, which I deem close enough. You should get something similar. Use the map in the paper to determine the region of interest. Call the file earthquakes_\\<firstinitialLastname\\>.csv and upload it to your github repository. Read it your file, instead of mine as instructed below. If you are getting weird results compare to what I got, go back and check how the files differ."
   ]
  },
  {
   "cell_type": "markdown",
   "metadata": {
    "id": "eCiLW1AuhXr7"
   },
   "source": [
    "# Data Ingestion"
   ]
  },
  {
   "cell_type": "markdown",
   "metadata": {
    "id": "FH0X7d9_hXr8"
   },
   "source": [
    "## read in data"
   ]
  },
  {
   "cell_type": "markdown",
   "metadata": {
    "id": "XbMPVaK-hXr9"
   },
   "source": [
    "I saved the data in a file called \"earthquakes.csv\", where ```csv``` stands for \"comma separated file\". [This file format](https://www.howtogeek.com/348960/what-is-a-csv-file-and-how-do-i-open-it/) requires different entries in a row to be separated by commas alone (no space) and for commas to be used in quote if they are not intended to separate entries. \n",
    "\n",
    "```\n",
    "a,b,c\n",
    "d,e,f\n",
    "g,\"h,2\",i\n",
    "```\n",
    "The data is uploaded on the  github homework repository but to read it in you will need to get the link to the *raw file*: the link to the file earthquakes.csv which is in my GitHub repository https://github.com/fedhere/MLPNS2021/tree/main/HW2_NHRT takes you to an ```html``` page that includes the content of the file, but you want to isolate the content of the file itself: the _raw file_. Pay attention to this: from the next time I will not give you the exact link, I will just point you to the file and you will have to find the link to the raw data from there. (remember to use the \"raw\" link)\n",
    "\n",
    "The data can be read effectively using the _pandas_ python package as ```pandas.read_csv(<file name or URL>)```. \n",
    "\n",
    "However, I did not format the data correctly, according to the csv extension requirement. This happens all the time. Look at the file and use the pandas documentation to figure out how to read it with ```pd.read_csv()```"
   ]
  },
  {
   "cell_type": "code",
   "execution_count": 3,
   "metadata": {
    "ExecuteTime": {
     "end_time": "2019-09-09T01:40:02.638703Z",
     "start_time": "2019-09-09T01:40:02.454643Z"
    },
    "id": "hOEZafxahXr9"
   },
   "outputs": [],
   "source": [
    "#your code here...\n",
    "eqdata = pd.read_csv(\"https://raw.githubusercontent.com/fedhere/DSPS_FBianco/master/HW3/earthquakes.csv\",sep=\" \")"
   ]
  },
  {
   "cell_type": "markdown",
   "metadata": {
    "id": "r0IW9m4vhXr_"
   },
   "source": [
    "running the following lines of code should give you the same result as mine if you used the file I provided (467 students), and qualitatively  similar if you are using your own data (667 students)"
   ]
  },
  {
   "cell_type": "code",
   "execution_count": 4,
   "metadata": {
    "ExecuteTime": {
     "end_time": "2019-09-09T01:40:02.643428Z",
     "start_time": "2019-09-09T01:40:02.640847Z"
    },
    "colab": {
     "base_uri": "https://localhost:8080/"
    },
    "id": "uphAqv5ZhXsA",
    "outputId": "4ca6c7b7-415f-4356-ef3b-ba830bd35968"
   },
   "outputs": [
    {
     "data": {
      "text/plain": [
       "(70798, 34)"
      ]
     },
     "execution_count": 4,
     "metadata": {},
     "output_type": "execute_result"
    }
   ],
   "source": [
    "eqdata.shape"
   ]
  },
  {
   "cell_type": "code",
   "execution_count": 5,
   "metadata": {
    "colab": {
     "base_uri": "https://localhost:8080/",
     "height": 241
    },
    "id": "s8ZZSPG6ipUu",
    "outputId": "a8fb77d7-a1e4-4dee-bae1-ac884485d1cd"
   },
   "outputs": [
    {
     "data": {
      "text/html": [
       "<div>\n",
       "<style scoped>\n",
       "    .dataframe tbody tr th:only-of-type {\n",
       "        vertical-align: middle;\n",
       "    }\n",
       "\n",
       "    .dataframe tbody tr th {\n",
       "        vertical-align: top;\n",
       "    }\n",
       "\n",
       "    .dataframe thead th {\n",
       "        text-align: right;\n",
       "    }\n",
       "</style>\n",
       "<table border=\"1\" class=\"dataframe\">\n",
       "  <thead>\n",
       "    <tr style=\"text-align: right;\">\n",
       "      <th></th>\n",
       "      <th>#YYY/MM/DD</th>\n",
       "      <th>HH:mm:SS.ss</th>\n",
       "      <th>ET</th>\n",
       "      <th>GT</th>\n",
       "      <th>MAG</th>\n",
       "      <th>Unnamed: 5</th>\n",
       "      <th>M</th>\n",
       "      <th>Unnamed: 7</th>\n",
       "      <th>Unnamed: 8</th>\n",
       "      <th>Unnamed: 9</th>\n",
       "      <th>...</th>\n",
       "      <th>Q</th>\n",
       "      <th>Unnamed: 25</th>\n",
       "      <th>EVID</th>\n",
       "      <th>Unnamed: 27</th>\n",
       "      <th>Unnamed: 28</th>\n",
       "      <th>Unnamed: 29</th>\n",
       "      <th>Unnamed: 30</th>\n",
       "      <th>Unnamed: 31</th>\n",
       "      <th>NPH</th>\n",
       "      <th>NGRM</th>\n",
       "    </tr>\n",
       "  </thead>\n",
       "  <tbody>\n",
       "    <tr>\n",
       "      <th>0</th>\n",
       "      <td>1984/01/01</td>\n",
       "      <td>01:30:57.52</td>\n",
       "      <td>eq</td>\n",
       "      <td>NaN</td>\n",
       "      <td>l</td>\n",
       "      <td>2.02</td>\n",
       "      <td>c</td>\n",
       "      <td>NaN</td>\n",
       "      <td>NaN</td>\n",
       "      <td>33.246</td>\n",
       "      <td>...</td>\n",
       "      <td>17.0</td>\n",
       "      <td>NaN</td>\n",
       "      <td>NaN</td>\n",
       "      <td>NaN</td>\n",
       "      <td>NaN</td>\n",
       "      <td>NaN</td>\n",
       "      <td>NaN</td>\n",
       "      <td>NaN</td>\n",
       "      <td>NaN</td>\n",
       "      <td>NaN</td>\n",
       "    </tr>\n",
       "    <tr>\n",
       "      <th>1</th>\n",
       "      <td>1984/01/01</td>\n",
       "      <td>05:31:34.16</td>\n",
       "      <td>eq</td>\n",
       "      <td>NaN</td>\n",
       "      <td>l</td>\n",
       "      <td>2.12</td>\n",
       "      <td>c</td>\n",
       "      <td>NaN</td>\n",
       "      <td>NaN</td>\n",
       "      <td>32.945</td>\n",
       "      <td>...</td>\n",
       "      <td>42.0</td>\n",
       "      <td>NaN</td>\n",
       "      <td>NaN</td>\n",
       "      <td>NaN</td>\n",
       "      <td>NaN</td>\n",
       "      <td>NaN</td>\n",
       "      <td>NaN</td>\n",
       "      <td>NaN</td>\n",
       "      <td>NaN</td>\n",
       "      <td>NaN</td>\n",
       "    </tr>\n",
       "    <tr>\n",
       "      <th>2</th>\n",
       "      <td>1984/01/01</td>\n",
       "      <td>06:59:05.14</td>\n",
       "      <td>eq</td>\n",
       "      <td>NaN</td>\n",
       "      <td>l</td>\n",
       "      <td>2.43</td>\n",
       "      <td>c</td>\n",
       "      <td>NaN</td>\n",
       "      <td>NaN</td>\n",
       "      <td>33.343</td>\n",
       "      <td>...</td>\n",
       "      <td>30.0</td>\n",
       "      <td>NaN</td>\n",
       "      <td>NaN</td>\n",
       "      <td>NaN</td>\n",
       "      <td>NaN</td>\n",
       "      <td>NaN</td>\n",
       "      <td>NaN</td>\n",
       "      <td>NaN</td>\n",
       "      <td>NaN</td>\n",
       "      <td>NaN</td>\n",
       "    </tr>\n",
       "    <tr>\n",
       "      <th>3</th>\n",
       "      <td>1984/01/01</td>\n",
       "      <td>11:10:25.29</td>\n",
       "      <td>eq</td>\n",
       "      <td>NaN</td>\n",
       "      <td>l</td>\n",
       "      <td>2.07</td>\n",
       "      <td>c</td>\n",
       "      <td>NaN</td>\n",
       "      <td>NaN</td>\n",
       "      <td>33.668</td>\n",
       "      <td>...</td>\n",
       "      <td>NaN</td>\n",
       "      <td>NaN</td>\n",
       "      <td>NaN</td>\n",
       "      <td>NaN</td>\n",
       "      <td>NaN</td>\n",
       "      <td>NaN</td>\n",
       "      <td>NaN</td>\n",
       "      <td>NaN</td>\n",
       "      <td>NaN</td>\n",
       "      <td>NaN</td>\n",
       "    </tr>\n",
       "    <tr>\n",
       "      <th>4</th>\n",
       "      <td>1984/01/01</td>\n",
       "      <td>19:38:19.79</td>\n",
       "      <td>eq</td>\n",
       "      <td>NaN</td>\n",
       "      <td>l</td>\n",
       "      <td>2.13</td>\n",
       "      <td>c</td>\n",
       "      <td>NaN</td>\n",
       "      <td>NaN</td>\n",
       "      <td>33.963</td>\n",
       "      <td>...</td>\n",
       "      <td>49.0</td>\n",
       "      <td>NaN</td>\n",
       "      <td>NaN</td>\n",
       "      <td>NaN</td>\n",
       "      <td>NaN</td>\n",
       "      <td>NaN</td>\n",
       "      <td>NaN</td>\n",
       "      <td>NaN</td>\n",
       "      <td>NaN</td>\n",
       "      <td>NaN</td>\n",
       "    </tr>\n",
       "  </tbody>\n",
       "</table>\n",
       "<p>5 rows × 34 columns</p>\n",
       "</div>"
      ],
      "text/plain": [
       "   #YYY/MM/DD  HH:mm:SS.ss  ET  GT MAG  Unnamed: 5  M  Unnamed: 7  Unnamed: 8  \\\n",
       "0  1984/01/01  01:30:57.52  eq NaN   l        2.02  c         NaN         NaN   \n",
       "1  1984/01/01  05:31:34.16  eq NaN   l        2.12  c         NaN         NaN   \n",
       "2  1984/01/01  06:59:05.14  eq NaN   l        2.43  c         NaN         NaN   \n",
       "3  1984/01/01  11:10:25.29  eq NaN   l        2.07  c         NaN         NaN   \n",
       "4  1984/01/01  19:38:19.79  eq NaN   l        2.13  c         NaN         NaN   \n",
       "\n",
       "   Unnamed: 9  ...     Q  Unnamed: 25  EVID Unnamed: 27 Unnamed: 28  \\\n",
       "0      33.246  ...  17.0          NaN   NaN         NaN         NaN   \n",
       "1      32.945  ...  42.0          NaN   NaN         NaN         NaN   \n",
       "2      33.343  ...  30.0          NaN   NaN         NaN         NaN   \n",
       "3      33.668  ...   NaN          NaN   NaN         NaN         NaN   \n",
       "4      33.963  ...  49.0          NaN   NaN         NaN         NaN   \n",
       "\n",
       "   Unnamed: 29  Unnamed: 30  Unnamed: 31  NPH  NGRM  \n",
       "0          NaN          NaN          NaN  NaN   NaN  \n",
       "1          NaN          NaN          NaN  NaN   NaN  \n",
       "2          NaN          NaN          NaN  NaN   NaN  \n",
       "3          NaN          NaN          NaN  NaN   NaN  \n",
       "4          NaN          NaN          NaN  NaN   NaN  \n",
       "\n",
       "[5 rows x 34 columns]"
      ]
     },
     "execution_count": 5,
     "metadata": {},
     "output_type": "execute_result"
    }
   ],
   "source": [
    "eqdata.head()"
   ]
  },
  {
   "cell_type": "code",
   "execution_count": 6,
   "metadata": {
    "ExecuteTime": {
     "end_time": "2019-09-09T01:40:02.759957Z",
     "start_time": "2019-09-09T01:40:02.662327Z"
    },
    "colab": {
     "base_uri": "https://localhost:8080/",
     "height": 334
    },
    "id": "405C-Y8_hXsD",
    "outputId": "7f96c07e-79e9-4d41-c571-5154b346e6f0"
   },
   "outputs": [
    {
     "data": {
      "text/html": [
       "<div>\n",
       "<style scoped>\n",
       "    .dataframe tbody tr th:only-of-type {\n",
       "        vertical-align: middle;\n",
       "    }\n",
       "\n",
       "    .dataframe tbody tr th {\n",
       "        vertical-align: top;\n",
       "    }\n",
       "\n",
       "    .dataframe thead th {\n",
       "        text-align: right;\n",
       "    }\n",
       "</style>\n",
       "<table border=\"1\" class=\"dataframe\">\n",
       "  <thead>\n",
       "    <tr style=\"text-align: right;\">\n",
       "      <th></th>\n",
       "      <th>GT</th>\n",
       "      <th>Unnamed: 5</th>\n",
       "      <th>Unnamed: 7</th>\n",
       "      <th>Unnamed: 8</th>\n",
       "      <th>Unnamed: 9</th>\n",
       "      <th>LAT</th>\n",
       "      <th>Unnamed: 11</th>\n",
       "      <th>Unnamed: 12</th>\n",
       "      <th>Unnamed: 15</th>\n",
       "      <th>Unnamed: 16</th>\n",
       "      <th>...</th>\n",
       "      <th>Q</th>\n",
       "      <th>Unnamed: 25</th>\n",
       "      <th>EVID</th>\n",
       "      <th>Unnamed: 27</th>\n",
       "      <th>Unnamed: 28</th>\n",
       "      <th>Unnamed: 29</th>\n",
       "      <th>Unnamed: 30</th>\n",
       "      <th>Unnamed: 31</th>\n",
       "      <th>NPH</th>\n",
       "      <th>NGRM</th>\n",
       "    </tr>\n",
       "  </thead>\n",
       "  <tbody>\n",
       "    <tr>\n",
       "      <th>count</th>\n",
       "      <td>0.0</td>\n",
       "      <td>70798.000000</td>\n",
       "      <td>0.0</td>\n",
       "      <td>0.0</td>\n",
       "      <td>70798.000000</td>\n",
       "      <td>70798.00000</td>\n",
       "      <td>0.0</td>\n",
       "      <td>9648.000000</td>\n",
       "      <td>7.359000e+03</td>\n",
       "      <td>4.628900e+04</td>\n",
       "      <td>...</td>\n",
       "      <td>3387.000000</td>\n",
       "      <td>469.000000</td>\n",
       "      <td>2.000000</td>\n",
       "      <td>0.0</td>\n",
       "      <td>0.0</td>\n",
       "      <td>0.0</td>\n",
       "      <td>0.0</td>\n",
       "      <td>0.0</td>\n",
       "      <td>0.0</td>\n",
       "      <td>0.0</td>\n",
       "    </tr>\n",
       "    <tr>\n",
       "      <th>mean</th>\n",
       "      <td>NaN</td>\n",
       "      <td>2.417826</td>\n",
       "      <td>NaN</td>\n",
       "      <td>NaN</td>\n",
       "      <td>33.977749</td>\n",
       "      <td>-116.88145</td>\n",
       "      <td>NaN</td>\n",
       "      <td>13.354343</td>\n",
       "      <td>6.097558e+06</td>\n",
       "      <td>4.482677e+06</td>\n",
       "      <td>...</td>\n",
       "      <td>43.415412</td>\n",
       "      <td>14.746269</td>\n",
       "      <td>7.000000</td>\n",
       "      <td>NaN</td>\n",
       "      <td>NaN</td>\n",
       "      <td>NaN</td>\n",
       "      <td>NaN</td>\n",
       "      <td>NaN</td>\n",
       "      <td>NaN</td>\n",
       "      <td>NaN</td>\n",
       "    </tr>\n",
       "    <tr>\n",
       "      <th>std</th>\n",
       "      <td>NaN</td>\n",
       "      <td>0.407683</td>\n",
       "      <td>NaN</td>\n",
       "      <td>NaN</td>\n",
       "      <td>1.156586</td>\n",
       "      <td>1.07667</td>\n",
       "      <td>NaN</td>\n",
       "      <td>2.724517</td>\n",
       "      <td>4.441852e+06</td>\n",
       "      <td>3.130379e+06</td>\n",
       "      <td>...</td>\n",
       "      <td>24.266088</td>\n",
       "      <td>17.013243</td>\n",
       "      <td>2.828427</td>\n",
       "      <td>NaN</td>\n",
       "      <td>NaN</td>\n",
       "      <td>NaN</td>\n",
       "      <td>NaN</td>\n",
       "      <td>NaN</td>\n",
       "      <td>NaN</td>\n",
       "      <td>NaN</td>\n",
       "    </tr>\n",
       "    <tr>\n",
       "      <th>min</th>\n",
       "      <td>NaN</td>\n",
       "      <td>2.000000</td>\n",
       "      <td>NaN</td>\n",
       "      <td>NaN</td>\n",
       "      <td>30.094830</td>\n",
       "      <td>-121.76000</td>\n",
       "      <td>NaN</td>\n",
       "      <td>10.000000</td>\n",
       "      <td>1.000432e+06</td>\n",
       "      <td>1.070000e+02</td>\n",
       "      <td>...</td>\n",
       "      <td>0.000000</td>\n",
       "      <td>0.000000</td>\n",
       "      <td>5.000000</td>\n",
       "      <td>NaN</td>\n",
       "      <td>NaN</td>\n",
       "      <td>NaN</td>\n",
       "      <td>NaN</td>\n",
       "      <td>NaN</td>\n",
       "      <td>NaN</td>\n",
       "      <td>NaN</td>\n",
       "    </tr>\n",
       "    <tr>\n",
       "      <th>25%</th>\n",
       "      <td>NaN</td>\n",
       "      <td>2.120000</td>\n",
       "      <td>NaN</td>\n",
       "      <td>NaN</td>\n",
       "      <td>33.061000</td>\n",
       "      <td>-117.69200</td>\n",
       "      <td>NaN</td>\n",
       "      <td>11.200000</td>\n",
       "      <td>3.041641e+06</td>\n",
       "      <td>3.031237e+06</td>\n",
       "      <td>...</td>\n",
       "      <td>24.000000</td>\n",
       "      <td>0.000000</td>\n",
       "      <td>6.000000</td>\n",
       "      <td>NaN</td>\n",
       "      <td>NaN</td>\n",
       "      <td>NaN</td>\n",
       "      <td>NaN</td>\n",
       "      <td>NaN</td>\n",
       "      <td>NaN</td>\n",
       "      <td>NaN</td>\n",
       "    </tr>\n",
       "    <tr>\n",
       "      <th>50%</th>\n",
       "      <td>NaN</td>\n",
       "      <td>2.300000</td>\n",
       "      <td>NaN</td>\n",
       "      <td>NaN</td>\n",
       "      <td>34.056750</td>\n",
       "      <td>-116.59000</td>\n",
       "      <td>NaN</td>\n",
       "      <td>12.800000</td>\n",
       "      <td>3.229114e+06</td>\n",
       "      <td>3.110080e+06</td>\n",
       "      <td>...</td>\n",
       "      <td>38.000000</td>\n",
       "      <td>13.000000</td>\n",
       "      <td>7.000000</td>\n",
       "      <td>NaN</td>\n",
       "      <td>NaN</td>\n",
       "      <td>NaN</td>\n",
       "      <td>NaN</td>\n",
       "      <td>NaN</td>\n",
       "      <td>NaN</td>\n",
       "      <td>NaN</td>\n",
       "    </tr>\n",
       "    <tr>\n",
       "      <th>75%</th>\n",
       "      <td>NaN</td>\n",
       "      <td>2.590000</td>\n",
       "      <td>NaN</td>\n",
       "      <td>NaN</td>\n",
       "      <td>34.591000</td>\n",
       "      <td>-116.25100</td>\n",
       "      <td>NaN</td>\n",
       "      <td>14.900000</td>\n",
       "      <td>9.669999e+06</td>\n",
       "      <td>9.027968e+06</td>\n",
       "      <td>...</td>\n",
       "      <td>61.000000</td>\n",
       "      <td>24.000000</td>\n",
       "      <td>8.000000</td>\n",
       "      <td>NaN</td>\n",
       "      <td>NaN</td>\n",
       "      <td>NaN</td>\n",
       "      <td>NaN</td>\n",
       "      <td>NaN</td>\n",
       "      <td>NaN</td>\n",
       "      <td>NaN</td>\n",
       "    </tr>\n",
       "    <tr>\n",
       "      <th>max</th>\n",
       "      <td>NaN</td>\n",
       "      <td>7.100000</td>\n",
       "      <td>NaN</td>\n",
       "      <td>NaN</td>\n",
       "      <td>37.985500</td>\n",
       "      <td>-113.71900</td>\n",
       "      <td>NaN</td>\n",
       "      <td>29.300000</td>\n",
       "      <td>3.736673e+07</td>\n",
       "      <td>9.875061e+06</td>\n",
       "      <td>...</td>\n",
       "      <td>145.000000</td>\n",
       "      <td>88.000000</td>\n",
       "      <td>9.000000</td>\n",
       "      <td>NaN</td>\n",
       "      <td>NaN</td>\n",
       "      <td>NaN</td>\n",
       "      <td>NaN</td>\n",
       "      <td>NaN</td>\n",
       "      <td>NaN</td>\n",
       "      <td>NaN</td>\n",
       "    </tr>\n",
       "  </tbody>\n",
       "</table>\n",
       "<p>8 rows × 27 columns</p>\n",
       "</div>"
      ],
      "text/plain": [
       "        GT    Unnamed: 5  Unnamed: 7  Unnamed: 8    Unnamed: 9          LAT  \\\n",
       "count  0.0  70798.000000         0.0         0.0  70798.000000  70798.00000   \n",
       "mean   NaN      2.417826         NaN         NaN     33.977749   -116.88145   \n",
       "std    NaN      0.407683         NaN         NaN      1.156586      1.07667   \n",
       "min    NaN      2.000000         NaN         NaN     30.094830   -121.76000   \n",
       "25%    NaN      2.120000         NaN         NaN     33.061000   -117.69200   \n",
       "50%    NaN      2.300000         NaN         NaN     34.056750   -116.59000   \n",
       "75%    NaN      2.590000         NaN         NaN     34.591000   -116.25100   \n",
       "max    NaN      7.100000         NaN         NaN     37.985500   -113.71900   \n",
       "\n",
       "       Unnamed: 11  Unnamed: 12   Unnamed: 15   Unnamed: 16  ...            Q  \\\n",
       "count          0.0  9648.000000  7.359000e+03  4.628900e+04  ...  3387.000000   \n",
       "mean           NaN    13.354343  6.097558e+06  4.482677e+06  ...    43.415412   \n",
       "std            NaN     2.724517  4.441852e+06  3.130379e+06  ...    24.266088   \n",
       "min            NaN    10.000000  1.000432e+06  1.070000e+02  ...     0.000000   \n",
       "25%            NaN    11.200000  3.041641e+06  3.031237e+06  ...    24.000000   \n",
       "50%            NaN    12.800000  3.229114e+06  3.110080e+06  ...    38.000000   \n",
       "75%            NaN    14.900000  9.669999e+06  9.027968e+06  ...    61.000000   \n",
       "max            NaN    29.300000  3.736673e+07  9.875061e+06  ...   145.000000   \n",
       "\n",
       "       Unnamed: 25      EVID  Unnamed: 27  Unnamed: 28  Unnamed: 29  \\\n",
       "count   469.000000  2.000000          0.0          0.0          0.0   \n",
       "mean     14.746269  7.000000          NaN          NaN          NaN   \n",
       "std      17.013243  2.828427          NaN          NaN          NaN   \n",
       "min       0.000000  5.000000          NaN          NaN          NaN   \n",
       "25%       0.000000  6.000000          NaN          NaN          NaN   \n",
       "50%      13.000000  7.000000          NaN          NaN          NaN   \n",
       "75%      24.000000  8.000000          NaN          NaN          NaN   \n",
       "max      88.000000  9.000000          NaN          NaN          NaN   \n",
       "\n",
       "       Unnamed: 30  Unnamed: 31  NPH  NGRM  \n",
       "count          0.0          0.0  0.0   0.0  \n",
       "mean           NaN          NaN  NaN   NaN  \n",
       "std            NaN          NaN  NaN   NaN  \n",
       "min            NaN          NaN  NaN   NaN  \n",
       "25%            NaN          NaN  NaN   NaN  \n",
       "50%            NaN          NaN  NaN   NaN  \n",
       "75%            NaN          NaN  NaN   NaN  \n",
       "max            NaN          NaN  NaN   NaN  \n",
       "\n",
       "[8 rows x 27 columns]"
      ]
     },
     "execution_count": 6,
     "metadata": {},
     "output_type": "execute_result"
    }
   ],
   "source": [
    "eqdata.describe()"
   ]
  },
  {
   "cell_type": "markdown",
   "metadata": {
    "ExecuteTime": {
     "end_time": "2019-09-08T21:24:56.161634Z",
     "start_time": "2019-09-08T21:24:56.157793Z"
    },
    "id": "08Ty-hUOhXsG"
   },
   "source": [
    "now that you have a dataframe object you can use methods of the object to modify it. Use the method ```eqdata.rename``` to change the names of the 3 columns that are the only three relevant to us: _date, time, magnitude_"
   ]
  },
  {
   "cell_type": "markdown",
   "metadata": {
    "id": "dYP53BzDhXsG"
   },
   "source": [
    "## prepare date-time column"
   ]
  },
  {
   "cell_type": "code",
   "execution_count": 7,
   "metadata": {
    "ExecuteTime": {
     "end_time": "2019-09-09T01:40:02.791776Z",
     "start_time": "2019-09-09T01:40:02.761489Z"
    },
    "id": "WFIPxVG_hXsH"
   },
   "outputs": [],
   "source": [
    "# your code here...\n",
    "eqdata = eqdata[['#YYY/MM/DD', 'HH:mm:SS.ss', 'Unnamed: 5']].rename({'#YYY/MM/DD':\"date\", 'HH:mm:SS.ss':\"time\", 'Unnamed: 5':\"mag\"}, axis = 1)"
   ]
  },
  {
   "cell_type": "code",
   "execution_count": 8,
   "metadata": {
    "ExecuteTime": {
     "end_time": "2019-09-09T01:40:02.800191Z",
     "start_time": "2019-09-09T01:40:02.793424Z"
    },
    "colab": {
     "base_uri": "https://localhost:8080/",
     "height": 0
    },
    "id": "vZ-NJ-C2hXsJ",
    "outputId": "a01d1387-c3b0-4513-c0ea-6c2c2aca1d16"
   },
   "outputs": [
    {
     "data": {
      "text/html": [
       "<div>\n",
       "<style scoped>\n",
       "    .dataframe tbody tr th:only-of-type {\n",
       "        vertical-align: middle;\n",
       "    }\n",
       "\n",
       "    .dataframe tbody tr th {\n",
       "        vertical-align: top;\n",
       "    }\n",
       "\n",
       "    .dataframe thead th {\n",
       "        text-align: right;\n",
       "    }\n",
       "</style>\n",
       "<table border=\"1\" class=\"dataframe\">\n",
       "  <thead>\n",
       "    <tr style=\"text-align: right;\">\n",
       "      <th></th>\n",
       "      <th>date</th>\n",
       "      <th>time</th>\n",
       "      <th>mag</th>\n",
       "    </tr>\n",
       "  </thead>\n",
       "  <tbody>\n",
       "    <tr>\n",
       "      <th>0</th>\n",
       "      <td>1984/01/01</td>\n",
       "      <td>01:30:57.52</td>\n",
       "      <td>2.02</td>\n",
       "    </tr>\n",
       "    <tr>\n",
       "      <th>1</th>\n",
       "      <td>1984/01/01</td>\n",
       "      <td>05:31:34.16</td>\n",
       "      <td>2.12</td>\n",
       "    </tr>\n",
       "    <tr>\n",
       "      <th>2</th>\n",
       "      <td>1984/01/01</td>\n",
       "      <td>06:59:05.14</td>\n",
       "      <td>2.43</td>\n",
       "    </tr>\n",
       "    <tr>\n",
       "      <th>3</th>\n",
       "      <td>1984/01/01</td>\n",
       "      <td>11:10:25.29</td>\n",
       "      <td>2.07</td>\n",
       "    </tr>\n",
       "    <tr>\n",
       "      <th>4</th>\n",
       "      <td>1984/01/01</td>\n",
       "      <td>19:38:19.79</td>\n",
       "      <td>2.13</td>\n",
       "    </tr>\n",
       "  </tbody>\n",
       "</table>\n",
       "</div>"
      ],
      "text/plain": [
       "         date         time   mag\n",
       "0  1984/01/01  01:30:57.52  2.02\n",
       "1  1984/01/01  05:31:34.16  2.12\n",
       "2  1984/01/01  06:59:05.14  2.43\n",
       "3  1984/01/01  11:10:25.29  2.07\n",
       "4  1984/01/01  19:38:19.79  2.13"
      ]
     },
     "execution_count": 8,
     "metadata": {},
     "output_type": "execute_result"
    }
   ],
   "source": [
    "eqdata.head()"
   ]
  },
  {
   "cell_type": "code",
   "execution_count": 9,
   "metadata": {
    "ExecuteTime": {
     "end_time": "2019-09-09T01:40:02.813328Z",
     "start_time": "2019-09-09T01:40:02.801494Z"
    },
    "colab": {
     "base_uri": "https://localhost:8080/",
     "height": 0
    },
    "id": "BQHplE_shXsL",
    "outputId": "16cc4c09-f4b9-4742-80e1-d309d8f60488"
   },
   "outputs": [
    {
     "data": {
      "text/html": [
       "<div>\n",
       "<style scoped>\n",
       "    .dataframe tbody tr th:only-of-type {\n",
       "        vertical-align: middle;\n",
       "    }\n",
       "\n",
       "    .dataframe tbody tr th {\n",
       "        vertical-align: top;\n",
       "    }\n",
       "\n",
       "    .dataframe thead th {\n",
       "        text-align: right;\n",
       "    }\n",
       "</style>\n",
       "<table border=\"1\" class=\"dataframe\">\n",
       "  <thead>\n",
       "    <tr style=\"text-align: right;\">\n",
       "      <th></th>\n",
       "      <th>mag</th>\n",
       "    </tr>\n",
       "  </thead>\n",
       "  <tbody>\n",
       "    <tr>\n",
       "      <th>count</th>\n",
       "      <td>70798.000000</td>\n",
       "    </tr>\n",
       "    <tr>\n",
       "      <th>mean</th>\n",
       "      <td>2.417826</td>\n",
       "    </tr>\n",
       "    <tr>\n",
       "      <th>std</th>\n",
       "      <td>0.407683</td>\n",
       "    </tr>\n",
       "    <tr>\n",
       "      <th>min</th>\n",
       "      <td>2.000000</td>\n",
       "    </tr>\n",
       "    <tr>\n",
       "      <th>25%</th>\n",
       "      <td>2.120000</td>\n",
       "    </tr>\n",
       "    <tr>\n",
       "      <th>50%</th>\n",
       "      <td>2.300000</td>\n",
       "    </tr>\n",
       "    <tr>\n",
       "      <th>75%</th>\n",
       "      <td>2.590000</td>\n",
       "    </tr>\n",
       "    <tr>\n",
       "      <th>max</th>\n",
       "      <td>7.100000</td>\n",
       "    </tr>\n",
       "  </tbody>\n",
       "</table>\n",
       "</div>"
      ],
      "text/plain": [
       "                mag\n",
       "count  70798.000000\n",
       "mean       2.417826\n",
       "std        0.407683\n",
       "min        2.000000\n",
       "25%        2.120000\n",
       "50%        2.300000\n",
       "75%        2.590000\n",
       "max        7.100000"
      ]
     },
     "execution_count": 9,
     "metadata": {},
     "output_type": "execute_result"
    }
   ],
   "source": [
    "eqdata.describe()"
   ]
  },
  {
   "cell_type": "markdown",
   "metadata": {
    "id": "EMiRblXihXsN"
   },
   "source": [
    "Now you want to combine the columns containing date and time and convert them to a \"datetime\" kind of data object. \n"
   ]
  },
  {
   "cell_type": "markdown",
   "metadata": {
    "ExecuteTime": {
     "end_time": "2019-09-08T21:26:57.438903Z",
     "start_time": "2019-09-08T21:26:57.435133Z"
    },
    "id": "ZPOv1TJihXsN"
   },
   "source": [
    "What data type are the _time_ and _date_ columns right now? What type you want them to be to conver them to datetime with ```pd.datetime()```? type 'O' means object, typically a string. "
   ]
  },
  {
   "cell_type": "code",
   "execution_count": 10,
   "metadata": {
    "ExecuteTime": {
     "end_time": "2019-09-09T01:40:02.859962Z",
     "start_time": "2019-09-09T01:40:02.856654Z"
    },
    "colab": {
     "base_uri": "https://localhost:8080/"
    },
    "id": "sqfVbxyYhXsO",
    "outputId": "fc36a81f-2d82-4d1c-839f-91cdd5e29d40"
   },
   "outputs": [
    {
     "data": {
      "text/plain": [
       "(dtype('O'), dtype('O'))"
      ]
     },
     "execution_count": 10,
     "metadata": {},
     "output_type": "execute_result"
    }
   ],
   "source": [
    "eqdata.time.dtype, eqdata.date.dtype"
   ]
  },
  {
   "cell_type": "markdown",
   "metadata": {
    "ExecuteTime": {
     "end_time": "2019-09-08T21:28:58.082172Z",
     "start_time": "2019-09-08T21:28:58.078926Z"
    },
    "id": "O9qP9mRShXsP"
   },
   "source": [
    "to do this conversion I \n",
    "\n",
    "   1. joined date and time into a single string for each row with a [\"list comprehension\"](https://www.pythonforbeginners.com/basics/list-comprehensions-in-python) (essentially a for loop but more efficient and compact). You do not have to do it with a list comprehension, you can use just a for loop.\n",
    "\n",
    "   2. used pd.datetime() to convert the resulting new dataframe column into a dataframe column containing _datetime_ objects (see lab)\n",
    "\n",
    "   3. but this did not work because of the formatting of some dates, so I had to go back and fix 5 entries. (you are on your own to figure out this one)"
   ]
  },
  {
   "cell_type": "code",
   "execution_count": 11,
   "metadata": {
    "ExecuteTime": {
     "end_time": "2019-09-09T01:40:12.489690Z",
     "start_time": "2019-09-09T01:40:02.914845Z"
    },
    "id": "eOUTqBDOhXsQ"
   },
   "outputs": [],
   "source": [
    "# your code here\n",
    "eqdata[\"datetime\"] = [eqdata.iloc[i].date + \" \" + eqdata.iloc[i].time for i in range(eqdata.shape[0])]"
   ]
  },
  {
   "cell_type": "code",
   "execution_count": 12,
   "metadata": {
    "id": "uzC65-nHkDdG"
   },
   "outputs": [],
   "source": [
    "eqdata[\"datetime\"] = eqdata[\"datetime\"].str.replace(\"60.00\",\"59.99\")"
   ]
  },
  {
   "cell_type": "code",
   "execution_count": 13,
   "metadata": {
    "id": "-lw9CobckHcy"
   },
   "outputs": [],
   "source": [
    "eqdata[\"datetime\"] = pd.to_datetime(eqdata[\"datetime\"])"
   ]
  },
  {
   "cell_type": "code",
   "execution_count": 14,
   "metadata": {
    "ExecuteTime": {
     "end_time": "2019-09-09T01:40:29.216627Z",
     "start_time": "2019-09-09T01:40:29.206374Z"
    },
    "colab": {
     "base_uri": "https://localhost:8080/",
     "height": 0
    },
    "id": "o9PeG5J5hXsU",
    "outputId": "5ec7a185-d0a8-490e-b98c-d3bb90542e5d"
   },
   "outputs": [
    {
     "data": {
      "text/html": [
       "<div>\n",
       "<style scoped>\n",
       "    .dataframe tbody tr th:only-of-type {\n",
       "        vertical-align: middle;\n",
       "    }\n",
       "\n",
       "    .dataframe tbody tr th {\n",
       "        vertical-align: top;\n",
       "    }\n",
       "\n",
       "    .dataframe thead th {\n",
       "        text-align: right;\n",
       "    }\n",
       "</style>\n",
       "<table border=\"1\" class=\"dataframe\">\n",
       "  <thead>\n",
       "    <tr style=\"text-align: right;\">\n",
       "      <th></th>\n",
       "      <th>date</th>\n",
       "      <th>time</th>\n",
       "      <th>mag</th>\n",
       "      <th>datetime</th>\n",
       "    </tr>\n",
       "  </thead>\n",
       "  <tbody>\n",
       "    <tr>\n",
       "      <th>0</th>\n",
       "      <td>1984/01/01</td>\n",
       "      <td>01:30:57.52</td>\n",
       "      <td>2.02</td>\n",
       "      <td>1984-01-01 01:30:57.520</td>\n",
       "    </tr>\n",
       "    <tr>\n",
       "      <th>1</th>\n",
       "      <td>1984/01/01</td>\n",
       "      <td>05:31:34.16</td>\n",
       "      <td>2.12</td>\n",
       "      <td>1984-01-01 05:31:34.160</td>\n",
       "    </tr>\n",
       "    <tr>\n",
       "      <th>2</th>\n",
       "      <td>1984/01/01</td>\n",
       "      <td>06:59:05.14</td>\n",
       "      <td>2.43</td>\n",
       "      <td>1984-01-01 06:59:05.140</td>\n",
       "    </tr>\n",
       "    <tr>\n",
       "      <th>3</th>\n",
       "      <td>1984/01/01</td>\n",
       "      <td>11:10:25.29</td>\n",
       "      <td>2.07</td>\n",
       "      <td>1984-01-01 11:10:25.290</td>\n",
       "    </tr>\n",
       "    <tr>\n",
       "      <th>4</th>\n",
       "      <td>1984/01/01</td>\n",
       "      <td>19:38:19.79</td>\n",
       "      <td>2.13</td>\n",
       "      <td>1984-01-01 19:38:19.790</td>\n",
       "    </tr>\n",
       "  </tbody>\n",
       "</table>\n",
       "</div>"
      ],
      "text/plain": [
       "         date         time   mag                datetime\n",
       "0  1984/01/01  01:30:57.52  2.02 1984-01-01 01:30:57.520\n",
       "1  1984/01/01  05:31:34.16  2.12 1984-01-01 05:31:34.160\n",
       "2  1984/01/01  06:59:05.14  2.43 1984-01-01 06:59:05.140\n",
       "3  1984/01/01  11:10:25.29  2.07 1984-01-01 11:10:25.290\n",
       "4  1984/01/01  19:38:19.79  2.13 1984-01-01 19:38:19.790"
      ]
     },
     "execution_count": 14,
     "metadata": {},
     "output_type": "execute_result"
    }
   ],
   "source": [
    "eqdata.head()"
   ]
  },
  {
   "cell_type": "code",
   "execution_count": 15,
   "metadata": {
    "colab": {
     "base_uri": "https://localhost:8080/"
    },
    "id": "mbONPDp1kWAv",
    "outputId": "0b5e41d8-233c-46ac-996a-1f885eb89562"
   },
   "outputs": [
    {
     "data": {
      "text/plain": [
       "dtype('<M8[ns]')"
      ]
     },
     "execution_count": 15,
     "metadata": {},
     "output_type": "execute_result"
    }
   ],
   "source": [
    "eqdata.datetime.dtype"
   ]
  },
  {
   "cell_type": "markdown",
   "metadata": {
    "id": "zAmaMzQIhXsW"
   },
   "source": [
    "## select valuable data"
   ]
  },
  {
   "cell_type": "markdown",
   "metadata": {
    "id": "R3kga7VvhXsZ"
   },
   "source": [
    "Following the description in Section 2  of Corral 2018 I removed all data that did not belong to a \"stationary\" period. Third paragraph section 2 of Corral 2018. You can see the cell of code I used to do this [here](https://github.com/fedhere/DSPS/blob/master/HW3/Corral2018_selectStationary.py) at no points cost, cause it was a bit tricky, but I encourage you to try and do it yourself. If you can do it in fewer lines than I did its automatically +5 points (just turning the loop into a list comprehension does not count. That is an obvious way to decrease the number of lines of code; I did not do it simply to enhance readability.)"
   ]
  },
  {
   "cell_type": "code",
   "execution_count": 16,
   "metadata": {
    "ExecuteTime": {
     "end_time": "2019-09-09T01:40:29.230993Z",
     "start_time": "2019-09-09T01:40:29.219163Z"
    },
    "id": "tQRj4CAEhXsZ"
   },
   "outputs": [],
   "source": [
    "# your code here\n",
    "# Create a numpy array with the decimal intervals\n",
    "# We saved is a a 1D array, where the intervals are arranged continously\n",
    "# The even positions represent the start year and the next odd position the end year\n",
    "rango = np.array([1984, 1986.5, \n",
    "          1990.3, 1992.1, \n",
    "          1994.6, 1995.6,\n",
    "          1996.1,1996.5, \n",
    "          1997,1997.6, \n",
    "          1997.75,1998.15, \n",
    "          1998.25,1999.35, \n",
    "          2000.55,2000.8,\n",
    "          2000.9 ,2001.25, \n",
    "          2001.6 ,2002, \n",
    "          2002.5 ,2003])"
   ]
  },
  {
   "cell_type": "code",
   "execution_count": 17,
   "metadata": {
    "id": "em3_ixuqwdF-"
   },
   "outputs": [],
   "source": [
    "# Convert the decimal date to datetime\n",
    "# We reduced the lines of code by using numpy arrays and pandas function to_timedelta\n",
    "ss = pd.to_datetime(rango.astype(int), format=\"%Y\") + pd.to_timedelta(((rango-rango.astype(int))*365.25), unit = 'd')"
   ]
  },
  {
   "cell_type": "code",
   "execution_count": 18,
   "metadata": {
    "colab": {
     "base_uri": "https://localhost:8080/"
    },
    "id": "blvSv25BBO4Y",
    "outputId": "d9d303b2-0820-42bc-9c66-3b4e98264785"
   },
   "outputs": [
    {
     "data": {
      "text/plain": [
       "DatetimeIndex(['1984-01-01 00:00:00', '1986-07-02 15:00:00',\n",
       "               '1990-04-20 13:48:00', '1992-02-06 12:36:00',\n",
       "               '1994-08-08 03:36:00', '1995-08-08 03:36:00',\n",
       "               '1996-02-06 12:36:00', '1996-07-01 15:00:00',\n",
       "               '1997-01-01 00:00:00', '1997-08-08 03:36:00',\n",
       "               '1997-10-01 22:30:00', '1998-02-24 18:54:00',\n",
       "               '1998-04-02 07:30:00', '1999-05-08 20:06:00',\n",
       "               '2000-07-19 21:18:00', '2000-10-19 04:48:00',\n",
       "               '2000-11-24 17:24:00', '2001-04-02 07:30:00',\n",
       "               '2001-08-08 03:36:00', '2002-01-01 00:00:00',\n",
       "               '2002-07-02 15:00:00', '2003-01-01 00:00:00'],\n",
       "              dtype='datetime64[ns]', freq=None)"
      ]
     },
     "execution_count": 18,
     "metadata": {},
     "output_type": "execute_result"
    }
   ],
   "source": [
    "ss"
   ]
  },
  {
   "cell_type": "code",
   "execution_count": 19,
   "metadata": {
    "colab": {
     "base_uri": "https://localhost:8080/",
     "height": 206
    },
    "id": "i-WJN2PRb27U",
    "outputId": "e4d96809-262c-4153-9ae7-6e6ad5aa40b4"
   },
   "outputs": [
    {
     "data": {
      "text/html": [
       "<div>\n",
       "<style scoped>\n",
       "    .dataframe tbody tr th:only-of-type {\n",
       "        vertical-align: middle;\n",
       "    }\n",
       "\n",
       "    .dataframe tbody tr th {\n",
       "        vertical-align: top;\n",
       "    }\n",
       "\n",
       "    .dataframe thead th {\n",
       "        text-align: right;\n",
       "    }\n",
       "</style>\n",
       "<table border=\"1\" class=\"dataframe\">\n",
       "  <thead>\n",
       "    <tr style=\"text-align: right;\">\n",
       "      <th></th>\n",
       "      <th>date</th>\n",
       "      <th>time</th>\n",
       "      <th>mag</th>\n",
       "      <th>datetime</th>\n",
       "    </tr>\n",
       "  </thead>\n",
       "  <tbody>\n",
       "    <tr>\n",
       "      <th>0</th>\n",
       "      <td>1984/01/01</td>\n",
       "      <td>01:30:57.52</td>\n",
       "      <td>2.02</td>\n",
       "      <td>1984-01-01 01:30:57.520</td>\n",
       "    </tr>\n",
       "    <tr>\n",
       "      <th>1</th>\n",
       "      <td>1984/01/01</td>\n",
       "      <td>05:31:34.16</td>\n",
       "      <td>2.12</td>\n",
       "      <td>1984-01-01 05:31:34.160</td>\n",
       "    </tr>\n",
       "    <tr>\n",
       "      <th>2</th>\n",
       "      <td>1984/01/01</td>\n",
       "      <td>06:59:05.14</td>\n",
       "      <td>2.43</td>\n",
       "      <td>1984-01-01 06:59:05.140</td>\n",
       "    </tr>\n",
       "    <tr>\n",
       "      <th>3</th>\n",
       "      <td>1984/01/01</td>\n",
       "      <td>11:10:25.29</td>\n",
       "      <td>2.07</td>\n",
       "      <td>1984-01-01 11:10:25.290</td>\n",
       "    </tr>\n",
       "    <tr>\n",
       "      <th>4</th>\n",
       "      <td>1984/01/01</td>\n",
       "      <td>19:38:19.79</td>\n",
       "      <td>2.13</td>\n",
       "      <td>1984-01-01 19:38:19.790</td>\n",
       "    </tr>\n",
       "  </tbody>\n",
       "</table>\n",
       "</div>"
      ],
      "text/plain": [
       "         date         time   mag                datetime\n",
       "0  1984/01/01  01:30:57.52  2.02 1984-01-01 01:30:57.520\n",
       "1  1984/01/01  05:31:34.16  2.12 1984-01-01 05:31:34.160\n",
       "2  1984/01/01  06:59:05.14  2.43 1984-01-01 06:59:05.140\n",
       "3  1984/01/01  11:10:25.29  2.07 1984-01-01 11:10:25.290\n",
       "4  1984/01/01  19:38:19.79  2.13 1984-01-01 19:38:19.790"
      ]
     },
     "execution_count": 19,
     "metadata": {},
     "output_type": "execute_result"
    }
   ],
   "source": [
    "eqdata.head()"
   ]
  },
  {
   "cell_type": "code",
   "execution_count": null,
   "metadata": {
    "id": "0bh4qeBV0-l1"
   },
   "outputs": [],
   "source": [
    "# The list ids is going to store the indices of the dataframe that are between the active years\n",
    "# We do that, by iterating over ss and storing the indices whose date time lies in the range\n",
    "ids = []\n",
    "for i in range(int(ss.shape[0]/2)):\n",
    "  ids.extend(eqdata[(eqdata.datetime >= ss[2*i]) & (eqdata.datetime <= ss[2*i+1])].index.tolist())"
   ]
  },
  {
   "cell_type": "code",
   "execution_count": null,
   "metadata": {
    "id": "lPys_sZ148Jw"
   },
   "outputs": [],
   "source": [
    "goodData = eqdata.iloc[ids]"
   ]
  },
  {
   "cell_type": "code",
   "execution_count": null,
   "metadata": {
    "ExecuteTime": {
     "end_time": "2019-09-09T01:40:29.237879Z",
     "start_time": "2019-09-09T01:40:29.232647Z"
    },
    "colab": {
     "base_uri": "https://localhost:8080/"
    },
    "id": "qPmYVGWbhXsb",
    "outputId": "7aa6a562-dd69-4fe3-8fbc-c10deef2cf02"
   },
   "outputs": [
    {
     "name": "stdout",
     "output_type": "stream",
     "text": [
      "the 22 timestamp pairs that are the boundaries of good data periods are: \n",
      "['1984-01-01T00:00:00.000000000' '1986-07-02T15:00:00.000000000'\n",
      " '1990-04-20T13:48:00.000000000' '1992-02-06T12:36:00.000000000'\n",
      " '1994-08-08T03:36:00.000000000' '1995-08-08T03:36:00.000000000'\n",
      " '1996-02-06T12:36:00.000000000' '1996-07-01T15:00:00.000000000'\n",
      " '1997-01-01T00:00:00.000000000' '1997-08-08T03:36:00.000000000'\n",
      " '1997-10-01T22:30:00.000000000' '1998-02-24T18:54:00.000000000'\n",
      " '1998-04-02T07:30:00.000000000' '1999-05-08T20:06:00.000000000'\n",
      " '2000-07-19T21:18:00.000000000' '2000-10-19T04:48:00.000000000'\n",
      " '2000-11-24T17:24:00.000000000' '2001-04-02T07:30:00.000000000'\n",
      " '2001-08-08T03:36:00.000000000' '2002-01-01T00:00:00.000000000'\n",
      " '2002-07-02T15:00:00.000000000' '2003-01-01T00:00:00.000000000'] \n"
     ]
    }
   ],
   "source": [
    "print (\"the {} timestamp pairs that are the boundaries of good data periods are: \\n{} \".format(len(ss),ss.values))\n"
   ]
  },
  {
   "cell_type": "markdown",
   "metadata": {
    "id": "-470BeBahXsd"
   },
   "source": [
    "The following cell of code shows you the array of bool values (True/False) which I create to use as an index to the input array: when used as an index, a technique called \"broadcasting\" in python, will select only elements of the original array where the index array value is True. something like \n",
    "Try:\n",
    "\n"
   ]
  },
  {
   "cell_type": "code",
   "execution_count": null,
   "metadata": {
    "ExecuteTime": {
     "end_time": "2019-09-09T01:40:29.244355Z",
     "start_time": "2019-09-09T01:40:29.239933Z"
    },
    "colab": {
     "base_uri": "https://localhost:8080/"
    },
    "id": "9wCXH-gfhXsf",
    "outputId": "063d5f4a-70e8-4b2f-9562-a7ebb5aeddc9"
   },
   "outputs": [
    {
     "data": {
      "text/plain": [
       "(array([0, 1, 2]), array([0, 2]))"
      ]
     },
     "execution_count": 23,
     "metadata": {},
     "output_type": "execute_result"
    }
   ],
   "source": [
    "a = np.array([0, 1, 2])\n",
    "a, a[[True, False, True]]"
   ]
  },
  {
   "cell_type": "markdown",
   "metadata": {
    "ExecuteTime": {
     "end_time": "2019-09-09T01:05:50.836953Z",
     "start_time": "2019-09-09T01:05:50.833542Z"
    },
    "id": "jvZBr-_JhXsi"
   },
   "source": [
    "For each of the 11 valid periods I create a condition \n",
    "``` datetime >= period_start AND datetime <= period_end ``` where AND is a product of booleans: True * False = False.\n",
    "\n",
    "I want to take all chinks of data that satisfy this condition for any of the 11 chunks of time so that is a logical OR operator, or a sum of Booleans: True + False = True \n",
    "\n",
    "This is because ```True``` really corresponds to \"not 0\" and False to \"0\". So ```\"not 0\" * 0 = 0``` and ```\"not 0\" + 0 = not 0```\n",
    "    "
   ]
  },
  {
   "cell_type": "code",
   "execution_count": null,
   "metadata": {
    "ExecuteTime": {
     "end_time": "2019-09-09T01:40:29.265629Z",
     "start_time": "2019-09-09T01:40:29.245537Z"
    },
    "id": "JGuY1EtzhXsj"
   },
   "outputs": [],
   "source": [
    "# your code here\n",
    "# goodDates is already a dataframe, we don't need to create a different one"
   ]
  },
  {
   "cell_type": "code",
   "execution_count": null,
   "metadata": {
    "ExecuteTime": {
     "end_time": "2019-09-09T01:40:29.270985Z",
     "start_time": "2019-09-09T01:40:29.267738Z"
    },
    "colab": {
     "base_uri": "https://localhost:8080/"
    },
    "id": "WHyQm6CqhXsl",
    "outputId": "8b4c92ec-8f23-41e1-aae6-467104aaad8a"
   },
   "outputs": [
    {
     "name": "stdout",
     "output_type": "stream",
     "text": [
      "there are 18854 earthquakes falling in the selected stationary periods\n"
     ]
    }
   ],
   "source": [
    "print (\"there are {} earthquakes falling in the selected stationary periods\".\n",
    "       format(goodData.shape[0]))"
   ]
  },
  {
   "cell_type": "markdown",
   "metadata": {
    "id": "nxyU-ltrbfGk"
   },
   "source": [
    "The 18,854 earthquakes found inside the stationary periods is roughly 5% less thatn the 19,911 found in Dr. Bianco's code. This relatively minor difference can mostlikely be attributed to slight differences in the method of determining what events fit into the stationary periods, and will not significantly impact results."
   ]
  },
  {
   "cell_type": "code",
   "execution_count": null,
   "metadata": {
    "ExecuteTime": {
     "end_time": "2019-09-09T01:40:29.287000Z",
     "start_time": "2019-09-09T01:40:29.279430Z"
    },
    "colab": {
     "base_uri": "https://localhost:8080/",
     "height": 206
    },
    "id": "aMySvYb5hXso",
    "outputId": "46e9961b-8729-4aae-e7c0-146f702cafcf"
   },
   "outputs": [
    {
     "data": {
      "text/html": [
       "<div>\n",
       "<style scoped>\n",
       "    .dataframe tbody tr th:only-of-type {\n",
       "        vertical-align: middle;\n",
       "    }\n",
       "\n",
       "    .dataframe tbody tr th {\n",
       "        vertical-align: top;\n",
       "    }\n",
       "\n",
       "    .dataframe thead th {\n",
       "        text-align: right;\n",
       "    }\n",
       "</style>\n",
       "<table border=\"1\" class=\"dataframe\">\n",
       "  <thead>\n",
       "    <tr style=\"text-align: right;\">\n",
       "      <th></th>\n",
       "      <th>date</th>\n",
       "      <th>time</th>\n",
       "      <th>mag</th>\n",
       "      <th>datetime</th>\n",
       "    </tr>\n",
       "  </thead>\n",
       "  <tbody>\n",
       "    <tr>\n",
       "      <th>0</th>\n",
       "      <td>1984/01/01</td>\n",
       "      <td>01:30:57.52</td>\n",
       "      <td>2.02</td>\n",
       "      <td>1984-01-01 01:30:57.520</td>\n",
       "    </tr>\n",
       "    <tr>\n",
       "      <th>1</th>\n",
       "      <td>1984/01/01</td>\n",
       "      <td>05:31:34.16</td>\n",
       "      <td>2.12</td>\n",
       "      <td>1984-01-01 05:31:34.160</td>\n",
       "    </tr>\n",
       "    <tr>\n",
       "      <th>2</th>\n",
       "      <td>1984/01/01</td>\n",
       "      <td>06:59:05.14</td>\n",
       "      <td>2.43</td>\n",
       "      <td>1984-01-01 06:59:05.140</td>\n",
       "    </tr>\n",
       "    <tr>\n",
       "      <th>3</th>\n",
       "      <td>1984/01/01</td>\n",
       "      <td>11:10:25.29</td>\n",
       "      <td>2.07</td>\n",
       "      <td>1984-01-01 11:10:25.290</td>\n",
       "    </tr>\n",
       "    <tr>\n",
       "      <th>4</th>\n",
       "      <td>1984/01/01</td>\n",
       "      <td>19:38:19.79</td>\n",
       "      <td>2.13</td>\n",
       "      <td>1984-01-01 19:38:19.790</td>\n",
       "    </tr>\n",
       "  </tbody>\n",
       "</table>\n",
       "</div>"
      ],
      "text/plain": [
       "         date         time   mag                datetime\n",
       "0  1984/01/01  01:30:57.52  2.02 1984-01-01 01:30:57.520\n",
       "1  1984/01/01  05:31:34.16  2.12 1984-01-01 05:31:34.160\n",
       "2  1984/01/01  06:59:05.14  2.43 1984-01-01 06:59:05.140\n",
       "3  1984/01/01  11:10:25.29  2.07 1984-01-01 11:10:25.290\n",
       "4  1984/01/01  19:38:19.79  2.13 1984-01-01 19:38:19.790"
      ]
     },
     "execution_count": 26,
     "metadata": {},
     "output_type": "execute_result"
    }
   ],
   "source": [
    "goodData.head()"
   ]
  },
  {
   "cell_type": "markdown",
   "metadata": {
    "ExecuteTime": {
     "end_time": "2019-09-09T01:17:07.527314Z",
     "start_time": "2019-09-09T01:17:07.523165Z"
    },
    "id": "P3MKC5tyhXsp"
   },
   "source": [
    "Now what you really want is the _time interval between earthquakes_ for all events greater than some magnitude m, while all you have are the date and time of the events.: \n",
    "\n",
    "You can remove earthquakes smaller than magnitude 2 by, again, broadcasting. How would that look like?"
   ]
  },
  {
   "cell_type": "code",
   "execution_count": null,
   "metadata": {
    "ExecuteTime": {
     "end_time": "2019-09-09T01:40:29.292220Z",
     "start_time": "2019-09-09T01:40:29.288359Z"
    },
    "id": "GF-7Xw9AhXsq"
   },
   "outputs": [],
   "source": [
    "# your code here\n",
    "goodData = goodData[goodData.mag >= 2]"
   ]
  },
  {
   "cell_type": "code",
   "execution_count": null,
   "metadata": {
    "ExecuteTime": {
     "end_time": "2019-09-09T01:40:29.296885Z",
     "start_time": "2019-09-09T01:40:29.293316Z"
    },
    "colab": {
     "base_uri": "https://localhost:8080/"
    },
    "id": "nTmssr_xhXst",
    "outputId": "3ab07295-cea5-4bbb-bec6-7a8c67373ba8"
   },
   "outputs": [
    {
     "data": {
      "text/plain": [
       "(18854, 4)"
      ]
     },
     "execution_count": 28,
     "metadata": {},
     "output_type": "execute_result"
    }
   ],
   "source": [
    "goodData.shape #It didn´t dropped the data, as stated on the template, because when downloadaed the data was selected to have magnitude greater than 2"
   ]
  },
  {
   "cell_type": "markdown",
   "metadata": {
    "id": "Ah6LgDvVhXsu"
   },
   "source": [
    "You can get the time between consecutive earthquakes with the method ```diff()``` of numpy arrays (in a pandas series you can get the data as a numpy array with the attribute .values: ```seried.values```). \n"
   ]
  },
  {
   "cell_type": "code",
   "execution_count": null,
   "metadata": {
    "ExecuteTime": {
     "end_time": "2019-09-09T01:40:29.303435Z",
     "start_time": "2019-09-09T01:40:29.298440Z"
    },
    "id": "RCJozUPPhXsu"
   },
   "outputs": [],
   "source": [
    "#your code here\n",
    "# Get the time difference between succesive events\n",
    "goodData[\"dts\"] = goodData[\"datetime\"].diff()\n",
    "gaps = np.diff(goodData[\"datetime\"].values).astype(float)\n",
    "\n",
    "# We drop the zeroth row before adding the gaps' column, because it has the NaT value\n",
    "# and gaps' is one element smaller than the dataframe\n",
    "# this size different arises because np.diff doesn't have the NaT value\n",
    "goodData.drop(0, inplace = True)\n",
    "# We reset the index just to avoid problems later if the dataframe first row is 1 instead of 0\n",
    "goodData.reset_index(drop = True, inplace = True)\n",
    "# We create the gaps column\n",
    "goodData[\"gaps\"] = gaps"
   ]
  },
  {
   "cell_type": "code",
   "execution_count": null,
   "metadata": {
    "colab": {
     "base_uri": "https://localhost:8080/",
     "height": 206
    },
    "id": "46ikKQ3Gsz6m",
    "outputId": "6c3287ef-beb7-433f-f8c0-de6828b797a4"
   },
   "outputs": [
    {
     "data": {
      "text/html": [
       "<div>\n",
       "<style scoped>\n",
       "    .dataframe tbody tr th:only-of-type {\n",
       "        vertical-align: middle;\n",
       "    }\n",
       "\n",
       "    .dataframe tbody tr th {\n",
       "        vertical-align: top;\n",
       "    }\n",
       "\n",
       "    .dataframe thead th {\n",
       "        text-align: right;\n",
       "    }\n",
       "</style>\n",
       "<table border=\"1\" class=\"dataframe\">\n",
       "  <thead>\n",
       "    <tr style=\"text-align: right;\">\n",
       "      <th></th>\n",
       "      <th>date</th>\n",
       "      <th>time</th>\n",
       "      <th>mag</th>\n",
       "      <th>datetime</th>\n",
       "      <th>dts</th>\n",
       "      <th>gaps</th>\n",
       "    </tr>\n",
       "  </thead>\n",
       "  <tbody>\n",
       "    <tr>\n",
       "      <th>0</th>\n",
       "      <td>1984/01/01</td>\n",
       "      <td>05:31:34.16</td>\n",
       "      <td>2.12</td>\n",
       "      <td>1984-01-01 05:31:34.160</td>\n",
       "      <td>0 days 04:00:36.640000</td>\n",
       "      <td>1.443664e+13</td>\n",
       "    </tr>\n",
       "    <tr>\n",
       "      <th>1</th>\n",
       "      <td>1984/01/01</td>\n",
       "      <td>06:59:05.14</td>\n",
       "      <td>2.43</td>\n",
       "      <td>1984-01-01 06:59:05.140</td>\n",
       "      <td>0 days 01:27:30.980000</td>\n",
       "      <td>5.250980e+12</td>\n",
       "    </tr>\n",
       "    <tr>\n",
       "      <th>2</th>\n",
       "      <td>1984/01/01</td>\n",
       "      <td>11:10:25.29</td>\n",
       "      <td>2.07</td>\n",
       "      <td>1984-01-01 11:10:25.290</td>\n",
       "      <td>0 days 04:11:20.150000</td>\n",
       "      <td>1.508015e+13</td>\n",
       "    </tr>\n",
       "    <tr>\n",
       "      <th>3</th>\n",
       "      <td>1984/01/01</td>\n",
       "      <td>19:38:19.79</td>\n",
       "      <td>2.13</td>\n",
       "      <td>1984-01-01 19:38:19.790</td>\n",
       "      <td>0 days 08:27:54.500000</td>\n",
       "      <td>3.047450e+13</td>\n",
       "    </tr>\n",
       "    <tr>\n",
       "      <th>4</th>\n",
       "      <td>1984/01/01</td>\n",
       "      <td>19:39:19.67</td>\n",
       "      <td>2.13</td>\n",
       "      <td>1984-01-01 19:39:19.670</td>\n",
       "      <td>0 days 00:00:59.880000</td>\n",
       "      <td>5.988000e+10</td>\n",
       "    </tr>\n",
       "  </tbody>\n",
       "</table>\n",
       "</div>"
      ],
      "text/plain": [
       "         date         time   mag                datetime  \\\n",
       "0  1984/01/01  05:31:34.16  2.12 1984-01-01 05:31:34.160   \n",
       "1  1984/01/01  06:59:05.14  2.43 1984-01-01 06:59:05.140   \n",
       "2  1984/01/01  11:10:25.29  2.07 1984-01-01 11:10:25.290   \n",
       "3  1984/01/01  19:38:19.79  2.13 1984-01-01 19:38:19.790   \n",
       "4  1984/01/01  19:39:19.67  2.13 1984-01-01 19:39:19.670   \n",
       "\n",
       "                     dts          gaps  \n",
       "0 0 days 04:00:36.640000  1.443664e+13  \n",
       "1 0 days 01:27:30.980000  5.250980e+12  \n",
       "2 0 days 04:11:20.150000  1.508015e+13  \n",
       "3 0 days 08:27:54.500000  3.047450e+13  \n",
       "4 0 days 00:00:59.880000  5.988000e+10  "
      ]
     },
     "execution_count": 30,
     "metadata": {},
     "output_type": "execute_result"
    }
   ],
   "source": [
    "goodData.head()"
   ]
  },
  {
   "cell_type": "code",
   "execution_count": null,
   "metadata": {
    "colab": {
     "base_uri": "https://localhost:8080/"
    },
    "id": "a6f-j9ThoMUC",
    "outputId": "84065591-d2bc-4abf-ac2a-c1d8532c22d3"
   },
   "outputs": [
    {
     "data": {
      "text/plain": [
       "(18853, 6)"
      ]
     },
     "execution_count": 31,
     "metadata": {},
     "output_type": "execute_result"
    }
   ],
   "source": [
    "goodData.shape"
   ]
  },
  {
   "cell_type": "code",
   "execution_count": null,
   "metadata": {
    "colab": {
     "base_uri": "https://localhost:8080/",
     "height": 300
    },
    "id": "pC2aJCuVXfM3",
    "outputId": "3d7af0ef-98bc-4c1f-bb70-db5fc07cf9bc"
   },
   "outputs": [
    {
     "data": {
      "text/html": [
       "<div>\n",
       "<style scoped>\n",
       "    .dataframe tbody tr th:only-of-type {\n",
       "        vertical-align: middle;\n",
       "    }\n",
       "\n",
       "    .dataframe tbody tr th {\n",
       "        vertical-align: top;\n",
       "    }\n",
       "\n",
       "    .dataframe thead th {\n",
       "        text-align: right;\n",
       "    }\n",
       "</style>\n",
       "<table border=\"1\" class=\"dataframe\">\n",
       "  <thead>\n",
       "    <tr style=\"text-align: right;\">\n",
       "      <th></th>\n",
       "      <th>mag</th>\n",
       "      <th>dts</th>\n",
       "      <th>gaps</th>\n",
       "    </tr>\n",
       "  </thead>\n",
       "  <tbody>\n",
       "    <tr>\n",
       "      <th>count</th>\n",
       "      <td>18853.000000</td>\n",
       "      <td>18853</td>\n",
       "      <td>1.885300e+04</td>\n",
       "    </tr>\n",
       "    <tr>\n",
       "      <th>mean</th>\n",
       "      <td>2.399406</td>\n",
       "      <td>0 days 08:49:59.865924256</td>\n",
       "      <td>3.179987e+13</td>\n",
       "    </tr>\n",
       "    <tr>\n",
       "      <th>std</th>\n",
       "      <td>0.392424</td>\n",
       "      <td>12 days 18:41:14.463355848</td>\n",
       "      <td>1.104074e+15</td>\n",
       "    </tr>\n",
       "    <tr>\n",
       "      <th>min</th>\n",
       "      <td>2.000000</td>\n",
       "      <td>0 days 00:00:00.170000</td>\n",
       "      <td>1.700000e+08</td>\n",
       "    </tr>\n",
       "    <tr>\n",
       "      <th>25%</th>\n",
       "      <td>2.110000</td>\n",
       "      <td>0 days 00:45:33.640000</td>\n",
       "      <td>2.733640e+12</td>\n",
       "    </tr>\n",
       "    <tr>\n",
       "      <th>50%</th>\n",
       "      <td>2.290000</td>\n",
       "      <td>0 days 02:28:58.520000</td>\n",
       "      <td>8.938520e+12</td>\n",
       "    </tr>\n",
       "    <tr>\n",
       "      <th>75%</th>\n",
       "      <td>2.560000</td>\n",
       "      <td>0 days 05:55:10.180000</td>\n",
       "      <td>2.131018e+13</td>\n",
       "    </tr>\n",
       "    <tr>\n",
       "      <th>max</th>\n",
       "      <td>5.800000</td>\n",
       "      <td>1388 days 04:15:56.490000</td>\n",
       "      <td>1.199386e+17</td>\n",
       "    </tr>\n",
       "  </tbody>\n",
       "</table>\n",
       "</div>"
      ],
      "text/plain": [
       "                mag                         dts          gaps\n",
       "count  18853.000000                       18853  1.885300e+04\n",
       "mean       2.399406   0 days 08:49:59.865924256  3.179987e+13\n",
       "std        0.392424  12 days 18:41:14.463355848  1.104074e+15\n",
       "min        2.000000      0 days 00:00:00.170000  1.700000e+08\n",
       "25%        2.110000      0 days 00:45:33.640000  2.733640e+12\n",
       "50%        2.290000      0 days 02:28:58.520000  8.938520e+12\n",
       "75%        2.560000      0 days 05:55:10.180000  2.131018e+13\n",
       "max        5.800000   1388 days 04:15:56.490000  1.199386e+17"
      ]
     },
     "execution_count": 32,
     "metadata": {},
     "output_type": "execute_result"
    }
   ],
   "source": [
    "goodData.describe()"
   ]
  },
  {
   "cell_type": "markdown",
   "metadata": {
    "id": "wWmOXVyKhO9W"
   },
   "source": [
    "Note that the first entry will be NaT which is Not a Time (corresponding to nan for numerical variables) or maybe a negative number (depends on your exact operations above). You should remove it"
   ]
  },
  {
   "cell_type": "code",
   "execution_count": null,
   "metadata": {
    "id": "zqOLrvyc0_dL"
   },
   "outputs": [],
   "source": [
    "# your code here"
   ]
  },
  {
   "cell_type": "code",
   "execution_count": null,
   "metadata": {
    "colab": {
     "base_uri": "https://localhost:8080/",
     "height": 206
    },
    "id": "kDvKNHD7X1M8",
    "outputId": "e5da3c78-1fcd-489e-805c-f0d69d1c47a0"
   },
   "outputs": [
    {
     "data": {
      "text/html": [
       "<div>\n",
       "<style scoped>\n",
       "    .dataframe tbody tr th:only-of-type {\n",
       "        vertical-align: middle;\n",
       "    }\n",
       "\n",
       "    .dataframe tbody tr th {\n",
       "        vertical-align: top;\n",
       "    }\n",
       "\n",
       "    .dataframe thead th {\n",
       "        text-align: right;\n",
       "    }\n",
       "</style>\n",
       "<table border=\"1\" class=\"dataframe\">\n",
       "  <thead>\n",
       "    <tr style=\"text-align: right;\">\n",
       "      <th></th>\n",
       "      <th>date</th>\n",
       "      <th>time</th>\n",
       "      <th>mag</th>\n",
       "      <th>datetime</th>\n",
       "      <th>dts</th>\n",
       "      <th>gaps</th>\n",
       "    </tr>\n",
       "  </thead>\n",
       "  <tbody>\n",
       "    <tr>\n",
       "      <th>0</th>\n",
       "      <td>1984/01/01</td>\n",
       "      <td>05:31:34.16</td>\n",
       "      <td>2.12</td>\n",
       "      <td>1984-01-01 05:31:34.160</td>\n",
       "      <td>0 days 04:00:36.640000</td>\n",
       "      <td>1.443664e+13</td>\n",
       "    </tr>\n",
       "    <tr>\n",
       "      <th>1</th>\n",
       "      <td>1984/01/01</td>\n",
       "      <td>06:59:05.14</td>\n",
       "      <td>2.43</td>\n",
       "      <td>1984-01-01 06:59:05.140</td>\n",
       "      <td>0 days 01:27:30.980000</td>\n",
       "      <td>5.250980e+12</td>\n",
       "    </tr>\n",
       "    <tr>\n",
       "      <th>2</th>\n",
       "      <td>1984/01/01</td>\n",
       "      <td>11:10:25.29</td>\n",
       "      <td>2.07</td>\n",
       "      <td>1984-01-01 11:10:25.290</td>\n",
       "      <td>0 days 04:11:20.150000</td>\n",
       "      <td>1.508015e+13</td>\n",
       "    </tr>\n",
       "    <tr>\n",
       "      <th>3</th>\n",
       "      <td>1984/01/01</td>\n",
       "      <td>19:38:19.79</td>\n",
       "      <td>2.13</td>\n",
       "      <td>1984-01-01 19:38:19.790</td>\n",
       "      <td>0 days 08:27:54.500000</td>\n",
       "      <td>3.047450e+13</td>\n",
       "    </tr>\n",
       "    <tr>\n",
       "      <th>4</th>\n",
       "      <td>1984/01/01</td>\n",
       "      <td>19:39:19.67</td>\n",
       "      <td>2.13</td>\n",
       "      <td>1984-01-01 19:39:19.670</td>\n",
       "      <td>0 days 00:00:59.880000</td>\n",
       "      <td>5.988000e+10</td>\n",
       "    </tr>\n",
       "  </tbody>\n",
       "</table>\n",
       "</div>"
      ],
      "text/plain": [
       "         date         time   mag                datetime  \\\n",
       "0  1984/01/01  05:31:34.16  2.12 1984-01-01 05:31:34.160   \n",
       "1  1984/01/01  06:59:05.14  2.43 1984-01-01 06:59:05.140   \n",
       "2  1984/01/01  11:10:25.29  2.07 1984-01-01 11:10:25.290   \n",
       "3  1984/01/01  19:38:19.79  2.13 1984-01-01 19:38:19.790   \n",
       "4  1984/01/01  19:39:19.67  2.13 1984-01-01 19:39:19.670   \n",
       "\n",
       "                     dts          gaps  \n",
       "0 0 days 04:00:36.640000  1.443664e+13  \n",
       "1 0 days 01:27:30.980000  5.250980e+12  \n",
       "2 0 days 04:11:20.150000  1.508015e+13  \n",
       "3 0 days 08:27:54.500000  3.047450e+13  \n",
       "4 0 days 00:00:59.880000  5.988000e+10  "
      ]
     },
     "execution_count": 34,
     "metadata": {},
     "output_type": "execute_result"
    }
   ],
   "source": [
    "goodData.head()"
   ]
  },
  {
   "cell_type": "markdown",
   "metadata": {
    "id": "M2VH6Q4xhXsw"
   },
   "source": [
    "# data exploration\n",
    "At this point you should wonder if this is the final dataset that you want to use and if anything is weird or suspicious about it. Visualize the distribution. A good way to visualize distributions is a histogram which you can prodice with pl.hist() or as a method of your dataframe series as ```df[SeriesName].plot(kind=\"hist\")```. Produce a plot like the one below (label the axis! and describe it with a caption!). To get the logarithmic y axis you can se ```logy=True```, for example. in your ```df[SeriesName].plot``` call."
   ]
  },
  {
   "cell_type": "code",
   "execution_count": null,
   "metadata": {
    "colab": {
     "base_uri": "https://localhost:8080/",
     "height": 318
    },
    "id": "iDiscxU4XDwg",
    "outputId": "066fde30-3894-4bf8-cd8e-ea76f34c9942"
   },
   "outputs": [
    {
     "data": {
      "text/plain": [
       "Text(0.5, 1.0, 'Histogram of Earthquakes (>=Mag 2)')"
      ]
     },
     "execution_count": 35,
     "metadata": {},
     "output_type": "execute_result"
    },
    {
     "name": "stderr",
     "output_type": "stream",
     "text": [
      "/Users/home/miniconda3/lib/python3.6/site-packages/matplotlib/font_manager.py:1241: UserWarning: findfont: Font family ['[\"sans-serif\"]'] not found. Falling back to DejaVu Sans.\n",
      "  (prop.get_family(), self.defaultFamily[fontext]))\n"
     ]
    }
   ],
   "source": [
    "yscale('log')\n",
    "pl.hist(goodData[\"gaps\"])\n",
    "pl.xlabel('Interval between Earthquakes (nanoseconds)')\n",
    "pl.ylabel('Number Earthquakes')\n",
    "pl.title('Histogram of Earthquakes (>=Mag 2)',fontsize=18)"
   ]
  },
  {
   "cell_type": "markdown",
   "metadata": {
    "id": "nuPhJkrozh91"
   },
   "source": [
    "The thing that worries me is that by removing some sections of the data to use only stationary periods we created some artificially large gaps: gaps of order ~month. How many nanoseconds in a month? remove all gaps that are larger than about a month and see how the distribution looks (make another histogram)."
   ]
  },
  {
   "cell_type": "markdown",
   "metadata": {
    "id": "SSPvL9MNzoGW"
   },
   "source": [
    "Considering that a month is 2.628e+15 ns, we can remove from the dataset all the rows with gap greater than this value"
   ]
  },
  {
   "cell_type": "code",
   "execution_count": null,
   "metadata": {
    "id": "0zuGOkWhzhDu"
   },
   "outputs": [],
   "source": [
    "# your code here \n",
    "monthNs = 2.628e15\n",
    "goodData = goodData[goodData.gaps < monthNs]"
   ]
  },
  {
   "cell_type": "code",
   "execution_count": null,
   "metadata": {
    "colab": {
     "base_uri": "https://localhost:8080/"
    },
    "id": "48g1qe2P0VT8",
    "outputId": "f82bce16-0533-45ab-a9a4-bf2f3d51c083"
   },
   "outputs": [],
   "source": [
    "goodData.head(), goodData.shape[0]"
   ]
  },
  {
   "cell_type": "code",
   "execution_count": null,
   "metadata": {
    "colab": {
     "base_uri": "https://localhost:8080/",
     "height": 338
    },
    "id": "QesHV1yP02Xp",
    "outputId": "ae4c2016-c3ba-4949-85cb-8ba00790bbd7"
   },
   "outputs": [],
   "source": [
    "yscale('log')\n",
    "pl.hist(goodData[\"gaps\"])\n",
    "pl.xlabel('Interval between Earthquakes (nanoseconds)')\n",
    "pl.ylabel('Number of Earthquakes')\n",
    "pl.title('Histogram of Earthquakes (>=Mag 2)', fontsize = 18)"
   ]
  },
  {
   "cell_type": "markdown",
   "metadata": {
    "id": "KnuFDDliGAf5"
   },
   "source": [
    "With month-long gaps removed, the histogram is much easier to read. The distribution is heavily weighted towards short intervals between earthquakes, with decreasing frequency as the intervals increase."
   ]
  },
  {
   "cell_type": "markdown",
   "metadata": {
    "id": "gn-HuVevYOo7"
   },
   "source": [
    "# data analysis"
   ]
  },
  {
   "cell_type": "markdown",
   "metadata": {
    "id": "Q2xYwKRB2sx9"
   },
   "source": [
    "### important: the paper does not do it but I want you to formally choose a threshold before you do this test. Choose a p-value (=$\\alpha$ thresold: call your variable ```alpha```) of 3-$\\sigma$."
   ]
  },
  {
   "cell_type": "markdown",
   "metadata": {
    "id": "pt5MAQEZhXsz"
   },
   "source": [
    "Follow the instructions (algorithm) in **Section 3 paragraph 3** and compare your results with the results in table 1 with a threshold  of = 0.01 and 0.001\n",
    "\n",
    "Do it for all 5 magnitude thresholds as indicated in the paper (and in Table 1).\n",
    "\n",
    "Note that the x axis in plot Fig 1 is in _log space_. Use ```np.log10()``` to take the logarithm of the time gaps.\n",
    "\n",
    "The pseudocode for the algorithm is [here](https://github.com/fedhere/DSPS/blob/master/HW3/Corral2018_pseudocode.md).\n"
   ]
  },
  {
   "cell_type": "markdown",
   "metadata": {
    "id": "gXWK4x4FhXs1"
   },
   "source": [
    "Reproduce the paper Fig 1 and Table 1. In the Table report the size of each dataset after cleaning the value of the statistic and the p-value, as done in Corral 2018. Use the scipy function for the 2 sample KS test. (resources [here](https://colab.research.google.com/notebooks/markdown_guide.ipynb#scrollTo=70pYkR9LiOV0) to learn about the table syntax in markdown)"
   ]
  },
  {
   "cell_type": "code",
   "execution_count": null,
   "metadata": {
    "id": "ykSeJL396V7q"
   },
   "outputs": [],
   "source": [
    "m = [0.01,0.001]\n",
    "selectedMag = [2,2.5,3,3.5,4]"
   ]
  },
  {
   "cell_type": "code",
   "execution_count": null,
   "metadata": {
    "colab": {
     "base_uri": "https://localhost:8080/"
    },
    "id": "_r9aXmem7F3D",
    "outputId": "c4428aba-9592-421f-e769-0761288fbb65"
   },
   "outputs": [],
   "source": [
    "goodData[goodData[\"mag\"]>=4][\"gaps\"].mean()"
   ]
  },
  {
   "cell_type": "code",
   "execution_count": null,
   "metadata": {
    "colab": {
     "base_uri": "https://localhost:8080/"
    },
    "id": "X6cyHFoU7iRd",
    "outputId": "2ba9f91a-b79c-4c56-e89b-bbcf78974964"
   },
   "outputs": [],
   "source": [
    "goodData.gaps.mean()"
   ]
  },
  {
   "cell_type": "code",
   "execution_count": null,
   "metadata": {
    "id": "xlRdazgdhMGa"
   },
   "outputs": [],
   "source": [
    "colum = ['mag', 'm', 'N']\n",
    "for i in selectedMag:\n",
    "  colum.append(str(i))\n",
    "table1 = pd.DataFrame(columns = colum)"
   ]
  },
  {
   "cell_type": "code",
   "execution_count": null,
   "metadata": {
    "id": "HNvXBV8e6X8S"
   },
   "outputs": [],
   "source": [
    "for i in m:\n",
    "  for j in selectedMag:\n",
    "    for k in [1,2]:\n",
    "      Rk = 1/goodData[goodData[\"mag\"] >= j][\"gaps\"].mean()\n",
    "      # We select the indices of the rows that are below the threshold\n",
    "      indexTemp = goodData[(goodData.mag >= j) & (goodData.gaps <= i)].index.tolist()\n",
    "      # Normalize the gap by multiplying the constant Rk\n",
    "      goodData[\"gaps\"] = np.where(goodData[\"gaps\"] >= j, goodData[\"gaps\"]*Rk, goodData[\"gaps\"])\n",
    "      # Drop the entries below the threshold\n",
    "      goodData.drop(indexTemp, inplace=True)      \n",
    " \n",
    "  for j in range(len(selectedMag)):\n",
    "    # Create a temporal list to store the data to be included in table1\n",
    "    # It contains the magnitude, threshold, number of events\n",
    "    insertTemp = [selectedMag[j], i, goodData[goodData.mag >= selectedMag[j]].shape[0]]\n",
    "    \n",
    "    for k in range(len(selectedMag)):\n",
    "      temp = stats.ks_2samp(np.log(goodData[goodData.mag >= selectedMag[j]][\"gaps\"]), np.log(goodData[goodData.mag >= selectedMag[k]][\"gaps\"]))\n",
    "      temp = stats.ks_2samp(np.log(goodData[goodData.mag >= selectedMag[j]][\"gaps\"]), np.log(goodData[goodData.mag >= selectedMag[k]][\"gaps\"]))\n",
    "      if k > j :\n",
    "        insertTemp.append(str(round(temp[1]*100)) + \"%\")\n",
    "      elif j > k:\n",
    "        insertTemp.append(str(round(temp[0],3)))\n",
    "      else:\n",
    "        insertTemp.append(\"-\")\n",
    "    \n",
    "    insertTemp = dict(zip(table1.columns.tolist(),insertTemp))\n",
    "    table1 = table1.append(insertTemp, ignore_index = True)"
   ]
  },
  {
   "cell_type": "code",
   "execution_count": null,
   "metadata": {
    "colab": {
     "base_uri": "https://localhost:8080/",
     "height": 990
    },
    "id": "xkLInuXT94ln",
    "outputId": "d3631f7e-d2cd-42fb-c4a0-39246f6f8ec2"
   },
   "outputs": [],
   "source": [
    "table1"
   ]
  },
  {
   "cell_type": "code",
   "execution_count": null,
   "metadata": {
    "id": "41fYP-QbjvFp"
   },
   "outputs": [],
   "source": [
    "Write table caption here- describing k-s test results, p-values"
   ]
  },
  {
   "cell_type": "markdown",
   "metadata": {
    "id": "ocy5Fd1rdmlX"
   },
   "source": [
    "Let's check that in fact we normalized the dataset\n"
   ]
  },
  {
   "cell_type": "code",
   "execution_count": null,
   "metadata": {
    "colab": {
     "base_uri": "https://localhost:8080/",
     "height": 206
    },
    "id": "ZWovATniJ9gI",
    "outputId": "bfff8201-4d3e-4bb6-a1f3-edfacb6f031d"
   },
   "outputs": [],
   "source": [
    "goodData.head()"
   ]
  },
  {
   "cell_type": "code",
   "execution_count": null,
   "metadata": {
    "colab": {
     "base_uri": "https://localhost:8080/",
     "height": 523
    },
    "id": "c1Dkq5hfEQD-",
    "outputId": "98073e3a-db13-48c5-fd84-017c590dccdd"
   },
   "outputs": [],
   "source": [
    "ax_prob = pl.figure(figsize = (10,6)).add_subplot(111)\n",
    "for i in selectedMag:\n",
    "  # Total numer of events with magnitude greater or equal than i\n",
    "  temp = goodData[goodData.mag >= i][\"gaps\"]\n",
    "  total = temp.shape[0]\n",
    "  print(\"total {}, mag {}\".format(total,i))\n",
    "  # Create an equally spaced interval to count the number of events\n",
    "  x_axis = np.linspace(temp.min(),temp.max(),1000)\n",
    "  y_axis = np.zeros(x_axis.size)\n",
    "  for j in range(x_axis.size):\n",
    "    y_axis[j] = temp[temp <= x_axis[j]].shape[0] / total\n",
    "  \n",
    "  ax_prob.plot(x_axis,y_axis,label=i)\n",
    "\n",
    "ax_prob.set_xscale('log')\n",
    "pl.title('Cumulative Probability Distributions',fontsize=20)\n",
    "pl.xlabel('Earthquake Intervals (logarithmic)')\n",
    "pl.ylabel('Cumulative Probability')\n",
    "pl.legend()"
   ]
  },
  {
   "cell_type": "markdown",
   "metadata": {
    "id": "XLjAnzYVj3nO"
   },
   "source": [
    "Write caption of figure here - confirming table results graphically."
   ]
  },
  {
   "cell_type": "markdown",
   "metadata": {
    "id": "6y4wb6lEZsGV"
   },
   "source": [
    "Did you find any statistical significant differences between the distributions? What does it mean? Is your result identical to Correll's 2018? Why or why not? **Discuss!**"
   ]
  },
  {
   "cell_type": "markdown",
   "metadata": {
    "id": "8bQwtZi4Z0pi"
   },
   "source": [
    "### \"extra credits\"\n",
    "\n",
    "**How could you _force_ a significant result?**\n",
    "Organize your result for different magnitude threshold in a numpy array (it should be a 5x5 array) for both cutoffs (0.01 and 0.001). Each of these arrays should contain the p-value for the pair of distributions i,j in cell \\[i\\]\\[j\\] and \\[j\\]\\[i\\]. Use ```imshow``` to visualize this 2D data. FIrst visualize the matrix itself as done below."
   ]
  },
  {
   "cell_type": "code",
   "execution_count": null,
   "metadata": {
    "ExecuteTime": {
     "end_time": "2019-09-09T02:02:18.672458Z",
     "start_time": "2019-09-09T02:02:18.553137Z"
    },
    "id": "mqQSdpVEhXs5"
   },
   "outputs": [],
   "source": [
    "# your code here\n",
    "        \n",
    "pl.imshow((ks_001));\n",
    "pl.axis('off')\n",
    "cb = pl.colorbar()\n",
    "cb.ax.set_ylabel(r'$p$-value')\n",
    "pl.title(\"KS test results\");\n",
    "#add a caption"
   ]
  },
  {
   "cell_type": "markdown",
   "metadata": {
    "id": "tSJmSMCmmA3w"
   },
   "source": [
    "\n",
    "Now visualize the result as a matrix where the cells are white if the results is not statistically significant and red otherwise. \n",
    "After doing it fot the set alpha threshold, lower your alpha threshold so that at least one pair of distribution has a statistically significant difference. **Warning!! this is an _unethical and horrifying practice_! Once you chose your significance threshold you are never allowed to change it! Why? Discuss**"
   ]
  },
  {
   "cell_type": "markdown",
   "metadata": {
    "id": "txEYubwCcIXP"
   },
   "source": [
    "Redoing it for threshold 0001"
   ]
  }
 ],
 "metadata": {
  "colab": {
   "collapsed_sections": [
    "Uk3iBT7phXry",
    "M-h5uhgfhXr6",
    "dYP53BzDhXsG",
    "8bQwtZi4Z0pi"
   ],
   "include_colab_link": true,
   "name": "KS_earthquakes.ipynb",
   "provenance": []
  },
  "kernelspec": {
   "display_name": "Python 3",
   "language": "python",
   "name": "python3"
  },
  "language_info": {
   "codemirror_mode": {
    "name": "ipython",
    "version": 3
   },
   "file_extension": ".py",
   "mimetype": "text/x-python",
   "name": "python",
   "nbconvert_exporter": "python",
   "pygments_lexer": "ipython3",
   "version": "3.6.8"
  },
  "latex_envs": {
   "LaTeX_envs_menu_present": true,
   "autoclose": false,
   "autocomplete": true,
   "bibliofile": "biblio.bib",
   "cite_by": "apalike",
   "current_citInitial": 1,
   "eqLabelWithNumbers": true,
   "eqNumInitial": 1,
   "hotkeys": {
    "equation": "Ctrl-E",
    "itemize": "Ctrl-I"
   },
   "labels_anchors": false,
   "latex_user_defs": false,
   "report_style_numbering": false,
   "user_envs_cfg": false
  },
  "nbTranslate": {
   "displayLangs": [
    "*"
   ],
   "hotkey": "alt-t",
   "langInMainMenu": true,
   "sourceLang": "en",
   "targetLang": "fr",
   "useGoogleTranslate": true
  },
  "toc": {
   "base_numbering": 1,
   "nav_menu": {},
   "number_sections": true,
   "sideBar": true,
   "skip_h1_title": false,
   "title_cell": "Table of Contents",
   "title_sidebar": "Contents",
   "toc_cell": false,
   "toc_position": {},
   "toc_section_display": true,
   "toc_window_display": false
  }
 },
 "nbformat": 4,
 "nbformat_minor": 1
}
